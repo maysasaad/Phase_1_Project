{
 "cells": [
  {
   "cell_type": "markdown",
   "metadata": {},
   "source": [
    "## Final Project Submission\n",
    "\n",
    "Please fill out:\n",
    "* Student name:Mays Alkhwitar\n",
    "* Student pace: self paced \n",
    "* Scheduled project review date/time: \n",
    "* Instructor name:Claude Fried \n",
    "* Blog post URL:https://github.com/maysasaad/Phase_1_Project\n"
   ]
  },
  {
   "cell_type": "markdown",
   "metadata": {},
   "source": [
    "# Box Office Revinues"
   ]
  },
  {
   "cell_type": "markdown",
   "metadata": {},
   "source": [
    "![2222.png](images/2222.png)"
   ]
  },
  {
   "cell_type": "markdown",
   "metadata": {},
   "source": [
    "## Overview"
   ]
  },
  {
   "cell_type": "markdown",
   "metadata": {},
   "source": [
    "This project involves the examination of essential data required by Microsoft for establishing a film studio and generating successful box office movies. It includes a detailed analysis of movies that have achieved significant box office revenues. The resulting data offers three valuable recommendations that Microsoft can utilize to make informed decisions on producing prosperous movies."
   ]
  },
  {
   "cell_type": "markdown",
   "metadata": {},
   "source": [
    "## Business Problem"
   ]
  },
  {
   "cell_type": "markdown",
   "metadata": {},
   "source": [
    "Microsoft has made a decision to create its own movie studio with a focus on producing highly successful box office hits. The proposed solution is based on data from the most successful movies at the box office. A deep investigation has been done to reveal the most effective factors in the movie's revenues."
   ]
  },
  {
   "cell_type": "markdown",
   "metadata": {},
   "source": [
    "## The Data Source and Data Exploration"
   ]
  },
  {
   "cell_type": "markdown",
   "metadata": {},
   "source": [
    "In this project, I work with a Dataset, which can be found in the folder zipped data and included data from the most popular websites for Movies rating :\n",
    "\n",
    "Box Office Mojo (https://www.boxofficemojo.com/)\n",
    "\n",
    "IMDB (https://www.imdb.com/)\n",
    "\n",
    "Rotten Tomatoes (https://www.rottentomatoes.com/)\n",
    "\n",
    "TheMovieDB (https://www.themoviedb.org/)\n",
    "\n",
    "The Numbers (https://www.the-numbers.com/)\n",
    "\n",
    "The final dataset that I used consists of 1236029 rows and 12 columns ,and included movie movie information such as (Title,genre ,runtime,rating ,number of votes,director,release_date,currency,box_office profits,review,critic and publisher)"
   ]
  },
  {
   "cell_type": "markdown",
   "metadata": {},
   "source": [
    "## Data Analysis\n",
    "Data Won’t Speak Unless we Ask It The Right Data Analysis Questions .To help transform data into business decisions, we should start preparing the pain points we want to gain insights into.\n",
    "\n",
    "On our study case here we use descriptive ,statistical calculations and visual analysis to study film industry trends, specifically the factors that contribute to develop a sales strategy and increased box office revenues .We will Measure Movie’s Grossing by testing 3 factors affecting the movie’s revenues, so we will ask these questions :\n",
    "\n",
    "1-What is the average estimation of box office profits based on Movies Genres?\n",
    "\n",
    "2-What is the relationship between the movie's gross and the movie's Director's name?\n",
    "\n",
    "3-What is the distribution of Box office profits depending on the month that the movie releases on?"
   ]
  },
  {
   "cell_type": "markdown",
   "metadata": {},
   "source": [
    "## Data Preprocessing"
   ]
  },
  {
   "cell_type": "markdown",
   "metadata": {},
   "source": [
    "#### Import the necessary libraries\n",
    "\n",
    "In the cells below, we Import the necessary libraries, pandas,sqlite3,numpy ,matplotlib and seaborn.\n",
    "\n"
   ]
  },
  {
   "cell_type": "code",
   "execution_count": 1,
   "metadata": {},
   "outputs": [],
   "source": [
    "#Import the necessary libraries, pandas ,sqlite3 ,numpy,matplotlib and Seaborn using the standard alias\n",
    "\n",
    "import sqlite3 as sql\n",
    "import pandas as pd \n",
    "import numpy as np\n",
    "import matplotlib.pyplot as plt\n",
    "import seaborn as sns\n",
    "%matplotlib inline\n"
   ]
  },
  {
   "cell_type": "markdown",
   "metadata": {},
   "source": [
    "#### Connecting to the Database\n",
    "\n",
    "Establish a connection to the database data.SQLite called conn."
   ]
  },
  {
   "cell_type": "code",
   "execution_count": 2,
   "metadata": {},
   "outputs": [],
   "source": [
    "#connect to database\n",
    "conn = sql.connect(\"zippedData/im.db/im.db\")"
   ]
  },
  {
   "cell_type": "markdown",
   "metadata": {},
   "source": [
    "Now, we connected to our database (zippedData)"
   ]
  },
  {
   "cell_type": "code",
   "execution_count": 4,
   "metadata": {},
   "outputs": [],
   "source": [
    "#create a cursor.\n",
    "cur = conn.cursor()"
   ]
  },
  {
   "cell_type": "code",
   "execution_count": 5,
   "metadata": {
    "scrolled": true
   },
   "outputs": [
    {
     "data": {
      "text/plain": [
       "[('movie_basics',),\n",
       " ('directors',),\n",
       " ('known_for',),\n",
       " ('movie_akas',),\n",
       " ('movie_ratings',),\n",
       " ('persons',),\n",
       " ('principals',),\n",
       " ('writers',)]"
      ]
     },
     "execution_count": 5,
     "metadata": {},
     "output_type": "execute_result"
    }
   ],
   "source": [
    "# (This is a special query for finding the table names. \n",
    "cur.execute(\"\"\"SELECT name FROM sqlite_master WHERE type = 'table';\"\"\")\n",
    "# Fetch the result and store it in table_names\n",
    "table_names = cur.fetchall()\n",
    "table_names"
   ]
  },
  {
   "cell_type": "markdown",
   "metadata": {},
   "source": [
    "We displayed all the tables that are included in our database\n"
   ]
  },
  {
   "cell_type": "markdown",
   "metadata": {},
   "source": [
    "#### Data Understanding\n",
    "here's the ERD diagram for this database:"
   ]
  },
  {
   "cell_type": "markdown",
   "metadata": {},
   "source": [
    "![movie_data_erd.jpeg](movie_data_erd.jpeg)"
   ]
  },
  {
   "cell_type": "markdown",
   "metadata": {},
   "source": [
    "According to the schema there is a relationship between movie_basics and movie rating ....let us view them.\n"
   ]
  },
  {
   "cell_type": "markdown",
   "metadata": {},
   "source": [
    "#### Data Loading"
   ]
  },
  {
   "cell_type": "markdown",
   "metadata": {},
   "source": [
    "Use pd.read_sql to display the results of the query in a formatted table."
   ]
  },
  {
   "cell_type": "code",
   "execution_count": 6,
   "metadata": {},
   "outputs": [
    {
     "data": {
      "text/html": [
       "<div>\n",
       "<style scoped>\n",
       "    .dataframe tbody tr th:only-of-type {\n",
       "        vertical-align: middle;\n",
       "    }\n",
       "\n",
       "    .dataframe tbody tr th {\n",
       "        vertical-align: top;\n",
       "    }\n",
       "\n",
       "    .dataframe thead th {\n",
       "        text-align: right;\n",
       "    }\n",
       "</style>\n",
       "<table border=\"1\" class=\"dataframe\">\n",
       "  <thead>\n",
       "    <tr style=\"text-align: right;\">\n",
       "      <th></th>\n",
       "      <th>movie_id</th>\n",
       "      <th>primary_title</th>\n",
       "      <th>original_title</th>\n",
       "      <th>start_year</th>\n",
       "      <th>runtime_minutes</th>\n",
       "      <th>genres</th>\n",
       "    </tr>\n",
       "  </thead>\n",
       "  <tbody>\n",
       "    <tr>\n",
       "      <th>0</th>\n",
       "      <td>tt0187902</td>\n",
       "      <td>How Huang Fei-hong Rescued the Orphan from the...</td>\n",
       "      <td>How Huang Fei-hong Rescued the Orphan from the...</td>\n",
       "      <td>2011</td>\n",
       "      <td>NaN</td>\n",
       "      <td>None</td>\n",
       "    </tr>\n",
       "    <tr>\n",
       "      <th>1</th>\n",
       "      <td>tt0364201</td>\n",
       "      <td>Aman Ke Farishtey</td>\n",
       "      <td>Aman Ke Farishtey</td>\n",
       "      <td>2016</td>\n",
       "      <td>137.0</td>\n",
       "      <td>Action</td>\n",
       "    </tr>\n",
       "    <tr>\n",
       "      <th>2</th>\n",
       "      <td>tt6848590</td>\n",
       "      <td>Moonshine Meat Market Mayhem</td>\n",
       "      <td>Moonshine Meat Market Mayhem</td>\n",
       "      <td>2016</td>\n",
       "      <td>NaN</td>\n",
       "      <td>Action,Adult,Comedy</td>\n",
       "    </tr>\n",
       "    <tr>\n",
       "      <th>3</th>\n",
       "      <td>tt10097958</td>\n",
       "      <td>Gripped: Climbing Killer Pillar</td>\n",
       "      <td>Gripped: Climbing Killer Pillar</td>\n",
       "      <td>2019</td>\n",
       "      <td>NaN</td>\n",
       "      <td>Action,Adventure</td>\n",
       "    </tr>\n",
       "    <tr>\n",
       "      <th>4</th>\n",
       "      <td>tt0448694</td>\n",
       "      <td>Puss in Boots</td>\n",
       "      <td>Puss in Boots</td>\n",
       "      <td>2011</td>\n",
       "      <td>90.0</td>\n",
       "      <td>Action,Adventure,Animation</td>\n",
       "    </tr>\n",
       "    <tr>\n",
       "      <th>...</th>\n",
       "      <td>...</td>\n",
       "      <td>...</td>\n",
       "      <td>...</td>\n",
       "      <td>...</td>\n",
       "      <td>...</td>\n",
       "      <td>...</td>\n",
       "    </tr>\n",
       "    <tr>\n",
       "      <th>1081</th>\n",
       "      <td>tt5861250</td>\n",
       "      <td>The Wanderer</td>\n",
       "      <td>The Wanderer</td>\n",
       "      <td>2016</td>\n",
       "      <td>55.0</td>\n",
       "      <td>Thriller,War,Western</td>\n",
       "    </tr>\n",
       "    <tr>\n",
       "      <th>1082</th>\n",
       "      <td>tt1530983</td>\n",
       "      <td>Red Hill</td>\n",
       "      <td>Red Hill</td>\n",
       "      <td>2010</td>\n",
       "      <td>95.0</td>\n",
       "      <td>Thriller,Western</td>\n",
       "    </tr>\n",
       "    <tr>\n",
       "      <th>1083</th>\n",
       "      <td>tt10239930</td>\n",
       "      <td>Dog Company</td>\n",
       "      <td>Dog Company</td>\n",
       "      <td>2019</td>\n",
       "      <td>NaN</td>\n",
       "      <td>War</td>\n",
       "    </tr>\n",
       "    <tr>\n",
       "      <th>1084</th>\n",
       "      <td>tt5009172</td>\n",
       "      <td>Dalibor, the Yugo Cowboy</td>\n",
       "      <td>Dalibor, the Yugo Cowboy</td>\n",
       "      <td>2014</td>\n",
       "      <td>138.0</td>\n",
       "      <td>War,Western</td>\n",
       "    </tr>\n",
       "    <tr>\n",
       "      <th>1085</th>\n",
       "      <td>tt0840789</td>\n",
       "      <td>Río de oro</td>\n",
       "      <td>Río de oro</td>\n",
       "      <td>2010</td>\n",
       "      <td>NaN</td>\n",
       "      <td>Western</td>\n",
       "    </tr>\n",
       "  </tbody>\n",
       "</table>\n",
       "<p>1086 rows × 6 columns</p>\n",
       "</div>"
      ],
      "text/plain": [
       "        movie_id                                      primary_title  \\\n",
       "0      tt0187902  How Huang Fei-hong Rescued the Orphan from the...   \n",
       "1      tt0364201                                  Aman Ke Farishtey   \n",
       "2      tt6848590                       Moonshine Meat Market Mayhem   \n",
       "3     tt10097958                    Gripped: Climbing Killer Pillar   \n",
       "4      tt0448694                                      Puss in Boots   \n",
       "...          ...                                                ...   \n",
       "1081   tt5861250                                       The Wanderer   \n",
       "1082   tt1530983                                           Red Hill   \n",
       "1083  tt10239930                                        Dog Company   \n",
       "1084   tt5009172                           Dalibor, the Yugo Cowboy   \n",
       "1085   tt0840789                                         Río de oro   \n",
       "\n",
       "                                         original_title  start_year  \\\n",
       "0     How Huang Fei-hong Rescued the Orphan from the...        2011   \n",
       "1                                     Aman Ke Farishtey        2016   \n",
       "2                          Moonshine Meat Market Mayhem        2016   \n",
       "3                       Gripped: Climbing Killer Pillar        2019   \n",
       "4                                         Puss in Boots        2011   \n",
       "...                                                 ...         ...   \n",
       "1081                                       The Wanderer        2016   \n",
       "1082                                           Red Hill        2010   \n",
       "1083                                        Dog Company        2019   \n",
       "1084                           Dalibor, the Yugo Cowboy        2014   \n",
       "1085                                         Río de oro        2010   \n",
       "\n",
       "      runtime_minutes                      genres  \n",
       "0                 NaN                        None  \n",
       "1               137.0                      Action  \n",
       "2                 NaN         Action,Adult,Comedy  \n",
       "3                 NaN            Action,Adventure  \n",
       "4                90.0  Action,Adventure,Animation  \n",
       "...               ...                         ...  \n",
       "1081             55.0        Thriller,War,Western  \n",
       "1082             95.0            Thriller,Western  \n",
       "1083              NaN                         War  \n",
       "1084            138.0                 War,Western  \n",
       "1085              NaN                     Western  \n",
       "\n",
       "[1086 rows x 6 columns]"
      ]
     },
     "execution_count": 6,
     "metadata": {},
     "output_type": "execute_result"
    }
   ],
   "source": [
    "# Selecting All Data from the movie_basics table and group the data by geners (the types of the movies)\n",
    "# view the top 5 rows of the dataframe use .head() method.\n",
    "\n",
    "pd.read_sql(\"\"\" SELECT  *          \n",
    "FROM movie_basics \n",
    "GROUP BY genres\n",
    ";\"\"\",conn  )"
   ]
  },
  {
   "cell_type": "markdown",
   "metadata": {},
   "source": [
    "#### Identifying and Handling Missing Values"
   ]
  },
  {
   "cell_type": "markdown",
   "metadata": {},
   "source": [
    "We notice that the movie_basic dataframe has NaN values , let us remove these NaN values from our dataframe using WHERE clause"
   ]
  },
  {
   "cell_type": "code",
   "execution_count": 7,
   "metadata": {
    "scrolled": true
   },
   "outputs": [
    {
     "data": {
      "text/html": [
       "<div>\n",
       "<style scoped>\n",
       "    .dataframe tbody tr th:only-of-type {\n",
       "        vertical-align: middle;\n",
       "    }\n",
       "\n",
       "    .dataframe tbody tr th {\n",
       "        vertical-align: top;\n",
       "    }\n",
       "\n",
       "    .dataframe thead th {\n",
       "        text-align: right;\n",
       "    }\n",
       "</style>\n",
       "<table border=\"1\" class=\"dataframe\">\n",
       "  <thead>\n",
       "    <tr style=\"text-align: right;\">\n",
       "      <th></th>\n",
       "      <th>movie_id</th>\n",
       "      <th>primary_title</th>\n",
       "      <th>original_title</th>\n",
       "      <th>start_year</th>\n",
       "      <th>runtime_minutes</th>\n",
       "      <th>genres</th>\n",
       "    </tr>\n",
       "  </thead>\n",
       "  <tbody>\n",
       "    <tr>\n",
       "      <th>0</th>\n",
       "      <td>tt0364201</td>\n",
       "      <td>Aman Ke Farishtey</td>\n",
       "      <td>Aman Ke Farishtey</td>\n",
       "      <td>2016</td>\n",
       "      <td>137.0</td>\n",
       "      <td>Action</td>\n",
       "    </tr>\n",
       "    <tr>\n",
       "      <th>1</th>\n",
       "      <td>tt6848590</td>\n",
       "      <td>Moonshine Meat Market Mayhem</td>\n",
       "      <td>Moonshine Meat Market Mayhem</td>\n",
       "      <td>2016</td>\n",
       "      <td>NaN</td>\n",
       "      <td>Action,Adult,Comedy</td>\n",
       "    </tr>\n",
       "    <tr>\n",
       "      <th>2</th>\n",
       "      <td>tt10097958</td>\n",
       "      <td>Gripped: Climbing Killer Pillar</td>\n",
       "      <td>Gripped: Climbing Killer Pillar</td>\n",
       "      <td>2019</td>\n",
       "      <td>NaN</td>\n",
       "      <td>Action,Adventure</td>\n",
       "    </tr>\n",
       "    <tr>\n",
       "      <th>3</th>\n",
       "      <td>tt0448694</td>\n",
       "      <td>Puss in Boots</td>\n",
       "      <td>Puss in Boots</td>\n",
       "      <td>2011</td>\n",
       "      <td>90.0</td>\n",
       "      <td>Action,Adventure,Animation</td>\n",
       "    </tr>\n",
       "    <tr>\n",
       "      <th>4</th>\n",
       "      <td>tt1390411</td>\n",
       "      <td>In the Heart of the Sea</td>\n",
       "      <td>In the Heart of the Sea</td>\n",
       "      <td>2015</td>\n",
       "      <td>122.0</td>\n",
       "      <td>Action,Adventure,Biography</td>\n",
       "    </tr>\n",
       "    <tr>\n",
       "      <th>...</th>\n",
       "      <td>...</td>\n",
       "      <td>...</td>\n",
       "      <td>...</td>\n",
       "      <td>...</td>\n",
       "      <td>...</td>\n",
       "      <td>...</td>\n",
       "    </tr>\n",
       "    <tr>\n",
       "      <th>1080</th>\n",
       "      <td>tt5861250</td>\n",
       "      <td>The Wanderer</td>\n",
       "      <td>The Wanderer</td>\n",
       "      <td>2016</td>\n",
       "      <td>55.0</td>\n",
       "      <td>Thriller,War,Western</td>\n",
       "    </tr>\n",
       "    <tr>\n",
       "      <th>1081</th>\n",
       "      <td>tt1530983</td>\n",
       "      <td>Red Hill</td>\n",
       "      <td>Red Hill</td>\n",
       "      <td>2010</td>\n",
       "      <td>95.0</td>\n",
       "      <td>Thriller,Western</td>\n",
       "    </tr>\n",
       "    <tr>\n",
       "      <th>1082</th>\n",
       "      <td>tt10239930</td>\n",
       "      <td>Dog Company</td>\n",
       "      <td>Dog Company</td>\n",
       "      <td>2019</td>\n",
       "      <td>NaN</td>\n",
       "      <td>War</td>\n",
       "    </tr>\n",
       "    <tr>\n",
       "      <th>1083</th>\n",
       "      <td>tt5009172</td>\n",
       "      <td>Dalibor, the Yugo Cowboy</td>\n",
       "      <td>Dalibor, the Yugo Cowboy</td>\n",
       "      <td>2014</td>\n",
       "      <td>138.0</td>\n",
       "      <td>War,Western</td>\n",
       "    </tr>\n",
       "    <tr>\n",
       "      <th>1084</th>\n",
       "      <td>tt0840789</td>\n",
       "      <td>Río de oro</td>\n",
       "      <td>Río de oro</td>\n",
       "      <td>2010</td>\n",
       "      <td>NaN</td>\n",
       "      <td>Western</td>\n",
       "    </tr>\n",
       "  </tbody>\n",
       "</table>\n",
       "<p>1085 rows × 6 columns</p>\n",
       "</div>"
      ],
      "text/plain": [
       "        movie_id                    primary_title  \\\n",
       "0      tt0364201                Aman Ke Farishtey   \n",
       "1      tt6848590     Moonshine Meat Market Mayhem   \n",
       "2     tt10097958  Gripped: Climbing Killer Pillar   \n",
       "3      tt0448694                    Puss in Boots   \n",
       "4      tt1390411          In the Heart of the Sea   \n",
       "...          ...                              ...   \n",
       "1080   tt5861250                     The Wanderer   \n",
       "1081   tt1530983                         Red Hill   \n",
       "1082  tt10239930                      Dog Company   \n",
       "1083   tt5009172         Dalibor, the Yugo Cowboy   \n",
       "1084   tt0840789                       Río de oro   \n",
       "\n",
       "                       original_title  start_year  runtime_minutes  \\\n",
       "0                   Aman Ke Farishtey        2016            137.0   \n",
       "1        Moonshine Meat Market Mayhem        2016              NaN   \n",
       "2     Gripped: Climbing Killer Pillar        2019              NaN   \n",
       "3                       Puss in Boots        2011             90.0   \n",
       "4             In the Heart of the Sea        2015            122.0   \n",
       "...                               ...         ...              ...   \n",
       "1080                     The Wanderer        2016             55.0   \n",
       "1081                         Red Hill        2010             95.0   \n",
       "1082                      Dog Company        2019              NaN   \n",
       "1083         Dalibor, the Yugo Cowboy        2014            138.0   \n",
       "1084                       Río de oro        2010              NaN   \n",
       "\n",
       "                          genres  \n",
       "0                         Action  \n",
       "1            Action,Adult,Comedy  \n",
       "2               Action,Adventure  \n",
       "3     Action,Adventure,Animation  \n",
       "4     Action,Adventure,Biography  \n",
       "...                          ...  \n",
       "1080        Thriller,War,Western  \n",
       "1081            Thriller,Western  \n",
       "1082                         War  \n",
       "1083                 War,Western  \n",
       "1084                     Western  \n",
       "\n",
       "[1085 rows x 6 columns]"
      ]
     },
     "execution_count": 7,
     "metadata": {},
     "output_type": "execute_result"
    }
   ],
   "source": [
    "#Selecting All Data from the movie_basic\n",
    "# clean the data from Null values\n",
    "\n",
    "pd.read_sql(\"\"\" SELECT  *          \n",
    "FROM movie_basics \n",
    "WHERE genres IS NOT NULL AND original_title IS NOT NULL\n",
    "GROUP BY genres\n",
    ";\"\"\",conn )"
   ]
  },
  {
   "cell_type": "markdown",
   "metadata": {},
   "source": [
    "Now ,the movie_basic dataframe has no null values."
   ]
  },
  {
   "cell_type": "markdown",
   "metadata": {},
   "source": [
    "#### Viewing the movie_rating data frame\n",
    "Use pd.read_sql to display the results of the query in a formatted table\n",
    "\n",
    "Write a query that gets the average rating."
   ]
  },
  {
   "cell_type": "code",
   "execution_count": 8,
   "metadata": {},
   "outputs": [
    {
     "data": {
      "text/html": [
       "<div>\n",
       "<style scoped>\n",
       "    .dataframe tbody tr th:only-of-type {\n",
       "        vertical-align: middle;\n",
       "    }\n",
       "\n",
       "    .dataframe tbody tr th {\n",
       "        vertical-align: top;\n",
       "    }\n",
       "\n",
       "    .dataframe thead th {\n",
       "        text-align: right;\n",
       "    }\n",
       "</style>\n",
       "<table border=\"1\" class=\"dataframe\">\n",
       "  <thead>\n",
       "    <tr style=\"text-align: right;\">\n",
       "      <th></th>\n",
       "      <th>movie_id</th>\n",
       "      <th>averagerating</th>\n",
       "      <th>numvotes</th>\n",
       "    </tr>\n",
       "  </thead>\n",
       "  <tbody>\n",
       "    <tr>\n",
       "      <th>0</th>\n",
       "      <td>tt7762194</td>\n",
       "      <td>1.0</td>\n",
       "      <td>67</td>\n",
       "    </tr>\n",
       "    <tr>\n",
       "      <th>1</th>\n",
       "      <td>tt7620554</td>\n",
       "      <td>1.1</td>\n",
       "      <td>598</td>\n",
       "    </tr>\n",
       "    <tr>\n",
       "      <th>2</th>\n",
       "      <td>tt7563496</td>\n",
       "      <td>1.2</td>\n",
       "      <td>86</td>\n",
       "    </tr>\n",
       "    <tr>\n",
       "      <th>3</th>\n",
       "      <td>tt8081062</td>\n",
       "      <td>1.3</td>\n",
       "      <td>3244</td>\n",
       "    </tr>\n",
       "    <tr>\n",
       "      <th>4</th>\n",
       "      <td>tt1736000</td>\n",
       "      <td>1.4</td>\n",
       "      <td>5</td>\n",
       "    </tr>\n",
       "    <tr>\n",
       "      <th>...</th>\n",
       "      <td>...</td>\n",
       "      <td>...</td>\n",
       "      <td>...</td>\n",
       "    </tr>\n",
       "    <tr>\n",
       "      <th>86</th>\n",
       "      <td>tt9680166</td>\n",
       "      <td>9.6</td>\n",
       "      <td>624</td>\n",
       "    </tr>\n",
       "    <tr>\n",
       "      <th>87</th>\n",
       "      <td>tt7541970</td>\n",
       "      <td>9.7</td>\n",
       "      <td>6</td>\n",
       "    </tr>\n",
       "    <tr>\n",
       "      <th>88</th>\n",
       "      <td>tt3450432</td>\n",
       "      <td>9.8</td>\n",
       "      <td>5</td>\n",
       "    </tr>\n",
       "    <tr>\n",
       "      <th>89</th>\n",
       "      <td>tt9743544</td>\n",
       "      <td>9.9</td>\n",
       "      <td>8</td>\n",
       "    </tr>\n",
       "    <tr>\n",
       "      <th>90</th>\n",
       "      <td>tt5390098</td>\n",
       "      <td>10.0</td>\n",
       "      <td>5</td>\n",
       "    </tr>\n",
       "  </tbody>\n",
       "</table>\n",
       "<p>91 rows × 3 columns</p>\n",
       "</div>"
      ],
      "text/plain": [
       "     movie_id  averagerating  numvotes\n",
       "0   tt7762194            1.0        67\n",
       "1   tt7620554            1.1       598\n",
       "2   tt7563496            1.2        86\n",
       "3   tt8081062            1.3      3244\n",
       "4   tt1736000            1.4         5\n",
       "..        ...            ...       ...\n",
       "86  tt9680166            9.6       624\n",
       "87  tt7541970            9.7         6\n",
       "88  tt3450432            9.8         5\n",
       "89  tt9743544            9.9         8\n",
       "90  tt5390098           10.0         5\n",
       "\n",
       "[91 rows x 3 columns]"
      ]
     },
     "execution_count": 8,
     "metadata": {},
     "output_type": "execute_result"
    }
   ],
   "source": [
    "# Selecting All Data from the movie_rating table and group the data by avarage rrating\n",
    "pd.read_sql(\"\"\" SELECT  * \n",
    "FROM movie_ratings\n",
    "GROUP BY averagerating\n",
    ";\"\"\",conn)"
   ]
  },
  {
   "cell_type": "markdown",
   "metadata": {},
   "source": [
    "#### Joining the movie_basics and movie_ratings together\n",
    "\n",
    "Write a query that uses JOIN statements to get the genres and average rating.\n",
    "\n",
    "Refer to the ERD above to understand which tables contain these pieces of information, and the relationship between these tables.\n",
    "\n",
    "Join movie_basics and movie_ratings tables based on shared key (\"movie_id\")\n",
    "\n",
    "joining these two related tables based on the shared columns between them. group the new data frame by genres (movies type)\n",
    "\n",
    "filter the result by using the clause (having) to set a condition that displays the movies are having rate over 5 displayed the\n",
    "\n",
    "new data frame from the highest to lowest rate view only 300 rows by using limit."
   ]
  },
  {
   "cell_type": "code",
   "execution_count": 9,
   "metadata": {},
   "outputs": [
    {
     "data": {
      "text/html": [
       "<div>\n",
       "<style scoped>\n",
       "    .dataframe tbody tr th:only-of-type {\n",
       "        vertical-align: middle;\n",
       "    }\n",
       "\n",
       "    .dataframe tbody tr th {\n",
       "        vertical-align: top;\n",
       "    }\n",
       "\n",
       "    .dataframe thead th {\n",
       "        text-align: right;\n",
       "    }\n",
       "</style>\n",
       "<table border=\"1\" class=\"dataframe\">\n",
       "  <thead>\n",
       "    <tr style=\"text-align: right;\">\n",
       "      <th></th>\n",
       "      <th>Title</th>\n",
       "      <th>genres</th>\n",
       "      <th>runtime</th>\n",
       "      <th>rating</th>\n",
       "      <th>numvotes</th>\n",
       "    </tr>\n",
       "  </thead>\n",
       "  <tbody>\n",
       "    <tr>\n",
       "      <th>0</th>\n",
       "      <td>Love on a Leash</td>\n",
       "      <td>Documentary,Family,Romance</td>\n",
       "      <td>10.0</td>\n",
       "      <td>9.7</td>\n",
       "      <td>25</td>\n",
       "    </tr>\n",
       "    <tr>\n",
       "      <th>1</th>\n",
       "      <td>Foosballers</td>\n",
       "      <td>Comedy,Documentary,Sport</td>\n",
       "      <td>NaN</td>\n",
       "      <td>9.7</td>\n",
       "      <td>22</td>\n",
       "    </tr>\n",
       "    <tr>\n",
       "      <th>2</th>\n",
       "      <td>Lost Conquest</td>\n",
       "      <td>Comedy,Documentary,Fantasy</td>\n",
       "      <td>70.0</td>\n",
       "      <td>9.4</td>\n",
       "      <td>5</td>\n",
       "    </tr>\n",
       "    <tr>\n",
       "      <th>3</th>\n",
       "      <td>Sunakali</td>\n",
       "      <td>Documentary,Family,Musical</td>\n",
       "      <td>59.0</td>\n",
       "      <td>9.3</td>\n",
       "      <td>19</td>\n",
       "    </tr>\n",
       "    <tr>\n",
       "      <th>4</th>\n",
       "      <td>The Long Count Teaser</td>\n",
       "      <td>History,Sport</td>\n",
       "      <td>NaN</td>\n",
       "      <td>9.2</td>\n",
       "      <td>5</td>\n",
       "    </tr>\n",
       "  </tbody>\n",
       "</table>\n",
       "</div>"
      ],
      "text/plain": [
       "                   Title                      genres  runtime  rating  \\\n",
       "0        Love on a Leash  Documentary,Family,Romance     10.0     9.7   \n",
       "1            Foosballers    Comedy,Documentary,Sport      NaN     9.7   \n",
       "2          Lost Conquest  Comedy,Documentary,Fantasy     70.0     9.4   \n",
       "3               Sunakali  Documentary,Family,Musical     59.0     9.3   \n",
       "4  The Long Count Teaser               History,Sport      NaN     9.2   \n",
       "\n",
       "   numvotes  \n",
       "0        25  \n",
       "1        22  \n",
       "2         5  \n",
       "3        19  \n",
       "4         5  "
      ]
     },
     "execution_count": 9,
     "metadata": {},
     "output_type": "execute_result"
    }
   ],
   "source": [
    "# Join movie_basics and movie_ratings tables to create df data frame.\n",
    "# group df data frame by genres using GROUP BY.\n",
    "# filtering the data frame using (HAVING) to chose high rates movies\n",
    "# display the data frame from highest to lowest movies rate using ORDER BY.\n",
    "\n",
    "movie1 = pd.read_sql(\"\"\" SELECT \n",
    "                b.original_title AS Title,\n",
    "                b.genres AS genres ,\n",
    "                b.runtime_minutes AS runtime,\n",
    "                r.averagerating AS rating ,\n",
    "                r.numvotes\n",
    "FROM movie_basics b \n",
    "JOIN movie_ratings r\n",
    "USING (\"movie_id\")\n",
    "GROUP BY genres\n",
    "HAVING (averagerating BETWEEN 7 AND 10)\n",
    "ORDER BY averagerating DESC\n",
    ";\"\"\",conn) \n",
    "movie1.head()"
   ]
  },
  {
   "cell_type": "markdown",
   "metadata": {},
   "source": [
    "Load the data from (movie_info.tsv.gz) CSV file as a DataFrame and clean it as a first step"
   ]
  },
  {
   "cell_type": "code",
   "execution_count": 11,
   "metadata": {},
   "outputs": [
    {
     "data": {
      "text/html": [
       "<div>\n",
       "<style scoped>\n",
       "    .dataframe tbody tr th:only-of-type {\n",
       "        vertical-align: middle;\n",
       "    }\n",
       "\n",
       "    .dataframe tbody tr th {\n",
       "        vertical-align: top;\n",
       "    }\n",
       "\n",
       "    .dataframe thead th {\n",
       "        text-align: right;\n",
       "    }\n",
       "</style>\n",
       "<table border=\"1\" class=\"dataframe\">\n",
       "  <thead>\n",
       "    <tr style=\"text-align: right;\">\n",
       "      <th></th>\n",
       "      <th>id</th>\n",
       "      <th>synopsis</th>\n",
       "      <th>rating</th>\n",
       "      <th>genre</th>\n",
       "      <th>director</th>\n",
       "      <th>writer</th>\n",
       "      <th>theater_date</th>\n",
       "      <th>dvd_date</th>\n",
       "      <th>currency</th>\n",
       "      <th>box_office</th>\n",
       "      <th>runtime</th>\n",
       "      <th>studio</th>\n",
       "    </tr>\n",
       "  </thead>\n",
       "  <tbody>\n",
       "    <tr>\n",
       "      <th>0</th>\n",
       "      <td>1</td>\n",
       "      <td>This gritty, fast-paced, and innovative police...</td>\n",
       "      <td>R</td>\n",
       "      <td>Action and Adventure|Classics|Drama</td>\n",
       "      <td>William Friedkin</td>\n",
       "      <td>Ernest Tidyman</td>\n",
       "      <td>Oct 9, 1971</td>\n",
       "      <td>Sep 25, 2001</td>\n",
       "      <td>NaN</td>\n",
       "      <td>NaN</td>\n",
       "      <td>104 minutes</td>\n",
       "      <td>NaN</td>\n",
       "    </tr>\n",
       "    <tr>\n",
       "      <th>1</th>\n",
       "      <td>3</td>\n",
       "      <td>New York City, not-too-distant-future: Eric Pa...</td>\n",
       "      <td>R</td>\n",
       "      <td>Drama|Science Fiction and Fantasy</td>\n",
       "      <td>David Cronenberg</td>\n",
       "      <td>David Cronenberg|Don DeLillo</td>\n",
       "      <td>Aug 17, 2012</td>\n",
       "      <td>Jan 1, 2013</td>\n",
       "      <td>$</td>\n",
       "      <td>600,000</td>\n",
       "      <td>108 minutes</td>\n",
       "      <td>Entertainment One</td>\n",
       "    </tr>\n",
       "    <tr>\n",
       "      <th>2</th>\n",
       "      <td>5</td>\n",
       "      <td>Illeana Douglas delivers a superb performance ...</td>\n",
       "      <td>R</td>\n",
       "      <td>Drama|Musical and Performing Arts</td>\n",
       "      <td>Allison Anders</td>\n",
       "      <td>Allison Anders</td>\n",
       "      <td>Sep 13, 1996</td>\n",
       "      <td>Apr 18, 2000</td>\n",
       "      <td>NaN</td>\n",
       "      <td>NaN</td>\n",
       "      <td>116 minutes</td>\n",
       "      <td>NaN</td>\n",
       "    </tr>\n",
       "    <tr>\n",
       "      <th>3</th>\n",
       "      <td>6</td>\n",
       "      <td>Michael Douglas runs afoul of a treacherous su...</td>\n",
       "      <td>R</td>\n",
       "      <td>Drama|Mystery and Suspense</td>\n",
       "      <td>Barry Levinson</td>\n",
       "      <td>Paul Attanasio|Michael Crichton</td>\n",
       "      <td>Dec 9, 1994</td>\n",
       "      <td>Aug 27, 1997</td>\n",
       "      <td>NaN</td>\n",
       "      <td>NaN</td>\n",
       "      <td>128 minutes</td>\n",
       "      <td>NaN</td>\n",
       "    </tr>\n",
       "    <tr>\n",
       "      <th>4</th>\n",
       "      <td>7</td>\n",
       "      <td>NaN</td>\n",
       "      <td>NR</td>\n",
       "      <td>Drama|Romance</td>\n",
       "      <td>Rodney Bennett</td>\n",
       "      <td>Giles Cooper</td>\n",
       "      <td>NaN</td>\n",
       "      <td>NaN</td>\n",
       "      <td>NaN</td>\n",
       "      <td>NaN</td>\n",
       "      <td>200 minutes</td>\n",
       "      <td>NaN</td>\n",
       "    </tr>\n",
       "  </tbody>\n",
       "</table>\n",
       "</div>"
      ],
      "text/plain": [
       "   id                                           synopsis rating  \\\n",
       "0   1  This gritty, fast-paced, and innovative police...      R   \n",
       "1   3  New York City, not-too-distant-future: Eric Pa...      R   \n",
       "2   5  Illeana Douglas delivers a superb performance ...      R   \n",
       "3   6  Michael Douglas runs afoul of a treacherous su...      R   \n",
       "4   7                                                NaN     NR   \n",
       "\n",
       "                                 genre          director  \\\n",
       "0  Action and Adventure|Classics|Drama  William Friedkin   \n",
       "1    Drama|Science Fiction and Fantasy  David Cronenberg   \n",
       "2    Drama|Musical and Performing Arts    Allison Anders   \n",
       "3           Drama|Mystery and Suspense    Barry Levinson   \n",
       "4                        Drama|Romance    Rodney Bennett   \n",
       "\n",
       "                            writer  theater_date      dvd_date currency  \\\n",
       "0                   Ernest Tidyman   Oct 9, 1971  Sep 25, 2001      NaN   \n",
       "1     David Cronenberg|Don DeLillo  Aug 17, 2012   Jan 1, 2013        $   \n",
       "2                   Allison Anders  Sep 13, 1996  Apr 18, 2000      NaN   \n",
       "3  Paul Attanasio|Michael Crichton   Dec 9, 1994  Aug 27, 1997      NaN   \n",
       "4                     Giles Cooper           NaN           NaN      NaN   \n",
       "\n",
       "  box_office      runtime             studio  \n",
       "0        NaN  104 minutes                NaN  \n",
       "1    600,000  108 minutes  Entertainment One  \n",
       "2        NaN  116 minutes                NaN  \n",
       "3        NaN  128 minutes                NaN  \n",
       "4        NaN  200 minutes                NaN  "
      ]
     },
     "execution_count": 11,
     "metadata": {},
     "output_type": "execute_result"
    }
   ],
   "source": [
    "# Import data from  (movie_info.tsv.gz) file\n",
    "# sep =\"\\t\" to read tsv files as cvs\n",
    "# view the top 5 rows from the data frame use .head()\n",
    "\n",
    "movie2 = pd.read_csv(\"zippedData/rt.movie_info.tsv.gz\",sep =\"\\t\")\n",
    "movie2.head()"
   ]
  },
  {
   "cell_type": "markdown",
   "metadata": {},
   "source": [
    " Load the Data from (\"zippedData/bom.movie_gross.csv.gz\") file as a DataFrame in pandas."
   ]
  },
  {
   "cell_type": "code",
   "execution_count": 13,
   "metadata": {
    "scrolled": true
   },
   "outputs": [
    {
     "data": {
      "text/html": [
       "<div>\n",
       "<style scoped>\n",
       "    .dataframe tbody tr th:only-of-type {\n",
       "        vertical-align: middle;\n",
       "    }\n",
       "\n",
       "    .dataframe tbody tr th {\n",
       "        vertical-align: top;\n",
       "    }\n",
       "\n",
       "    .dataframe thead th {\n",
       "        text-align: right;\n",
       "    }\n",
       "</style>\n",
       "<table border=\"1\" class=\"dataframe\">\n",
       "  <thead>\n",
       "    <tr style=\"text-align: right;\">\n",
       "      <th></th>\n",
       "      <th>title</th>\n",
       "      <th>studio</th>\n",
       "      <th>domestic_gross</th>\n",
       "      <th>foreign_gross</th>\n",
       "      <th>year</th>\n",
       "    </tr>\n",
       "  </thead>\n",
       "  <tbody>\n",
       "    <tr>\n",
       "      <th>0</th>\n",
       "      <td>Toy Story 3</td>\n",
       "      <td>BV</td>\n",
       "      <td>415000000.0</td>\n",
       "      <td>652000000</td>\n",
       "      <td>2010</td>\n",
       "    </tr>\n",
       "    <tr>\n",
       "      <th>1</th>\n",
       "      <td>Alice in Wonderland (2010)</td>\n",
       "      <td>BV</td>\n",
       "      <td>334200000.0</td>\n",
       "      <td>691300000</td>\n",
       "      <td>2010</td>\n",
       "    </tr>\n",
       "    <tr>\n",
       "      <th>2</th>\n",
       "      <td>Harry Potter and the Deathly Hallows Part 1</td>\n",
       "      <td>WB</td>\n",
       "      <td>296000000.0</td>\n",
       "      <td>664300000</td>\n",
       "      <td>2010</td>\n",
       "    </tr>\n",
       "    <tr>\n",
       "      <th>3</th>\n",
       "      <td>Inception</td>\n",
       "      <td>WB</td>\n",
       "      <td>292600000.0</td>\n",
       "      <td>535700000</td>\n",
       "      <td>2010</td>\n",
       "    </tr>\n",
       "    <tr>\n",
       "      <th>4</th>\n",
       "      <td>Shrek Forever After</td>\n",
       "      <td>P/DW</td>\n",
       "      <td>238700000.0</td>\n",
       "      <td>513900000</td>\n",
       "      <td>2010</td>\n",
       "    </tr>\n",
       "  </tbody>\n",
       "</table>\n",
       "</div>"
      ],
      "text/plain": [
       "                                         title studio  domestic_gross  \\\n",
       "0                                  Toy Story 3     BV     415000000.0   \n",
       "1                   Alice in Wonderland (2010)     BV     334200000.0   \n",
       "2  Harry Potter and the Deathly Hallows Part 1     WB     296000000.0   \n",
       "3                                    Inception     WB     292600000.0   \n",
       "4                          Shrek Forever After   P/DW     238700000.0   \n",
       "\n",
       "  foreign_gross  year  \n",
       "0     652000000  2010  \n",
       "1     691300000  2010  \n",
       "2     664300000  2010  \n",
       "3     535700000  2010  \n",
       "4     513900000  2010  "
      ]
     },
     "execution_count": 13,
     "metadata": {},
     "output_type": "execute_result"
    }
   ],
   "source": [
    "# Importing data from csv file \n",
    "# Reset the index of the dataframe\n",
    "# Display the first 5 rows of df by using .head() method\n",
    "movie3 = pd.read_csv(\"zippedData/bom.movie_gross.csv.gz\",index_col=0)\n",
    "movie3.reset_index(inplace = True)\n",
    "movie3.head()"
   ]
  },
  {
   "cell_type": "markdown",
   "metadata": {},
   "source": [
    "We loaded the data from a file into a DataFrame with new index."
   ]
  },
  {
   "cell_type": "markdown",
   "metadata": {},
   "source": [
    "Load the Data from (\"zippedData/tn.movie_budgets.csv.gz\") file as DataFrame in Pandas."
   ]
  },
  {
   "cell_type": "code",
   "execution_count": 15,
   "metadata": {},
   "outputs": [
    {
     "data": {
      "text/html": [
       "<div>\n",
       "<style scoped>\n",
       "    .dataframe tbody tr th:only-of-type {\n",
       "        vertical-align: middle;\n",
       "    }\n",
       "\n",
       "    .dataframe tbody tr th {\n",
       "        vertical-align: top;\n",
       "    }\n",
       "\n",
       "    .dataframe thead th {\n",
       "        text-align: right;\n",
       "    }\n",
       "</style>\n",
       "<table border=\"1\" class=\"dataframe\">\n",
       "  <thead>\n",
       "    <tr style=\"text-align: right;\">\n",
       "      <th></th>\n",
       "      <th>release_date</th>\n",
       "      <th>movie</th>\n",
       "      <th>production_budget</th>\n",
       "      <th>domestic_gross</th>\n",
       "      <th>worldwide_gross</th>\n",
       "    </tr>\n",
       "    <tr>\n",
       "      <th>id</th>\n",
       "      <th></th>\n",
       "      <th></th>\n",
       "      <th></th>\n",
       "      <th></th>\n",
       "      <th></th>\n",
       "    </tr>\n",
       "  </thead>\n",
       "  <tbody>\n",
       "    <tr>\n",
       "      <th>1</th>\n",
       "      <td>Dec 18, 2009</td>\n",
       "      <td>Avatar</td>\n",
       "      <td>$425,000,000</td>\n",
       "      <td>$760,507,625</td>\n",
       "      <td>$2,776,345,279</td>\n",
       "    </tr>\n",
       "    <tr>\n",
       "      <th>2</th>\n",
       "      <td>May 20, 2011</td>\n",
       "      <td>Pirates of the Caribbean: On Stranger Tides</td>\n",
       "      <td>$410,600,000</td>\n",
       "      <td>$241,063,875</td>\n",
       "      <td>$1,045,663,875</td>\n",
       "    </tr>\n",
       "    <tr>\n",
       "      <th>3</th>\n",
       "      <td>Jun 7, 2019</td>\n",
       "      <td>Dark Phoenix</td>\n",
       "      <td>$350,000,000</td>\n",
       "      <td>$42,762,350</td>\n",
       "      <td>$149,762,350</td>\n",
       "    </tr>\n",
       "    <tr>\n",
       "      <th>4</th>\n",
       "      <td>May 1, 2015</td>\n",
       "      <td>Avengers: Age of Ultron</td>\n",
       "      <td>$330,600,000</td>\n",
       "      <td>$459,005,868</td>\n",
       "      <td>$1,403,013,963</td>\n",
       "    </tr>\n",
       "    <tr>\n",
       "      <th>5</th>\n",
       "      <td>Dec 15, 2017</td>\n",
       "      <td>Star Wars Ep. VIII: The Last Jedi</td>\n",
       "      <td>$317,000,000</td>\n",
       "      <td>$620,181,382</td>\n",
       "      <td>$1,316,721,747</td>\n",
       "    </tr>\n",
       "  </tbody>\n",
       "</table>\n",
       "</div>"
      ],
      "text/plain": [
       "    release_date                                        movie  \\\n",
       "id                                                              \n",
       "1   Dec 18, 2009                                       Avatar   \n",
       "2   May 20, 2011  Pirates of the Caribbean: On Stranger Tides   \n",
       "3    Jun 7, 2019                                 Dark Phoenix   \n",
       "4    May 1, 2015                      Avengers: Age of Ultron   \n",
       "5   Dec 15, 2017            Star Wars Ep. VIII: The Last Jedi   \n",
       "\n",
       "   production_budget domestic_gross worldwide_gross  \n",
       "id                                                   \n",
       "1       $425,000,000   $760,507,625  $2,776,345,279  \n",
       "2       $410,600,000   $241,063,875  $1,045,663,875  \n",
       "3       $350,000,000    $42,762,350    $149,762,350  \n",
       "4       $330,600,000   $459,005,868  $1,403,013,963  \n",
       "5       $317,000,000   $620,181,382  $1,316,721,747  "
      ]
     },
     "execution_count": 15,
     "metadata": {},
     "output_type": "execute_result"
    }
   ],
   "source": [
    "# Importing data from the file (tn.movie_budgets.csv.gz)\n",
    "# view the first 5 rows by using .head() method.\n",
    "movie4 = pd.read_csv(\"zippedData/tn.movie_budgets.csv.gz\",index_col=0)\n",
    "movie4.head()"
   ]
  },
  {
   "cell_type": "markdown",
   "metadata": {},
   "source": [
    "Loading data from movie_info.tsv.gz file"
   ]
  },
  {
   "cell_type": "code",
   "execution_count": 18,
   "metadata": {},
   "outputs": [
    {
     "data": {
      "text/html": [
       "<div>\n",
       "<style scoped>\n",
       "    .dataframe tbody tr th:only-of-type {\n",
       "        vertical-align: middle;\n",
       "    }\n",
       "\n",
       "    .dataframe tbody tr th {\n",
       "        vertical-align: top;\n",
       "    }\n",
       "\n",
       "    .dataframe thead th {\n",
       "        text-align: right;\n",
       "    }\n",
       "</style>\n",
       "<table border=\"1\" class=\"dataframe\">\n",
       "  <thead>\n",
       "    <tr style=\"text-align: right;\">\n",
       "      <th></th>\n",
       "      <th>id</th>\n",
       "      <th>review</th>\n",
       "      <th>rating</th>\n",
       "      <th>fresh</th>\n",
       "      <th>critic</th>\n",
       "      <th>top_critic</th>\n",
       "      <th>publisher</th>\n",
       "      <th>date</th>\n",
       "    </tr>\n",
       "  </thead>\n",
       "  <tbody>\n",
       "    <tr>\n",
       "      <th>0</th>\n",
       "      <td>3</td>\n",
       "      <td>A distinctly gallows take on contemporary fina...</td>\n",
       "      <td>3/5</td>\n",
       "      <td>fresh</td>\n",
       "      <td>PJ Nabarro</td>\n",
       "      <td>0</td>\n",
       "      <td>Patrick Nabarro</td>\n",
       "      <td>November 10, 2018</td>\n",
       "    </tr>\n",
       "    <tr>\n",
       "      <th>1</th>\n",
       "      <td>3</td>\n",
       "      <td>It's an allegory in search of a meaning that n...</td>\n",
       "      <td>NaN</td>\n",
       "      <td>rotten</td>\n",
       "      <td>Annalee Newitz</td>\n",
       "      <td>0</td>\n",
       "      <td>io9.com</td>\n",
       "      <td>May 23, 2018</td>\n",
       "    </tr>\n",
       "    <tr>\n",
       "      <th>2</th>\n",
       "      <td>3</td>\n",
       "      <td>... life lived in a bubble in financial dealin...</td>\n",
       "      <td>NaN</td>\n",
       "      <td>fresh</td>\n",
       "      <td>Sean Axmaker</td>\n",
       "      <td>0</td>\n",
       "      <td>Stream on Demand</td>\n",
       "      <td>January 4, 2018</td>\n",
       "    </tr>\n",
       "    <tr>\n",
       "      <th>3</th>\n",
       "      <td>3</td>\n",
       "      <td>Continuing along a line introduced in last yea...</td>\n",
       "      <td>NaN</td>\n",
       "      <td>fresh</td>\n",
       "      <td>Daniel Kasman</td>\n",
       "      <td>0</td>\n",
       "      <td>MUBI</td>\n",
       "      <td>November 16, 2017</td>\n",
       "    </tr>\n",
       "    <tr>\n",
       "      <th>4</th>\n",
       "      <td>3</td>\n",
       "      <td>... a perverse twist on neorealism...</td>\n",
       "      <td>NaN</td>\n",
       "      <td>fresh</td>\n",
       "      <td>NaN</td>\n",
       "      <td>0</td>\n",
       "      <td>Cinema Scope</td>\n",
       "      <td>October 12, 2017</td>\n",
       "    </tr>\n",
       "  </tbody>\n",
       "</table>\n",
       "</div>"
      ],
      "text/plain": [
       "   id                                             review rating   fresh  \\\n",
       "0   3  A distinctly gallows take on contemporary fina...    3/5   fresh   \n",
       "1   3  It's an allegory in search of a meaning that n...    NaN  rotten   \n",
       "2   3  ... life lived in a bubble in financial dealin...    NaN   fresh   \n",
       "3   3  Continuing along a line introduced in last yea...    NaN   fresh   \n",
       "4   3             ... a perverse twist on neorealism...     NaN   fresh   \n",
       "\n",
       "           critic  top_critic         publisher               date  \n",
       "0      PJ Nabarro           0   Patrick Nabarro  November 10, 2018  \n",
       "1  Annalee Newitz           0           io9.com       May 23, 2018  \n",
       "2    Sean Axmaker           0  Stream on Demand    January 4, 2018  \n",
       "3   Daniel Kasman           0              MUBI  November 16, 2017  \n",
       "4             NaN           0      Cinema Scope   October 12, 2017  "
      ]
     },
     "execution_count": 18,
     "metadata": {},
     "output_type": "execute_result"
    }
   ],
   "source": [
    "# Import data from  (movie_info.tsv.gz) file\n",
    "# sep =\"\\t\" to read tsv files as cvs\n",
    "# using spesifics colunms from df5\n",
    "# view the top 5 rows from the data frame use .head()\n",
    "movie5 = pd.read_csv(\"zippedData/rt.reviews.tsv.gz\",sep =\"\\t\", encoding='windows-1252')\n",
    "movie5.head()"
   ]
  },
  {
   "cell_type": "markdown",
   "metadata": {},
   "source": [
    "Loading data from (tmdb.movies.csv.gz) file"
   ]
  },
  {
   "cell_type": "code",
   "execution_count": 19,
   "metadata": {},
   "outputs": [
    {
     "data": {
      "text/html": [
       "<div>\n",
       "<style scoped>\n",
       "    .dataframe tbody tr th:only-of-type {\n",
       "        vertical-align: middle;\n",
       "    }\n",
       "\n",
       "    .dataframe tbody tr th {\n",
       "        vertical-align: top;\n",
       "    }\n",
       "\n",
       "    .dataframe thead th {\n",
       "        text-align: right;\n",
       "    }\n",
       "</style>\n",
       "<table border=\"1\" class=\"dataframe\">\n",
       "  <thead>\n",
       "    <tr style=\"text-align: right;\">\n",
       "      <th></th>\n",
       "      <th>Unnamed: 0</th>\n",
       "      <th>genre_ids</th>\n",
       "      <th>id</th>\n",
       "      <th>original_language</th>\n",
       "      <th>original_title</th>\n",
       "      <th>popularity</th>\n",
       "      <th>release_date</th>\n",
       "      <th>title</th>\n",
       "      <th>vote_average</th>\n",
       "      <th>vote_count</th>\n",
       "    </tr>\n",
       "  </thead>\n",
       "  <tbody>\n",
       "    <tr>\n",
       "      <th>0</th>\n",
       "      <td>0</td>\n",
       "      <td>[12, 14, 10751]</td>\n",
       "      <td>12444</td>\n",
       "      <td>en</td>\n",
       "      <td>Harry Potter and the Deathly Hallows: Part 1</td>\n",
       "      <td>33.533</td>\n",
       "      <td>2010-11-19</td>\n",
       "      <td>Harry Potter and the Deathly Hallows: Part 1</td>\n",
       "      <td>7.7</td>\n",
       "      <td>10788</td>\n",
       "    </tr>\n",
       "    <tr>\n",
       "      <th>1</th>\n",
       "      <td>1</td>\n",
       "      <td>[14, 12, 16, 10751]</td>\n",
       "      <td>10191</td>\n",
       "      <td>en</td>\n",
       "      <td>How to Train Your Dragon</td>\n",
       "      <td>28.734</td>\n",
       "      <td>2010-03-26</td>\n",
       "      <td>How to Train Your Dragon</td>\n",
       "      <td>7.7</td>\n",
       "      <td>7610</td>\n",
       "    </tr>\n",
       "    <tr>\n",
       "      <th>2</th>\n",
       "      <td>2</td>\n",
       "      <td>[12, 28, 878]</td>\n",
       "      <td>10138</td>\n",
       "      <td>en</td>\n",
       "      <td>Iron Man 2</td>\n",
       "      <td>28.515</td>\n",
       "      <td>2010-05-07</td>\n",
       "      <td>Iron Man 2</td>\n",
       "      <td>6.8</td>\n",
       "      <td>12368</td>\n",
       "    </tr>\n",
       "    <tr>\n",
       "      <th>3</th>\n",
       "      <td>3</td>\n",
       "      <td>[16, 35, 10751]</td>\n",
       "      <td>862</td>\n",
       "      <td>en</td>\n",
       "      <td>Toy Story</td>\n",
       "      <td>28.005</td>\n",
       "      <td>1995-11-22</td>\n",
       "      <td>Toy Story</td>\n",
       "      <td>7.9</td>\n",
       "      <td>10174</td>\n",
       "    </tr>\n",
       "    <tr>\n",
       "      <th>4</th>\n",
       "      <td>4</td>\n",
       "      <td>[28, 878, 12]</td>\n",
       "      <td>27205</td>\n",
       "      <td>en</td>\n",
       "      <td>Inception</td>\n",
       "      <td>27.920</td>\n",
       "      <td>2010-07-16</td>\n",
       "      <td>Inception</td>\n",
       "      <td>8.3</td>\n",
       "      <td>22186</td>\n",
       "    </tr>\n",
       "  </tbody>\n",
       "</table>\n",
       "</div>"
      ],
      "text/plain": [
       "   Unnamed: 0            genre_ids     id original_language  \\\n",
       "0           0      [12, 14, 10751]  12444                en   \n",
       "1           1  [14, 12, 16, 10751]  10191                en   \n",
       "2           2        [12, 28, 878]  10138                en   \n",
       "3           3      [16, 35, 10751]    862                en   \n",
       "4           4        [28, 878, 12]  27205                en   \n",
       "\n",
       "                                 original_title  popularity release_date  \\\n",
       "0  Harry Potter and the Deathly Hallows: Part 1      33.533   2010-11-19   \n",
       "1                      How to Train Your Dragon      28.734   2010-03-26   \n",
       "2                                    Iron Man 2      28.515   2010-05-07   \n",
       "3                                     Toy Story      28.005   1995-11-22   \n",
       "4                                     Inception      27.920   2010-07-16   \n",
       "\n",
       "                                          title  vote_average  vote_count  \n",
       "0  Harry Potter and the Deathly Hallows: Part 1           7.7       10788  \n",
       "1                      How to Train Your Dragon           7.7        7610  \n",
       "2                                    Iron Man 2           6.8       12368  \n",
       "3                                     Toy Story           7.9       10174  \n",
       "4                                     Inception           8.3       22186  "
      ]
     },
     "execution_count": 19,
     "metadata": {},
     "output_type": "execute_result"
    }
   ],
   "source": [
    "movie6 = pd.read_csv(\"zippedData/tmdb.movies.csv.gz\")\n",
    "movie6.head()"
   ]
  },
  {
   "cell_type": "markdown",
   "metadata": {},
   "source": [
    "#### Movie1 Preprocessing"
   ]
  },
  {
   "cell_type": "markdown",
   "metadata": {},
   "source": [
    "Get a summary of movie1 dataframe using .info()"
   ]
  },
  {
   "cell_type": "code",
   "execution_count": 20,
   "metadata": {
    "scrolled": true
   },
   "outputs": [
    {
     "name": "stdout",
     "output_type": "stream",
     "text": [
      "<class 'pandas.core.frame.DataFrame'>\n",
      "RangeIndex: 313 entries, 0 to 312\n",
      "Data columns (total 5 columns):\n",
      " #   Column    Non-Null Count  Dtype  \n",
      "---  ------    --------------  -----  \n",
      " 0   Title     313 non-null    object \n",
      " 1   genres    313 non-null    object \n",
      " 2   runtime   292 non-null    float64\n",
      " 3   rating    313 non-null    float64\n",
      " 4   numvotes  313 non-null    int64  \n",
      "dtypes: float64(2), int64(1), object(2)\n",
      "memory usage: 12.4+ KB\n"
     ]
    }
   ],
   "source": [
    "# summary of our data frame df using .info() method\n",
    "movie1.info()"
   ]
  },
  {
   "cell_type": "markdown",
   "metadata": {
    "scrolled": true
   },
   "source": [
    "The data types: The columns containing strings are type object. The columns containing whole numbers are type int64, whereas the columns containing decimal numbers are type float64.\n"
   ]
  },
  {
   "cell_type": "markdown",
   "metadata": {},
   "source": [
    "It's useful to be able to clean up minor issues in text data. Let us take a look at the values of the genres column in the DF data frame. We extract unique data from the dataset by using the.unique() function."
   ]
  },
  {
   "cell_type": "code",
   "execution_count": 21,
   "metadata": {},
   "outputs": [
    {
     "data": {
      "text/plain": [
       "Documentary,Family,Romance      1\n",
       "Documentary,Family,Music        1\n",
       "Animation,Romance,Sci-Fi        1\n",
       "Biography,Fantasy               1\n",
       "Comedy,Crime,Drama              1\n",
       "                               ..\n",
       "Action,Fantasy,History          1\n",
       "Adventure,Comedy,Crime          1\n",
       "Adventure,Documentary,Horror    1\n",
       "Comedy,Crime,Documentary        1\n",
       "Action,Adventure,Sci-Fi         1\n",
       "Name: genres, Length: 313, dtype: int64"
      ]
     },
     "execution_count": 21,
     "metadata": {},
     "output_type": "execute_result"
    }
   ],
   "source": [
    "# Calculate the numbers of each Genre using .value_counts()\n",
    "movie1[\"genres\"].value_counts()\n"
   ]
  },
  {
   "cell_type": "markdown",
   "metadata": {},
   "source": [
    "Then we need to split this text data in the list above using the.str.split() method. Then we explode each element in each list into a row by using the explode() function. Using the.head () method, display the top 5 rows of a data frame.\n",
    " "
   ]
  },
  {
   "cell_type": "code",
   "execution_count": 22,
   "metadata": {
    "scrolled": true
   },
   "outputs": [
    {
     "data": {
      "text/html": [
       "<div>\n",
       "<style scoped>\n",
       "    .dataframe tbody tr th:only-of-type {\n",
       "        vertical-align: middle;\n",
       "    }\n",
       "\n",
       "    .dataframe tbody tr th {\n",
       "        vertical-align: top;\n",
       "    }\n",
       "\n",
       "    .dataframe thead th {\n",
       "        text-align: right;\n",
       "    }\n",
       "</style>\n",
       "<table border=\"1\" class=\"dataframe\">\n",
       "  <thead>\n",
       "    <tr style=\"text-align: right;\">\n",
       "      <th></th>\n",
       "      <th>Title</th>\n",
       "      <th>genres</th>\n",
       "      <th>runtime</th>\n",
       "      <th>rating</th>\n",
       "      <th>numvotes</th>\n",
       "    </tr>\n",
       "  </thead>\n",
       "  <tbody>\n",
       "    <tr>\n",
       "      <th>0</th>\n",
       "      <td>Love on a Leash</td>\n",
       "      <td>Documentary</td>\n",
       "      <td>10.0</td>\n",
       "      <td>9.7</td>\n",
       "      <td>25</td>\n",
       "    </tr>\n",
       "    <tr>\n",
       "      <th>0</th>\n",
       "      <td>Love on a Leash</td>\n",
       "      <td>Family</td>\n",
       "      <td>10.0</td>\n",
       "      <td>9.7</td>\n",
       "      <td>25</td>\n",
       "    </tr>\n",
       "    <tr>\n",
       "      <th>0</th>\n",
       "      <td>Love on a Leash</td>\n",
       "      <td>Romance</td>\n",
       "      <td>10.0</td>\n",
       "      <td>9.7</td>\n",
       "      <td>25</td>\n",
       "    </tr>\n",
       "    <tr>\n",
       "      <th>1</th>\n",
       "      <td>Foosballers</td>\n",
       "      <td>Comedy</td>\n",
       "      <td>NaN</td>\n",
       "      <td>9.7</td>\n",
       "      <td>22</td>\n",
       "    </tr>\n",
       "    <tr>\n",
       "      <th>1</th>\n",
       "      <td>Foosballers</td>\n",
       "      <td>Documentary</td>\n",
       "      <td>NaN</td>\n",
       "      <td>9.7</td>\n",
       "      <td>22</td>\n",
       "    </tr>\n",
       "  </tbody>\n",
       "</table>\n",
       "</div>"
      ],
      "text/plain": [
       "             Title       genres  runtime  rating  numvotes\n",
       "0  Love on a Leash  Documentary     10.0     9.7        25\n",
       "0  Love on a Leash       Family     10.0     9.7        25\n",
       "0  Love on a Leash      Romance     10.0     9.7        25\n",
       "1      Foosballers       Comedy      NaN     9.7        22\n",
       "1      Foosballers  Documentary      NaN     9.7        22"
      ]
     },
     "execution_count": 22,
     "metadata": {},
     "output_type": "execute_result"
    }
   ],
   "source": [
    "# spliting the data in the columns (genres) using .str.split() method\n",
    "# use the explode() function to explode each element in each string into a row:\n",
    "# display the top 5 rows dataframe using .head() method\n",
    "movie1[\"genres\"] = movie1[\"genres\"].str.split(\",\")\n",
    "movie1 =movie1.explode(\"genres\")\n",
    "movie1.head()"
   ]
  },
  {
   "cell_type": "markdown",
   "metadata": {},
   "source": [
    "After this update let us calculate the numbers of each genre in genres column"
   ]
  },
  {
   "cell_type": "code",
   "execution_count": 24,
   "metadata": {},
   "outputs": [
    {
     "data": {
      "text/plain": [
       "Documentary    122\n",
       "Drama           79\n",
       "Comedy          57\n",
       "Action          47\n",
       "History         46\n",
       "Adventure       45\n",
       "Animation       42\n",
       "Music           39\n",
       "Biography       37\n",
       "Romance         34\n",
       "Family          34\n",
       "Mystery         34\n",
       "Fantasy         33\n",
       "Crime           32\n",
       "Thriller        32\n",
       "War             28\n",
       "Musical         27\n",
       "Sci-Fi          26\n",
       "Sport           23\n",
       "News            17\n",
       "Western         17\n",
       "Horror          17\n",
       "Reality-TV       4\n",
       "Short            1\n",
       "Game-Show        1\n",
       "Name: genres, dtype: int64"
      ]
     },
     "execution_count": 24,
     "metadata": {},
     "output_type": "execute_result"
    }
   ],
   "source": [
    "# Calculate the numbers of each Genre using .value_counts()\n",
    "movie1[\"genres\"].value_counts()"
   ]
  },
  {
   "cell_type": "markdown",
   "metadata": {},
   "source": [
    "#### Checking for Duplicate Values\n",
    "Duplicates can be problematic, as they can skew your analysis and lead to incorrect conclusions."
   ]
  },
  {
   "cell_type": "code",
   "execution_count": 25,
   "metadata": {},
   "outputs": [
    {
     "data": {
      "text/html": [
       "<div>\n",
       "<style scoped>\n",
       "    .dataframe tbody tr th:only-of-type {\n",
       "        vertical-align: middle;\n",
       "    }\n",
       "\n",
       "    .dataframe tbody tr th {\n",
       "        vertical-align: top;\n",
       "    }\n",
       "\n",
       "    .dataframe thead th {\n",
       "        text-align: right;\n",
       "    }\n",
       "</style>\n",
       "<table border=\"1\" class=\"dataframe\">\n",
       "  <thead>\n",
       "    <tr style=\"text-align: right;\">\n",
       "      <th></th>\n",
       "      <th>Title</th>\n",
       "      <th>genres</th>\n",
       "      <th>runtime</th>\n",
       "      <th>rating</th>\n",
       "      <th>numvotes</th>\n",
       "    </tr>\n",
       "  </thead>\n",
       "  <tbody>\n",
       "  </tbody>\n",
       "</table>\n",
       "</div>"
      ],
      "text/plain": [
       "Empty DataFrame\n",
       "Columns: [Title, genres, runtime, rating, numvotes]\n",
       "Index: []"
      ]
     },
     "execution_count": 25,
     "metadata": {},
     "output_type": "execute_result"
    }
   ],
   "source": [
    "# Checking for duplicate values using .duplicated()\n",
    "duplicate = movie1[movie1.duplicated()]\n",
    "duplicate"
   ]
  },
  {
   "cell_type": "markdown",
   "metadata": {},
   "source": [
    "There is no duplicated values"
   ]
  },
  {
   "cell_type": "markdown",
   "metadata": {},
   "source": [
    "#### Identifying and Handling Missing Values\n",
    "\n",
    "Missing values can skew statistical analyses, while wrong values can lead to incorrect conclusions or models"
   ]
  },
  {
   "cell_type": "code",
   "execution_count": 26,
   "metadata": {},
   "outputs": [
    {
     "data": {
      "text/plain": [
       "Title        0\n",
       "genres       0\n",
       "runtime     54\n",
       "rating       0\n",
       "numvotes     0\n",
       "dtype: int64"
      ]
     },
     "execution_count": 26,
     "metadata": {},
     "output_type": "execute_result"
    }
   ],
   "source": [
    "# checking for missing values using .isna() method\n",
    "movie1.isna().sum()"
   ]
  },
  {
   "cell_type": "markdown",
   "metadata": {
    "scrolled": true
   },
   "source": [
    "There is some of missing values in the runtime column"
   ]
  },
  {
   "cell_type": "code",
   "execution_count": 27,
   "metadata": {},
   "outputs": [
    {
     "data": {
      "text/html": [
       "<div>\n",
       "<style scoped>\n",
       "    .dataframe tbody tr th:only-of-type {\n",
       "        vertical-align: middle;\n",
       "    }\n",
       "\n",
       "    .dataframe tbody tr th {\n",
       "        vertical-align: top;\n",
       "    }\n",
       "\n",
       "    .dataframe thead th {\n",
       "        text-align: right;\n",
       "    }\n",
       "</style>\n",
       "<table border=\"1\" class=\"dataframe\">\n",
       "  <thead>\n",
       "    <tr style=\"text-align: right;\">\n",
       "      <th></th>\n",
       "      <th>Title</th>\n",
       "      <th>genres</th>\n",
       "      <th>runtime</th>\n",
       "      <th>rating</th>\n",
       "      <th>numvotes</th>\n",
       "    </tr>\n",
       "  </thead>\n",
       "  <tbody>\n",
       "    <tr>\n",
       "      <th>0</th>\n",
       "      <td>Love on a Leash</td>\n",
       "      <td>Documentary</td>\n",
       "      <td>10.0</td>\n",
       "      <td>9.7</td>\n",
       "      <td>25</td>\n",
       "    </tr>\n",
       "    <tr>\n",
       "      <th>0</th>\n",
       "      <td>Love on a Leash</td>\n",
       "      <td>Family</td>\n",
       "      <td>10.0</td>\n",
       "      <td>9.7</td>\n",
       "      <td>25</td>\n",
       "    </tr>\n",
       "    <tr>\n",
       "      <th>0</th>\n",
       "      <td>Love on a Leash</td>\n",
       "      <td>Romance</td>\n",
       "      <td>10.0</td>\n",
       "      <td>9.7</td>\n",
       "      <td>25</td>\n",
       "    </tr>\n",
       "    <tr>\n",
       "      <th>2</th>\n",
       "      <td>Lost Conquest</td>\n",
       "      <td>Comedy</td>\n",
       "      <td>70.0</td>\n",
       "      <td>9.4</td>\n",
       "      <td>5</td>\n",
       "    </tr>\n",
       "    <tr>\n",
       "      <th>2</th>\n",
       "      <td>Lost Conquest</td>\n",
       "      <td>Documentary</td>\n",
       "      <td>70.0</td>\n",
       "      <td>9.4</td>\n",
       "      <td>5</td>\n",
       "    </tr>\n",
       "  </tbody>\n",
       "</table>\n",
       "</div>"
      ],
      "text/plain": [
       "             Title       genres  runtime  rating  numvotes\n",
       "0  Love on a Leash  Documentary     10.0     9.7        25\n",
       "0  Love on a Leash       Family     10.0     9.7        25\n",
       "0  Love on a Leash      Romance     10.0     9.7        25\n",
       "2    Lost Conquest       Comedy     70.0     9.4         5\n",
       "2    Lost Conquest  Documentary     70.0     9.4         5"
      ]
     },
     "execution_count": 27,
     "metadata": {},
     "output_type": "execute_result"
    }
   ],
   "source": [
    "#Drob NaN values  using .dropna()method.\n",
    "# Display the top of the data frame using .head()method\n",
    "movie1 = movie1.dropna()\n",
    "movie1.head()"
   ]
  },
  {
   "cell_type": "markdown",
   "metadata": {},
   "source": [
    "#### Movie2 Preprocessing\n",
    "Get a summary of movie2 dataframe using .info()\n"
   ]
  },
  {
   "cell_type": "code",
   "execution_count": 28,
   "metadata": {
    "scrolled": true
   },
   "outputs": [
    {
     "name": "stdout",
     "output_type": "stream",
     "text": [
      "<class 'pandas.core.frame.DataFrame'>\n",
      "RangeIndex: 1560 entries, 0 to 1559\n",
      "Data columns (total 12 columns):\n",
      " #   Column        Non-Null Count  Dtype \n",
      "---  ------        --------------  ----- \n",
      " 0   id            1560 non-null   int64 \n",
      " 1   synopsis      1498 non-null   object\n",
      " 2   rating        1557 non-null   object\n",
      " 3   genre         1552 non-null   object\n",
      " 4   director      1361 non-null   object\n",
      " 5   writer        1111 non-null   object\n",
      " 6   theater_date  1201 non-null   object\n",
      " 7   dvd_date      1201 non-null   object\n",
      " 8   currency      340 non-null    object\n",
      " 9   box_office    340 non-null    object\n",
      " 10  runtime       1530 non-null   object\n",
      " 11  studio        494 non-null    object\n",
      "dtypes: int64(1), object(11)\n",
      "memory usage: 146.4+ KB\n"
     ]
    }
   ],
   "source": [
    "#summary of our data frame df using .info() method\n",
    "movie2.info()"
   ]
  },
  {
   "cell_type": "markdown",
   "metadata": {},
   "source": [
    "The data types: The columns containing strings are type object, The columns containing whole numbers are type int64,"
   ]
  },
  {
   "cell_type": "code",
   "execution_count": 29,
   "metadata": {},
   "outputs": [
    {
     "data": {
      "text/html": [
       "<div>\n",
       "<style scoped>\n",
       "    .dataframe tbody tr th:only-of-type {\n",
       "        vertical-align: middle;\n",
       "    }\n",
       "\n",
       "    .dataframe tbody tr th {\n",
       "        vertical-align: top;\n",
       "    }\n",
       "\n",
       "    .dataframe thead th {\n",
       "        text-align: right;\n",
       "    }\n",
       "</style>\n",
       "<table border=\"1\" class=\"dataframe\">\n",
       "  <thead>\n",
       "    <tr style=\"text-align: right;\">\n",
       "      <th></th>\n",
       "      <th>genre</th>\n",
       "      <th>director</th>\n",
       "      <th>writer</th>\n",
       "      <th>theater_date</th>\n",
       "      <th>dvd_date</th>\n",
       "      <th>currency</th>\n",
       "      <th>box_office</th>\n",
       "      <th>runtime</th>\n",
       "      <th>studio</th>\n",
       "    </tr>\n",
       "  </thead>\n",
       "  <tbody>\n",
       "    <tr>\n",
       "      <th>0</th>\n",
       "      <td>Action and Adventure|Classics|Drama</td>\n",
       "      <td>William Friedkin</td>\n",
       "      <td>Ernest Tidyman</td>\n",
       "      <td>Oct 9, 1971</td>\n",
       "      <td>Sep 25, 2001</td>\n",
       "      <td>NaN</td>\n",
       "      <td>NaN</td>\n",
       "      <td>104 minutes</td>\n",
       "      <td>NaN</td>\n",
       "    </tr>\n",
       "    <tr>\n",
       "      <th>1</th>\n",
       "      <td>Drama|Science Fiction and Fantasy</td>\n",
       "      <td>David Cronenberg</td>\n",
       "      <td>David Cronenberg|Don DeLillo</td>\n",
       "      <td>Aug 17, 2012</td>\n",
       "      <td>Jan 1, 2013</td>\n",
       "      <td>$</td>\n",
       "      <td>600,000</td>\n",
       "      <td>108 minutes</td>\n",
       "      <td>Entertainment One</td>\n",
       "    </tr>\n",
       "    <tr>\n",
       "      <th>2</th>\n",
       "      <td>Drama|Musical and Performing Arts</td>\n",
       "      <td>Allison Anders</td>\n",
       "      <td>Allison Anders</td>\n",
       "      <td>Sep 13, 1996</td>\n",
       "      <td>Apr 18, 2000</td>\n",
       "      <td>NaN</td>\n",
       "      <td>NaN</td>\n",
       "      <td>116 minutes</td>\n",
       "      <td>NaN</td>\n",
       "    </tr>\n",
       "    <tr>\n",
       "      <th>3</th>\n",
       "      <td>Drama|Mystery and Suspense</td>\n",
       "      <td>Barry Levinson</td>\n",
       "      <td>Paul Attanasio|Michael Crichton</td>\n",
       "      <td>Dec 9, 1994</td>\n",
       "      <td>Aug 27, 1997</td>\n",
       "      <td>NaN</td>\n",
       "      <td>NaN</td>\n",
       "      <td>128 minutes</td>\n",
       "      <td>NaN</td>\n",
       "    </tr>\n",
       "    <tr>\n",
       "      <th>4</th>\n",
       "      <td>Drama|Romance</td>\n",
       "      <td>Rodney Bennett</td>\n",
       "      <td>Giles Cooper</td>\n",
       "      <td>NaN</td>\n",
       "      <td>NaN</td>\n",
       "      <td>NaN</td>\n",
       "      <td>NaN</td>\n",
       "      <td>200 minutes</td>\n",
       "      <td>NaN</td>\n",
       "    </tr>\n",
       "  </tbody>\n",
       "</table>\n",
       "</div>"
      ],
      "text/plain": [
       "                                 genre          director  \\\n",
       "0  Action and Adventure|Classics|Drama  William Friedkin   \n",
       "1    Drama|Science Fiction and Fantasy  David Cronenberg   \n",
       "2    Drama|Musical and Performing Arts    Allison Anders   \n",
       "3           Drama|Mystery and Suspense    Barry Levinson   \n",
       "4                        Drama|Romance    Rodney Bennett   \n",
       "\n",
       "                            writer  theater_date      dvd_date currency  \\\n",
       "0                   Ernest Tidyman   Oct 9, 1971  Sep 25, 2001      NaN   \n",
       "1     David Cronenberg|Don DeLillo  Aug 17, 2012   Jan 1, 2013        $   \n",
       "2                   Allison Anders  Sep 13, 1996  Apr 18, 2000      NaN   \n",
       "3  Paul Attanasio|Michael Crichton   Dec 9, 1994  Aug 27, 1997      NaN   \n",
       "4                     Giles Cooper           NaN           NaN      NaN   \n",
       "\n",
       "  box_office      runtime             studio  \n",
       "0        NaN  104 minutes                NaN  \n",
       "1    600,000  108 minutes  Entertainment One  \n",
       "2        NaN  116 minutes                NaN  \n",
       "3        NaN  128 minutes                NaN  \n",
       "4        NaN  200 minutes                NaN  "
      ]
     },
     "execution_count": 29,
     "metadata": {},
     "output_type": "execute_result"
    }
   ],
   "source": [
    "#Remove irrelevant columns\n",
    "#Display the top of the dataframe using .head()\n",
    "movie2 = movie2.drop(columns = [\"id\",\"synopsis\",\"rating\"],axis =1)\n",
    "movie2.head()"
   ]
  },
  {
   "cell_type": "markdown",
   "metadata": {},
   "source": [
    "#### Changing some columns data type\n",
    "The column year has a data type object and this column contains dates ,so the data type should be changed to date time useing . method to_datetime ()"
   ]
  },
  {
   "cell_type": "code",
   "execution_count": 30,
   "metadata": {},
   "outputs": [],
   "source": [
    "# Use pandas.to_datetime() to convert string to datetime format\n",
    "movie2[\"theater_date\"] = pd.to_datetime(movie2[\"theater_date\"])"
   ]
  },
  {
   "cell_type": "code",
   "execution_count": 31,
   "metadata": {},
   "outputs": [],
   "source": [
    "# Use pandas.to_datetime() to convert string to datetime format\n",
    "movie2[\"dvd_date\"] = pd.to_datetime(movie2[\"dvd_date\"])"
   ]
  },
  {
   "cell_type": "markdown",
   "metadata": {
    "scrolled": false
   },
   "source": [
    "Then we need to split the text data in the genre column using the.str.split() method. Then we explode each element in each list into a row by using the explode() function. Using the.head () method, display the top 5 rows of a data frame."
   ]
  },
  {
   "cell_type": "code",
   "execution_count": 32,
   "metadata": {},
   "outputs": [
    {
     "data": {
      "text/html": [
       "<div>\n",
       "<style scoped>\n",
       "    .dataframe tbody tr th:only-of-type {\n",
       "        vertical-align: middle;\n",
       "    }\n",
       "\n",
       "    .dataframe tbody tr th {\n",
       "        vertical-align: top;\n",
       "    }\n",
       "\n",
       "    .dataframe thead th {\n",
       "        text-align: right;\n",
       "    }\n",
       "</style>\n",
       "<table border=\"1\" class=\"dataframe\">\n",
       "  <thead>\n",
       "    <tr style=\"text-align: right;\">\n",
       "      <th></th>\n",
       "      <th>genre</th>\n",
       "      <th>director</th>\n",
       "      <th>writer</th>\n",
       "      <th>theater_date</th>\n",
       "      <th>dvd_date</th>\n",
       "      <th>currency</th>\n",
       "      <th>box_office</th>\n",
       "      <th>runtime</th>\n",
       "      <th>studio</th>\n",
       "    </tr>\n",
       "  </thead>\n",
       "  <tbody>\n",
       "    <tr>\n",
       "      <th>0</th>\n",
       "      <td>Action and Adventure</td>\n",
       "      <td>William Friedkin</td>\n",
       "      <td>Ernest Tidyman</td>\n",
       "      <td>1971-10-09</td>\n",
       "      <td>2001-09-25</td>\n",
       "      <td>NaN</td>\n",
       "      <td>NaN</td>\n",
       "      <td>104 minutes</td>\n",
       "      <td>NaN</td>\n",
       "    </tr>\n",
       "    <tr>\n",
       "      <th>0</th>\n",
       "      <td>Classics</td>\n",
       "      <td>William Friedkin</td>\n",
       "      <td>Ernest Tidyman</td>\n",
       "      <td>1971-10-09</td>\n",
       "      <td>2001-09-25</td>\n",
       "      <td>NaN</td>\n",
       "      <td>NaN</td>\n",
       "      <td>104 minutes</td>\n",
       "      <td>NaN</td>\n",
       "    </tr>\n",
       "    <tr>\n",
       "      <th>0</th>\n",
       "      <td>Drama</td>\n",
       "      <td>William Friedkin</td>\n",
       "      <td>Ernest Tidyman</td>\n",
       "      <td>1971-10-09</td>\n",
       "      <td>2001-09-25</td>\n",
       "      <td>NaN</td>\n",
       "      <td>NaN</td>\n",
       "      <td>104 minutes</td>\n",
       "      <td>NaN</td>\n",
       "    </tr>\n",
       "    <tr>\n",
       "      <th>1</th>\n",
       "      <td>Drama</td>\n",
       "      <td>David Cronenberg</td>\n",
       "      <td>David Cronenberg|Don DeLillo</td>\n",
       "      <td>2012-08-17</td>\n",
       "      <td>2013-01-01</td>\n",
       "      <td>$</td>\n",
       "      <td>600,000</td>\n",
       "      <td>108 minutes</td>\n",
       "      <td>Entertainment One</td>\n",
       "    </tr>\n",
       "    <tr>\n",
       "      <th>1</th>\n",
       "      <td>Science Fiction and Fantasy</td>\n",
       "      <td>David Cronenberg</td>\n",
       "      <td>David Cronenberg|Don DeLillo</td>\n",
       "      <td>2012-08-17</td>\n",
       "      <td>2013-01-01</td>\n",
       "      <td>$</td>\n",
       "      <td>600,000</td>\n",
       "      <td>108 minutes</td>\n",
       "      <td>Entertainment One</td>\n",
       "    </tr>\n",
       "  </tbody>\n",
       "</table>\n",
       "</div>"
      ],
      "text/plain": [
       "                         genre          director  \\\n",
       "0         Action and Adventure  William Friedkin   \n",
       "0                     Classics  William Friedkin   \n",
       "0                        Drama  William Friedkin   \n",
       "1                        Drama  David Cronenberg   \n",
       "1  Science Fiction and Fantasy  David Cronenberg   \n",
       "\n",
       "                         writer theater_date   dvd_date currency box_office  \\\n",
       "0                Ernest Tidyman   1971-10-09 2001-09-25      NaN        NaN   \n",
       "0                Ernest Tidyman   1971-10-09 2001-09-25      NaN        NaN   \n",
       "0                Ernest Tidyman   1971-10-09 2001-09-25      NaN        NaN   \n",
       "1  David Cronenberg|Don DeLillo   2012-08-17 2013-01-01        $    600,000   \n",
       "1  David Cronenberg|Don DeLillo   2012-08-17 2013-01-01        $    600,000   \n",
       "\n",
       "       runtime             studio  \n",
       "0  104 minutes                NaN  \n",
       "0  104 minutes                NaN  \n",
       "0  104 minutes                NaN  \n",
       "1  108 minutes  Entertainment One  \n",
       "1  108 minutes  Entertainment One  "
      ]
     },
     "execution_count": 32,
     "metadata": {},
     "output_type": "execute_result"
    }
   ],
   "source": [
    "# spliting the data in the columns (genre) using .str.split() method\n",
    "# use the explode() function to explode each element in each string into a row:\n",
    "# display the top 5 rows dataframe using .head() method\n",
    "movie2[\"genre\"] = movie2[\"genre\"].str.split(\"|\")\n",
    "movie2 = movie2.explode(\"genre\")\n",
    "movie2.head()"
   ]
  },
  {
   "cell_type": "markdown",
   "metadata": {
    "scrolled": false
   },
   "source": [
    "As we saw on the genre coloumn above there is an (and) word joins two genres on the same coloumn . lets remove it."
   ]
  },
  {
   "cell_type": "code",
   "execution_count": 33,
   "metadata": {},
   "outputs": [],
   "source": [
    "# Write a function to replace and by ,\n",
    "def remove_and (val):\n",
    "    \"\"\"remove and\"\"\"\n",
    "    val = val.replace(\"and\",\",\")\n",
    "    return (val)"
   ]
  },
  {
   "cell_type": "code",
   "execution_count": 34,
   "metadata": {
    "scrolled": true
   },
   "outputs": [],
   "source": [
    "# Change genre column data type from object to string\n",
    "\n",
    "movie2[\"genre\"] = movie2[\"genre\"].astype(str)"
   ]
  },
  {
   "cell_type": "code",
   "execution_count": 35,
   "metadata": {},
   "outputs": [
    {
     "data": {
      "text/html": [
       "<div>\n",
       "<style scoped>\n",
       "    .dataframe tbody tr th:only-of-type {\n",
       "        vertical-align: middle;\n",
       "    }\n",
       "\n",
       "    .dataframe tbody tr th {\n",
       "        vertical-align: top;\n",
       "    }\n",
       "\n",
       "    .dataframe thead th {\n",
       "        text-align: right;\n",
       "    }\n",
       "</style>\n",
       "<table border=\"1\" class=\"dataframe\">\n",
       "  <thead>\n",
       "    <tr style=\"text-align: right;\">\n",
       "      <th></th>\n",
       "      <th>genre</th>\n",
       "      <th>director</th>\n",
       "      <th>writer</th>\n",
       "      <th>theater_date</th>\n",
       "      <th>dvd_date</th>\n",
       "      <th>currency</th>\n",
       "      <th>box_office</th>\n",
       "      <th>runtime</th>\n",
       "      <th>studio</th>\n",
       "    </tr>\n",
       "  </thead>\n",
       "  <tbody>\n",
       "    <tr>\n",
       "      <th>0</th>\n",
       "      <td>Action , Adventure</td>\n",
       "      <td>William Friedkin</td>\n",
       "      <td>Ernest Tidyman</td>\n",
       "      <td>1971-10-09</td>\n",
       "      <td>2001-09-25</td>\n",
       "      <td>NaN</td>\n",
       "      <td>NaN</td>\n",
       "      <td>104 minutes</td>\n",
       "      <td>NaN</td>\n",
       "    </tr>\n",
       "    <tr>\n",
       "      <th>0</th>\n",
       "      <td>Classics</td>\n",
       "      <td>William Friedkin</td>\n",
       "      <td>Ernest Tidyman</td>\n",
       "      <td>1971-10-09</td>\n",
       "      <td>2001-09-25</td>\n",
       "      <td>NaN</td>\n",
       "      <td>NaN</td>\n",
       "      <td>104 minutes</td>\n",
       "      <td>NaN</td>\n",
       "    </tr>\n",
       "    <tr>\n",
       "      <th>0</th>\n",
       "      <td>Drama</td>\n",
       "      <td>William Friedkin</td>\n",
       "      <td>Ernest Tidyman</td>\n",
       "      <td>1971-10-09</td>\n",
       "      <td>2001-09-25</td>\n",
       "      <td>NaN</td>\n",
       "      <td>NaN</td>\n",
       "      <td>104 minutes</td>\n",
       "      <td>NaN</td>\n",
       "    </tr>\n",
       "    <tr>\n",
       "      <th>1</th>\n",
       "      <td>Drama</td>\n",
       "      <td>David Cronenberg</td>\n",
       "      <td>David Cronenberg|Don DeLillo</td>\n",
       "      <td>2012-08-17</td>\n",
       "      <td>2013-01-01</td>\n",
       "      <td>$</td>\n",
       "      <td>600,000</td>\n",
       "      <td>108 minutes</td>\n",
       "      <td>Entertainment One</td>\n",
       "    </tr>\n",
       "    <tr>\n",
       "      <th>1</th>\n",
       "      <td>Science Fiction , Fantasy</td>\n",
       "      <td>David Cronenberg</td>\n",
       "      <td>David Cronenberg|Don DeLillo</td>\n",
       "      <td>2012-08-17</td>\n",
       "      <td>2013-01-01</td>\n",
       "      <td>$</td>\n",
       "      <td>600,000</td>\n",
       "      <td>108 minutes</td>\n",
       "      <td>Entertainment One</td>\n",
       "    </tr>\n",
       "  </tbody>\n",
       "</table>\n",
       "</div>"
      ],
      "text/plain": [
       "                       genre          director                        writer  \\\n",
       "0         Action , Adventure  William Friedkin                Ernest Tidyman   \n",
       "0                   Classics  William Friedkin                Ernest Tidyman   \n",
       "0                      Drama  William Friedkin                Ernest Tidyman   \n",
       "1                      Drama  David Cronenberg  David Cronenberg|Don DeLillo   \n",
       "1  Science Fiction , Fantasy  David Cronenberg  David Cronenberg|Don DeLillo   \n",
       "\n",
       "  theater_date   dvd_date currency box_office      runtime             studio  \n",
       "0   1971-10-09 2001-09-25      NaN        NaN  104 minutes                NaN  \n",
       "0   1971-10-09 2001-09-25      NaN        NaN  104 minutes                NaN  \n",
       "0   1971-10-09 2001-09-25      NaN        NaN  104 minutes                NaN  \n",
       "1   2012-08-17 2013-01-01        $    600,000  108 minutes  Entertainment One  \n",
       "1   2012-08-17 2013-01-01        $    600,000  108 minutes  Entertainment One  "
      ]
     },
     "execution_count": 35,
     "metadata": {},
     "output_type": "execute_result"
    }
   ],
   "source": [
    "# using .map() method to compute functions on the data contained in a column\n",
    "movie2[\"genre\"]= movie2[\"genre\"].map(remove_and)\n",
    "movie2.head()"
   ]
  },
  {
   "cell_type": "code",
   "execution_count": 36,
   "metadata": {},
   "outputs": [],
   "source": [
    "# spliting the data in the columns (genre) using .str.split() method\n",
    "movie2[\"genre\"] = movie2[\"genre\"].str.split(\",\") "
   ]
  },
  {
   "cell_type": "code",
   "execution_count": 37,
   "metadata": {},
   "outputs": [
    {
     "data": {
      "text/html": [
       "<div>\n",
       "<style scoped>\n",
       "    .dataframe tbody tr th:only-of-type {\n",
       "        vertical-align: middle;\n",
       "    }\n",
       "\n",
       "    .dataframe tbody tr th {\n",
       "        vertical-align: top;\n",
       "    }\n",
       "\n",
       "    .dataframe thead th {\n",
       "        text-align: right;\n",
       "    }\n",
       "</style>\n",
       "<table border=\"1\" class=\"dataframe\">\n",
       "  <thead>\n",
       "    <tr style=\"text-align: right;\">\n",
       "      <th></th>\n",
       "      <th>genre</th>\n",
       "      <th>director</th>\n",
       "      <th>writer</th>\n",
       "      <th>theater_date</th>\n",
       "      <th>dvd_date</th>\n",
       "      <th>currency</th>\n",
       "      <th>box_office</th>\n",
       "      <th>runtime</th>\n",
       "      <th>studio</th>\n",
       "    </tr>\n",
       "  </thead>\n",
       "  <tbody>\n",
       "    <tr>\n",
       "      <th>0</th>\n",
       "      <td>Action</td>\n",
       "      <td>William Friedkin</td>\n",
       "      <td>Ernest Tidyman</td>\n",
       "      <td>1971-10-09</td>\n",
       "      <td>2001-09-25</td>\n",
       "      <td>NaN</td>\n",
       "      <td>NaN</td>\n",
       "      <td>104 minutes</td>\n",
       "      <td>NaN</td>\n",
       "    </tr>\n",
       "    <tr>\n",
       "      <th>0</th>\n",
       "      <td>Adventure</td>\n",
       "      <td>William Friedkin</td>\n",
       "      <td>Ernest Tidyman</td>\n",
       "      <td>1971-10-09</td>\n",
       "      <td>2001-09-25</td>\n",
       "      <td>NaN</td>\n",
       "      <td>NaN</td>\n",
       "      <td>104 minutes</td>\n",
       "      <td>NaN</td>\n",
       "    </tr>\n",
       "    <tr>\n",
       "      <th>0</th>\n",
       "      <td>Classics</td>\n",
       "      <td>William Friedkin</td>\n",
       "      <td>Ernest Tidyman</td>\n",
       "      <td>1971-10-09</td>\n",
       "      <td>2001-09-25</td>\n",
       "      <td>NaN</td>\n",
       "      <td>NaN</td>\n",
       "      <td>104 minutes</td>\n",
       "      <td>NaN</td>\n",
       "    </tr>\n",
       "    <tr>\n",
       "      <th>0</th>\n",
       "      <td>Drama</td>\n",
       "      <td>William Friedkin</td>\n",
       "      <td>Ernest Tidyman</td>\n",
       "      <td>1971-10-09</td>\n",
       "      <td>2001-09-25</td>\n",
       "      <td>NaN</td>\n",
       "      <td>NaN</td>\n",
       "      <td>104 minutes</td>\n",
       "      <td>NaN</td>\n",
       "    </tr>\n",
       "    <tr>\n",
       "      <th>1</th>\n",
       "      <td>Drama</td>\n",
       "      <td>David Cronenberg</td>\n",
       "      <td>David Cronenberg|Don DeLillo</td>\n",
       "      <td>2012-08-17</td>\n",
       "      <td>2013-01-01</td>\n",
       "      <td>$</td>\n",
       "      <td>600,000</td>\n",
       "      <td>108 minutes</td>\n",
       "      <td>Entertainment One</td>\n",
       "    </tr>\n",
       "  </tbody>\n",
       "</table>\n",
       "</div>"
      ],
      "text/plain": [
       "        genre          director                        writer theater_date  \\\n",
       "0     Action   William Friedkin                Ernest Tidyman   1971-10-09   \n",
       "0   Adventure  William Friedkin                Ernest Tidyman   1971-10-09   \n",
       "0    Classics  William Friedkin                Ernest Tidyman   1971-10-09   \n",
       "0       Drama  William Friedkin                Ernest Tidyman   1971-10-09   \n",
       "1       Drama  David Cronenberg  David Cronenberg|Don DeLillo   2012-08-17   \n",
       "\n",
       "    dvd_date currency box_office      runtime             studio  \n",
       "0 2001-09-25      NaN        NaN  104 minutes                NaN  \n",
       "0 2001-09-25      NaN        NaN  104 minutes                NaN  \n",
       "0 2001-09-25      NaN        NaN  104 minutes                NaN  \n",
       "0 2001-09-25      NaN        NaN  104 minutes                NaN  \n",
       "1 2013-01-01        $    600,000  108 minutes  Entertainment One  "
      ]
     },
     "execution_count": 37,
     "metadata": {},
     "output_type": "execute_result"
    }
   ],
   "source": [
    "# use the explode() function to explode each element in the list into a row:\n",
    "movie2 = movie2.explode(\"genre\") \n",
    "movie2.head()"
   ]
  },
  {
   "cell_type": "markdown",
   "metadata": {
    "scrolled": true
   },
   "source": [
    "#### Changing the column name\n",
    "Let us make our data frame looks more understandable"
   ]
  },
  {
   "cell_type": "code",
   "execution_count": 38,
   "metadata": {},
   "outputs": [],
   "source": [
    "# changing the column name by using .rename()\n",
    "movie2 = movie2.rename(columns ={\"genre\":\"genres\"})"
   ]
  },
  {
   "cell_type": "code",
   "execution_count": 39,
   "metadata": {},
   "outputs": [
    {
     "name": "stdout",
     "output_type": "stream",
     "text": [
      "<class 'pandas.core.frame.DataFrame'>\n",
      "Int64Index: 4915 entries, 0 to 1559\n",
      "Data columns (total 9 columns):\n",
      " #   Column        Non-Null Count  Dtype         \n",
      "---  ------        --------------  -----         \n",
      " 0   genres        4915 non-null   object        \n",
      " 1   director      4300 non-null   object        \n",
      " 2   writer        3504 non-null   object        \n",
      " 3   theater_date  3945 non-null   datetime64[ns]\n",
      " 4   dvd_date      3945 non-null   datetime64[ns]\n",
      " 5   currency      989 non-null    object        \n",
      " 6   box_office    989 non-null    object        \n",
      " 7   runtime       4838 non-null   object        \n",
      " 8   studio        1467 non-null   object        \n",
      "dtypes: datetime64[ns](2), object(7)\n",
      "memory usage: 384.0+ KB\n"
     ]
    }
   ],
   "source": [
    "# summary of data frame by using .info()method\n",
    "movie2.info()"
   ]
  },
  {
   "cell_type": "markdown",
   "metadata": {},
   "source": [
    "From the summary we got above,the(box_office) column has a data type object and this column contains numerical values, so the data type should be changed to float by using a function and applying it to the data frame."
   ]
  },
  {
   "cell_type": "code",
   "execution_count": 40,
   "metadata": {},
   "outputs": [],
   "source": [
    "def clean_box_office(value):\n",
    "    \"\"\" remove the comma from the number and return the nummber as float\"\"\"\n",
    "    new_value = value.replace (\",\",\"\")\n",
    "    return float(new_value)"
   ]
  },
  {
   "cell_type": "code",
   "execution_count": 41,
   "metadata": {},
   "outputs": [],
   "source": [
    "# Change box_office column data type from object to string\n",
    "movie2[\"box_office\"] = movie2[\"box_office\"].astype(str)"
   ]
  },
  {
   "cell_type": "code",
   "execution_count": 42,
   "metadata": {
    "scrolled": true
   },
   "outputs": [],
   "source": [
    "# Apply the function to the box_office column\n",
    "movie2[\"box_office\"] = movie2[\"box_office\"].apply(clean_box_office)"
   ]
  },
  {
   "cell_type": "markdown",
   "metadata": {},
   "source": [
    "We can also notice that the type of runtime column is object and it should be numerical column"
   ]
  },
  {
   "cell_type": "code",
   "execution_count": 43,
   "metadata": {},
   "outputs": [],
   "source": [
    "# Remove the string from the runtime column\n",
    "# Convert the column type to float\n",
    "movie2[\"runtime\"]= movie2[\"runtime\"].str.replace(\"minutes\",\"\")\n",
    "movie2[\"runtime\"]= movie2[\"runtime\"].astype(float)"
   ]
  },
  {
   "cell_type": "markdown",
   "metadata": {},
   "source": [
    "#### Checking for Duplicate Values"
   ]
  },
  {
   "cell_type": "code",
   "execution_count": 44,
   "metadata": {},
   "outputs": [
    {
     "data": {
      "text/html": [
       "<div>\n",
       "<style scoped>\n",
       "    .dataframe tbody tr th:only-of-type {\n",
       "        vertical-align: middle;\n",
       "    }\n",
       "\n",
       "    .dataframe tbody tr th {\n",
       "        vertical-align: top;\n",
       "    }\n",
       "\n",
       "    .dataframe thead th {\n",
       "        text-align: right;\n",
       "    }\n",
       "</style>\n",
       "<table border=\"1\" class=\"dataframe\">\n",
       "  <thead>\n",
       "    <tr style=\"text-align: right;\">\n",
       "      <th></th>\n",
       "      <th>genres</th>\n",
       "      <th>director</th>\n",
       "      <th>writer</th>\n",
       "      <th>theater_date</th>\n",
       "      <th>dvd_date</th>\n",
       "      <th>currency</th>\n",
       "      <th>box_office</th>\n",
       "      <th>runtime</th>\n",
       "      <th>studio</th>\n",
       "    </tr>\n",
       "  </thead>\n",
       "  <tbody>\n",
       "    <tr>\n",
       "      <th>131</th>\n",
       "      <td>nan</td>\n",
       "      <td>NaN</td>\n",
       "      <td>NaN</td>\n",
       "      <td>NaT</td>\n",
       "      <td>NaT</td>\n",
       "      <td>NaN</td>\n",
       "      <td>NaN</td>\n",
       "      <td>NaN</td>\n",
       "      <td>NaN</td>\n",
       "    </tr>\n",
       "    <tr>\n",
       "      <th>438</th>\n",
       "      <td>Art House</td>\n",
       "      <td>NaN</td>\n",
       "      <td>NaN</td>\n",
       "      <td>NaT</td>\n",
       "      <td>NaT</td>\n",
       "      <td>NaN</td>\n",
       "      <td>NaN</td>\n",
       "      <td>90.0</td>\n",
       "      <td>NaN</td>\n",
       "    </tr>\n",
       "    <tr>\n",
       "      <th>438</th>\n",
       "      <td>International</td>\n",
       "      <td>NaN</td>\n",
       "      <td>NaN</td>\n",
       "      <td>NaT</td>\n",
       "      <td>NaT</td>\n",
       "      <td>NaN</td>\n",
       "      <td>NaN</td>\n",
       "      <td>90.0</td>\n",
       "      <td>NaN</td>\n",
       "    </tr>\n",
       "    <tr>\n",
       "      <th>555</th>\n",
       "      <td>Art House</td>\n",
       "      <td>NaN</td>\n",
       "      <td>NaN</td>\n",
       "      <td>NaT</td>\n",
       "      <td>NaT</td>\n",
       "      <td>NaN</td>\n",
       "      <td>NaN</td>\n",
       "      <td>NaN</td>\n",
       "      <td>NaN</td>\n",
       "    </tr>\n",
       "    <tr>\n",
       "      <th>555</th>\n",
       "      <td>International</td>\n",
       "      <td>NaN</td>\n",
       "      <td>NaN</td>\n",
       "      <td>NaT</td>\n",
       "      <td>NaT</td>\n",
       "      <td>NaN</td>\n",
       "      <td>NaN</td>\n",
       "      <td>NaN</td>\n",
       "      <td>NaN</td>\n",
       "    </tr>\n",
       "    <tr>\n",
       "      <th>555</th>\n",
       "      <td>Drama</td>\n",
       "      <td>NaN</td>\n",
       "      <td>NaN</td>\n",
       "      <td>NaT</td>\n",
       "      <td>NaT</td>\n",
       "      <td>NaN</td>\n",
       "      <td>NaN</td>\n",
       "      <td>NaN</td>\n",
       "      <td>NaN</td>\n",
       "    </tr>\n",
       "    <tr>\n",
       "      <th>555</th>\n",
       "      <td>Sports</td>\n",
       "      <td>NaN</td>\n",
       "      <td>NaN</td>\n",
       "      <td>NaT</td>\n",
       "      <td>NaT</td>\n",
       "      <td>NaN</td>\n",
       "      <td>NaN</td>\n",
       "      <td>NaN</td>\n",
       "      <td>NaN</td>\n",
       "    </tr>\n",
       "    <tr>\n",
       "      <th>555</th>\n",
       "      <td>Fitness</td>\n",
       "      <td>NaN</td>\n",
       "      <td>NaN</td>\n",
       "      <td>NaT</td>\n",
       "      <td>NaT</td>\n",
       "      <td>NaN</td>\n",
       "      <td>NaN</td>\n",
       "      <td>NaN</td>\n",
       "      <td>NaN</td>\n",
       "    </tr>\n",
       "    <tr>\n",
       "      <th>573</th>\n",
       "      <td>Drama</td>\n",
       "      <td>NaN</td>\n",
       "      <td>NaN</td>\n",
       "      <td>NaT</td>\n",
       "      <td>NaT</td>\n",
       "      <td>NaN</td>\n",
       "      <td>NaN</td>\n",
       "      <td>NaN</td>\n",
       "      <td>NaN</td>\n",
       "    </tr>\n",
       "    <tr>\n",
       "      <th>771</th>\n",
       "      <td>Action</td>\n",
       "      <td>NaN</td>\n",
       "      <td>NaN</td>\n",
       "      <td>NaT</td>\n",
       "      <td>NaT</td>\n",
       "      <td>NaN</td>\n",
       "      <td>NaN</td>\n",
       "      <td>96.0</td>\n",
       "      <td>NaN</td>\n",
       "    </tr>\n",
       "    <tr>\n",
       "      <th>771</th>\n",
       "      <td>Adventure</td>\n",
       "      <td>NaN</td>\n",
       "      <td>NaN</td>\n",
       "      <td>NaT</td>\n",
       "      <td>NaT</td>\n",
       "      <td>NaN</td>\n",
       "      <td>NaN</td>\n",
       "      <td>96.0</td>\n",
       "      <td>NaN</td>\n",
       "    </tr>\n",
       "    <tr>\n",
       "      <th>828</th>\n",
       "      <td>Drama</td>\n",
       "      <td>NaN</td>\n",
       "      <td>NaN</td>\n",
       "      <td>NaT</td>\n",
       "      <td>NaT</td>\n",
       "      <td>NaN</td>\n",
       "      <td>NaN</td>\n",
       "      <td>90.0</td>\n",
       "      <td>NaN</td>\n",
       "    </tr>\n",
       "    <tr>\n",
       "      <th>870</th>\n",
       "      <td>Art House</td>\n",
       "      <td>NaN</td>\n",
       "      <td>NaN</td>\n",
       "      <td>NaT</td>\n",
       "      <td>NaT</td>\n",
       "      <td>NaN</td>\n",
       "      <td>NaN</td>\n",
       "      <td>110.0</td>\n",
       "      <td>NaN</td>\n",
       "    </tr>\n",
       "    <tr>\n",
       "      <th>870</th>\n",
       "      <td>International</td>\n",
       "      <td>NaN</td>\n",
       "      <td>NaN</td>\n",
       "      <td>NaT</td>\n",
       "      <td>NaT</td>\n",
       "      <td>NaN</td>\n",
       "      <td>NaN</td>\n",
       "      <td>110.0</td>\n",
       "      <td>NaN</td>\n",
       "    </tr>\n",
       "    <tr>\n",
       "      <th>923</th>\n",
       "      <td>Drama</td>\n",
       "      <td>NaN</td>\n",
       "      <td>NaN</td>\n",
       "      <td>NaT</td>\n",
       "      <td>NaT</td>\n",
       "      <td>NaN</td>\n",
       "      <td>NaN</td>\n",
       "      <td>NaN</td>\n",
       "      <td>NaN</td>\n",
       "    </tr>\n",
       "    <tr>\n",
       "      <th>969</th>\n",
       "      <td>Documentary</td>\n",
       "      <td>NaN</td>\n",
       "      <td>NaN</td>\n",
       "      <td>NaT</td>\n",
       "      <td>NaT</td>\n",
       "      <td>NaN</td>\n",
       "      <td>NaN</td>\n",
       "      <td>90.0</td>\n",
       "      <td>NaN</td>\n",
       "    </tr>\n",
       "    <tr>\n",
       "      <th>1002</th>\n",
       "      <td>Drama</td>\n",
       "      <td>NaN</td>\n",
       "      <td>NaN</td>\n",
       "      <td>NaT</td>\n",
       "      <td>NaT</td>\n",
       "      <td>NaN</td>\n",
       "      <td>NaN</td>\n",
       "      <td>104.0</td>\n",
       "      <td>NaN</td>\n",
       "    </tr>\n",
       "    <tr>\n",
       "      <th>1143</th>\n",
       "      <td>Horror</td>\n",
       "      <td>NaN</td>\n",
       "      <td>NaN</td>\n",
       "      <td>NaT</td>\n",
       "      <td>NaT</td>\n",
       "      <td>NaN</td>\n",
       "      <td>NaN</td>\n",
       "      <td>NaN</td>\n",
       "      <td>NaN</td>\n",
       "    </tr>\n",
       "    <tr>\n",
       "      <th>1291</th>\n",
       "      <td>Drama</td>\n",
       "      <td>NaN</td>\n",
       "      <td>NaN</td>\n",
       "      <td>NaT</td>\n",
       "      <td>NaT</td>\n",
       "      <td>NaN</td>\n",
       "      <td>NaN</td>\n",
       "      <td>100.0</td>\n",
       "      <td>NaN</td>\n",
       "    </tr>\n",
       "    <tr>\n",
       "      <th>1342</th>\n",
       "      <td>nan</td>\n",
       "      <td>NaN</td>\n",
       "      <td>NaN</td>\n",
       "      <td>NaT</td>\n",
       "      <td>NaT</td>\n",
       "      <td>NaN</td>\n",
       "      <td>NaN</td>\n",
       "      <td>NaN</td>\n",
       "      <td>NaN</td>\n",
       "    </tr>\n",
       "    <tr>\n",
       "      <th>1362</th>\n",
       "      <td>Action</td>\n",
       "      <td>NaN</td>\n",
       "      <td>Edward Burns|Scott Frank</td>\n",
       "      <td>2004-12-17</td>\n",
       "      <td>2005-03-01</td>\n",
       "      <td>$</td>\n",
       "      <td>20900803.0</td>\n",
       "      <td>112.0</td>\n",
       "      <td>20th Century Fox</td>\n",
       "    </tr>\n",
       "    <tr>\n",
       "      <th>1362</th>\n",
       "      <td>Adventure</td>\n",
       "      <td>NaN</td>\n",
       "      <td>Edward Burns|Scott Frank</td>\n",
       "      <td>2004-12-17</td>\n",
       "      <td>2005-03-01</td>\n",
       "      <td>$</td>\n",
       "      <td>20900803.0</td>\n",
       "      <td>112.0</td>\n",
       "      <td>20th Century Fox</td>\n",
       "    </tr>\n",
       "    <tr>\n",
       "      <th>1362</th>\n",
       "      <td>Drama</td>\n",
       "      <td>NaN</td>\n",
       "      <td>Edward Burns|Scott Frank</td>\n",
       "      <td>2004-12-17</td>\n",
       "      <td>2005-03-01</td>\n",
       "      <td>$</td>\n",
       "      <td>20900803.0</td>\n",
       "      <td>112.0</td>\n",
       "      <td>20th Century Fox</td>\n",
       "    </tr>\n",
       "    <tr>\n",
       "      <th>1419</th>\n",
       "      <td>Animation</td>\n",
       "      <td>NaN</td>\n",
       "      <td>NaN</td>\n",
       "      <td>NaT</td>\n",
       "      <td>NaT</td>\n",
       "      <td>NaN</td>\n",
       "      <td>NaN</td>\n",
       "      <td>60.0</td>\n",
       "      <td>NaN</td>\n",
       "    </tr>\n",
       "    <tr>\n",
       "      <th>1419</th>\n",
       "      <td>Kids</td>\n",
       "      <td>NaN</td>\n",
       "      <td>NaN</td>\n",
       "      <td>NaT</td>\n",
       "      <td>NaT</td>\n",
       "      <td>NaN</td>\n",
       "      <td>NaN</td>\n",
       "      <td>60.0</td>\n",
       "      <td>NaN</td>\n",
       "    </tr>\n",
       "    <tr>\n",
       "      <th>1419</th>\n",
       "      <td>Family</td>\n",
       "      <td>NaN</td>\n",
       "      <td>NaN</td>\n",
       "      <td>NaT</td>\n",
       "      <td>NaT</td>\n",
       "      <td>NaN</td>\n",
       "      <td>NaN</td>\n",
       "      <td>60.0</td>\n",
       "      <td>NaN</td>\n",
       "    </tr>\n",
       "    <tr>\n",
       "      <th>1487</th>\n",
       "      <td>Action</td>\n",
       "      <td>NaN</td>\n",
       "      <td>NaN</td>\n",
       "      <td>NaT</td>\n",
       "      <td>NaT</td>\n",
       "      <td>NaN</td>\n",
       "      <td>NaN</td>\n",
       "      <td>NaN</td>\n",
       "      <td>NaN</td>\n",
       "    </tr>\n",
       "    <tr>\n",
       "      <th>1487</th>\n",
       "      <td>Adventure</td>\n",
       "      <td>NaN</td>\n",
       "      <td>NaN</td>\n",
       "      <td>NaT</td>\n",
       "      <td>NaT</td>\n",
       "      <td>NaN</td>\n",
       "      <td>NaN</td>\n",
       "      <td>NaN</td>\n",
       "      <td>NaN</td>\n",
       "    </tr>\n",
       "    <tr>\n",
       "      <th>1543</th>\n",
       "      <td>nan</td>\n",
       "      <td>NaN</td>\n",
       "      <td>NaN</td>\n",
       "      <td>NaT</td>\n",
       "      <td>NaT</td>\n",
       "      <td>NaN</td>\n",
       "      <td>NaN</td>\n",
       "      <td>NaN</td>\n",
       "      <td>NaN</td>\n",
       "    </tr>\n",
       "    <tr>\n",
       "      <th>1549</th>\n",
       "      <td>Drama</td>\n",
       "      <td>NaN</td>\n",
       "      <td>NaN</td>\n",
       "      <td>NaT</td>\n",
       "      <td>NaT</td>\n",
       "      <td>NaN</td>\n",
       "      <td>NaN</td>\n",
       "      <td>101.0</td>\n",
       "      <td>NaN</td>\n",
       "    </tr>\n",
       "  </tbody>\n",
       "</table>\n",
       "</div>"
      ],
      "text/plain": [
       "              genres director                    writer theater_date  \\\n",
       "131              nan      NaN                       NaN          NaT   \n",
       "438       Art House       NaN                       NaN          NaT   \n",
       "438    International      NaN                       NaN          NaT   \n",
       "555       Art House       NaN                       NaN          NaT   \n",
       "555    International      NaN                       NaN          NaT   \n",
       "555            Drama      NaN                       NaN          NaT   \n",
       "555          Sports       NaN                       NaN          NaT   \n",
       "555          Fitness      NaN                       NaN          NaT   \n",
       "573            Drama      NaN                       NaN          NaT   \n",
       "771          Action       NaN                       NaN          NaT   \n",
       "771        Adventure      NaN                       NaN          NaT   \n",
       "828            Drama      NaN                       NaN          NaT   \n",
       "870       Art House       NaN                       NaN          NaT   \n",
       "870    International      NaN                       NaN          NaT   \n",
       "923            Drama      NaN                       NaN          NaT   \n",
       "969      Documentary      NaN                       NaN          NaT   \n",
       "1002           Drama      NaN                       NaN          NaT   \n",
       "1143          Horror      NaN                       NaN          NaT   \n",
       "1291           Drama      NaN                       NaN          NaT   \n",
       "1342             nan      NaN                       NaN          NaT   \n",
       "1362         Action       NaN  Edward Burns|Scott Frank   2004-12-17   \n",
       "1362       Adventure      NaN  Edward Burns|Scott Frank   2004-12-17   \n",
       "1362           Drama      NaN  Edward Burns|Scott Frank   2004-12-17   \n",
       "1419       Animation      NaN                       NaN          NaT   \n",
       "1419           Kids       NaN                       NaN          NaT   \n",
       "1419          Family      NaN                       NaN          NaT   \n",
       "1487         Action       NaN                       NaN          NaT   \n",
       "1487       Adventure      NaN                       NaN          NaT   \n",
       "1543             nan      NaN                       NaN          NaT   \n",
       "1549           Drama      NaN                       NaN          NaT   \n",
       "\n",
       "       dvd_date currency  box_office  runtime            studio  \n",
       "131         NaT      NaN         NaN      NaN               NaN  \n",
       "438         NaT      NaN         NaN     90.0               NaN  \n",
       "438         NaT      NaN         NaN     90.0               NaN  \n",
       "555         NaT      NaN         NaN      NaN               NaN  \n",
       "555         NaT      NaN         NaN      NaN               NaN  \n",
       "555         NaT      NaN         NaN      NaN               NaN  \n",
       "555         NaT      NaN         NaN      NaN               NaN  \n",
       "555         NaT      NaN         NaN      NaN               NaN  \n",
       "573         NaT      NaN         NaN      NaN               NaN  \n",
       "771         NaT      NaN         NaN     96.0               NaN  \n",
       "771         NaT      NaN         NaN     96.0               NaN  \n",
       "828         NaT      NaN         NaN     90.0               NaN  \n",
       "870         NaT      NaN         NaN    110.0               NaN  \n",
       "870         NaT      NaN         NaN    110.0               NaN  \n",
       "923         NaT      NaN         NaN      NaN               NaN  \n",
       "969         NaT      NaN         NaN     90.0               NaN  \n",
       "1002        NaT      NaN         NaN    104.0               NaN  \n",
       "1143        NaT      NaN         NaN      NaN               NaN  \n",
       "1291        NaT      NaN         NaN    100.0               NaN  \n",
       "1342        NaT      NaN         NaN      NaN               NaN  \n",
       "1362 2005-03-01        $  20900803.0    112.0  20th Century Fox  \n",
       "1362 2005-03-01        $  20900803.0    112.0  20th Century Fox  \n",
       "1362 2005-03-01        $  20900803.0    112.0  20th Century Fox  \n",
       "1419        NaT      NaN         NaN     60.0               NaN  \n",
       "1419        NaT      NaN         NaN     60.0               NaN  \n",
       "1419        NaT      NaN         NaN     60.0               NaN  \n",
       "1487        NaT      NaN         NaN      NaN               NaN  \n",
       "1487        NaT      NaN         NaN      NaN               NaN  \n",
       "1543        NaT      NaN         NaN      NaN               NaN  \n",
       "1549        NaT      NaN         NaN    101.0               NaN  "
      ]
     },
     "execution_count": 44,
     "metadata": {},
     "output_type": "execute_result"
    }
   ],
   "source": [
    "# Checking for duplicate values using .duplicated()\n",
    "duplicate = movie2[movie2.duplicated()]\n",
    "duplicate"
   ]
  },
  {
   "cell_type": "code",
   "execution_count": 45,
   "metadata": {},
   "outputs": [],
   "source": [
    "#Remove the duplicate values\n",
    "movie2 = movie2.drop_duplicates(keep = \"first\")"
   ]
  },
  {
   "cell_type": "markdown",
   "metadata": {},
   "source": [
    "#### Identifying and Handling Missing Values"
   ]
  },
  {
   "cell_type": "code",
   "execution_count": 46,
   "metadata": {},
   "outputs": [
    {
     "data": {
      "text/plain": [
       "genres             0\n",
       "director         585\n",
       "writer          1384\n",
       "theater_date     943\n",
       "dvd_date         943\n",
       "currency        3899\n",
       "box_office      3899\n",
       "runtime           64\n",
       "studio          3421\n",
       "dtype: int64"
      ]
     },
     "execution_count": 46,
     "metadata": {},
     "output_type": "execute_result"
    }
   ],
   "source": [
    "# checking is thier any missing values\n",
    "movie2.isna().sum()"
   ]
  },
  {
   "cell_type": "code",
   "execution_count": 47,
   "metadata": {
    "scrolled": true
   },
   "outputs": [
    {
     "data": {
      "text/plain": [
       "(4885, 9)"
      ]
     },
     "execution_count": 47,
     "metadata": {},
     "output_type": "execute_result"
    }
   ],
   "source": [
    "movie2.shape"
   ]
  },
  {
   "cell_type": "markdown",
   "metadata": {},
   "source": [
    "#### Data Imputation\n",
    "\n",
    "We have a lot of missing values. We have to handle them either by removing non-important columns for our analysis by using 'dropna()', or for numeric columns, filling the missing values with the median or mean value of the same column that has missing numerical values using 'fillna()' based on the column distribution. However, we use the 'mode' to fill missing values for non-numeric columns."
   ]
  },
  {
   "cell_type": "code",
   "execution_count": 48,
   "metadata": {},
   "outputs": [
    {
     "data": {
      "text/plain": [
       "<Axes: title={'center': 'Box Office Distribution'}, ylabel='Frequency'>"
      ]
     },
     "execution_count": 48,
     "metadata": {},
     "output_type": "execute_result"
    },
    {
     "data": {
      "image/png": "[encoded data removed]",
      "text/plain": [
       "<Figure size 640x480 with 1 Axes>"
      ]
     },
     "metadata": {},
     "output_type": "display_data"
    }
   ],
   "source": [
    "# create a histogram plot to identify data distribution\n",
    "movie2[\"box_office\"].plot(kind =\"hist\",title=\"Box Office Distribution\")"
   ]
  },
  {
   "cell_type": "markdown",
   "metadata": {
    "scrolled": true
   },
   "source": [
    "Based on our plot we can notice that the data is skewed.Median is preferred if data is numeric and skewed."
   ]
  },
  {
   "cell_type": "code",
   "execution_count": 49,
   "metadata": {},
   "outputs": [],
   "source": [
    "#filling the missing values with median by using .fillna() method\n",
    "movie2[\"box_office\"]= movie2[\"box_office\"].fillna(movie2[\"box_office\"].median())"
   ]
  },
  {
   "cell_type": "code",
   "execution_count": 50,
   "metadata": {},
   "outputs": [
    {
     "data": {
      "text/plain": [
       "0    $\n",
       "Name: currency, dtype: object"
      ]
     },
     "execution_count": 50,
     "metadata": {},
     "output_type": "execute_result"
    }
   ],
   "source": [
    "#Identify mode for the currency column\n",
    "movie2[\"currency\"].mode()"
   ]
  },
  {
   "cell_type": "code",
   "execution_count": 51,
   "metadata": {
    "scrolled": true
   },
   "outputs": [],
   "source": [
    "#filling the missing values of currency column with mode by using .fillna() method\n",
    "movie2[\"currency\"] = movie2[\"currency\"].fillna(\"$\")"
   ]
  },
  {
   "cell_type": "code",
   "execution_count": 52,
   "metadata": {},
   "outputs": [],
   "source": [
    "#filling the missing values of director column with mode by using .fillna() method\n",
    "movie2[\"director\"] = movie2[\"director\"].fillna(movie2[\"director\"])"
   ]
  },
  {
   "cell_type": "code",
   "execution_count": 53,
   "metadata": {},
   "outputs": [],
   "source": [
    "# drop some columns contain missing values\n",
    "movie2 = movie2.drop(columns = [\"studio\",\"dvd_date\",\"runtime\",\"writer\"],axis = 1)"
   ]
  },
  {
   "cell_type": "code",
   "execution_count": 54,
   "metadata": {},
   "outputs": [],
   "source": [
    "# drop missing values\n",
    "movie2 = movie2.dropna()"
   ]
  },
  {
   "cell_type": "code",
   "execution_count": 55,
   "metadata": {},
   "outputs": [],
   "source": [
    "# changing the column name by using .rename()\n",
    "movie2 = movie2.rename(columns ={\"theater_date\": \"release_date\" })"
   ]
  },
  {
   "cell_type": "code",
   "execution_count": 56,
   "metadata": {},
   "outputs": [
    {
     "data": {
      "text/plain": [
       "genres          0\n",
       "director        0\n",
       "release_date    0\n",
       "currency        0\n",
       "box_office      0\n",
       "dtype: int64"
      ]
     },
     "execution_count": 56,
     "metadata": {},
     "output_type": "execute_result"
    }
   ],
   "source": [
    "#checking for missing values\n",
    "movie2.isna().sum()"
   ]
  },
  {
   "cell_type": "code",
   "execution_count": 57,
   "metadata": {
    "scrolled": false
   },
   "outputs": [
    {
     "data": {
      "text/plain": [
       "(3524, 5)"
      ]
     },
     "execution_count": 57,
     "metadata": {},
     "output_type": "execute_result"
    }
   ],
   "source": [
    "# obtain the shape of a DataFrame\n",
    "movie2.shape"
   ]
  },
  {
   "cell_type": "markdown",
   "metadata": {},
   "source": [
    "#### Join DataFrames movie1 and movie2\n",
    "Joining the Dataframes Together First, identify the shared key between them. (Shared key meaning, the values we want to join on). The shared key between these two dataframes is (genres) column. We will use merge() method"
   ]
  },
  {
   "cell_type": "code",
   "execution_count": 58,
   "metadata": {},
   "outputs": [
    {
     "data": {
      "text/html": [
       "<div>\n",
       "<style scoped>\n",
       "    .dataframe tbody tr th:only-of-type {\n",
       "        vertical-align: middle;\n",
       "    }\n",
       "\n",
       "    .dataframe tbody tr th {\n",
       "        vertical-align: top;\n",
       "    }\n",
       "\n",
       "    .dataframe thead th {\n",
       "        text-align: right;\n",
       "    }\n",
       "</style>\n",
       "<table border=\"1\" class=\"dataframe\">\n",
       "  <thead>\n",
       "    <tr style=\"text-align: right;\">\n",
       "      <th></th>\n",
       "      <th>Title</th>\n",
       "      <th>genres</th>\n",
       "      <th>runtime</th>\n",
       "      <th>rating</th>\n",
       "      <th>numvotes</th>\n",
       "      <th>director</th>\n",
       "      <th>release_date</th>\n",
       "      <th>currency</th>\n",
       "      <th>box_office</th>\n",
       "    </tr>\n",
       "  </thead>\n",
       "  <tbody>\n",
       "    <tr>\n",
       "      <th>0</th>\n",
       "      <td>Love on a Leash</td>\n",
       "      <td>Documentary</td>\n",
       "      <td>10.0</td>\n",
       "      <td>9.7</td>\n",
       "      <td>25</td>\n",
       "      <td>Sam Irwin</td>\n",
       "      <td>1994-04-01</td>\n",
       "      <td>$</td>\n",
       "      <td>15671532.5</td>\n",
       "    </tr>\n",
       "    <tr>\n",
       "      <th>1</th>\n",
       "      <td>Love on a Leash</td>\n",
       "      <td>Documentary</td>\n",
       "      <td>10.0</td>\n",
       "      <td>9.7</td>\n",
       "      <td>25</td>\n",
       "      <td>Stanley Kramer</td>\n",
       "      <td>1965-07-29</td>\n",
       "      <td>$</td>\n",
       "      <td>15671532.5</td>\n",
       "    </tr>\n",
       "    <tr>\n",
       "      <th>2</th>\n",
       "      <td>Love on a Leash</td>\n",
       "      <td>Documentary</td>\n",
       "      <td>10.0</td>\n",
       "      <td>9.7</td>\n",
       "      <td>25</td>\n",
       "      <td>Jeffrey Levy-Hinte</td>\n",
       "      <td>2009-07-10</td>\n",
       "      <td>$</td>\n",
       "      <td>200000.0</td>\n",
       "    </tr>\n",
       "    <tr>\n",
       "      <th>3</th>\n",
       "      <td>Love on a Leash</td>\n",
       "      <td>Documentary</td>\n",
       "      <td>10.0</td>\n",
       "      <td>9.7</td>\n",
       "      <td>25</td>\n",
       "      <td>Dave Grohl</td>\n",
       "      <td>2013-02-01</td>\n",
       "      <td>$</td>\n",
       "      <td>419361.0</td>\n",
       "    </tr>\n",
       "    <tr>\n",
       "      <th>4</th>\n",
       "      <td>Love on a Leash</td>\n",
       "      <td>Documentary</td>\n",
       "      <td>10.0</td>\n",
       "      <td>9.7</td>\n",
       "      <td>25</td>\n",
       "      <td>Leon Gast</td>\n",
       "      <td>2010-07-30</td>\n",
       "      <td>$</td>\n",
       "      <td>2367.0</td>\n",
       "    </tr>\n",
       "  </tbody>\n",
       "</table>\n",
       "</div>"
      ],
      "text/plain": [
       "             Title       genres  runtime  rating  numvotes  \\\n",
       "0  Love on a Leash  Documentary     10.0     9.7        25   \n",
       "1  Love on a Leash  Documentary     10.0     9.7        25   \n",
       "2  Love on a Leash  Documentary     10.0     9.7        25   \n",
       "3  Love on a Leash  Documentary     10.0     9.7        25   \n",
       "4  Love on a Leash  Documentary     10.0     9.7        25   \n",
       "\n",
       "             director release_date currency  box_office  \n",
       "0           Sam Irwin   1994-04-01        $  15671532.5  \n",
       "1      Stanley Kramer   1965-07-29        $  15671532.5  \n",
       "2  Jeffrey Levy-Hinte   2009-07-10        $    200000.0  \n",
       "3          Dave Grohl   2013-02-01        $    419361.0  \n",
       "4           Leon Gast   2010-07-30        $      2367.0  "
      ]
     },
     "execution_count": 58,
     "metadata": {},
     "output_type": "execute_result"
    }
   ],
   "source": [
    "# Create new data frame by combining movie1 and movie2 using .merge()method\n",
    "# View the top of the data frame.\n",
    "genre_df = pd.merge(movie1,movie2,on=\"genres\",how =\"left\")\n",
    "genre_df.head()"
   ]
  },
  {
   "cell_type": "markdown",
   "metadata": {
    "scrolled": false
   },
   "source": [
    "The merge between the two dataframes is Left Join returns all the records from the left table, as well as the shared records from the right table "
   ]
  },
  {
   "cell_type": "code",
   "execution_count": 59,
   "metadata": {},
   "outputs": [
    {
     "data": {
      "text/plain": [
       "(80862, 9)"
      ]
     },
     "execution_count": 59,
     "metadata": {},
     "output_type": "execute_result"
    }
   ],
   "source": [
    "#obtain the shape of a DataFrame\n",
    "genre_df.shape"
   ]
  },
  {
   "cell_type": "code",
   "execution_count": 60,
   "metadata": {},
   "outputs": [
    {
     "data": {
      "text/plain": [
       "Title             0\n",
       "genres            0\n",
       "runtime           0\n",
       "rating            0\n",
       "numvotes          0\n",
       "director        475\n",
       "release_date    475\n",
       "currency        475\n",
       "box_office      475\n",
       "dtype: int64"
      ]
     },
     "execution_count": 60,
     "metadata": {},
     "output_type": "execute_result"
    }
   ],
   "source": [
    "#Checking for missing values\n",
    "genre_df.isna().sum()"
   ]
  },
  {
   "cell_type": "markdown",
   "metadata": {
    "scrolled": true
   },
   "source": [
    "We got small amount of missing values in some columns its better to drop them."
   ]
  },
  {
   "cell_type": "code",
   "execution_count": 61,
   "metadata": {},
   "outputs": [
    {
     "data": {
      "text/html": [
       "<div>\n",
       "<style scoped>\n",
       "    .dataframe tbody tr th:only-of-type {\n",
       "        vertical-align: middle;\n",
       "    }\n",
       "\n",
       "    .dataframe tbody tr th {\n",
       "        vertical-align: top;\n",
       "    }\n",
       "\n",
       "    .dataframe thead th {\n",
       "        text-align: right;\n",
       "    }\n",
       "</style>\n",
       "<table border=\"1\" class=\"dataframe\">\n",
       "  <thead>\n",
       "    <tr style=\"text-align: right;\">\n",
       "      <th></th>\n",
       "      <th>Title</th>\n",
       "      <th>genres</th>\n",
       "      <th>runtime</th>\n",
       "      <th>rating</th>\n",
       "      <th>numvotes</th>\n",
       "      <th>director</th>\n",
       "      <th>release_date</th>\n",
       "      <th>currency</th>\n",
       "      <th>box_office</th>\n",
       "    </tr>\n",
       "  </thead>\n",
       "  <tbody>\n",
       "    <tr>\n",
       "      <th>0</th>\n",
       "      <td>Love on a Leash</td>\n",
       "      <td>Documentary</td>\n",
       "      <td>10.0</td>\n",
       "      <td>9.7</td>\n",
       "      <td>25</td>\n",
       "      <td>Sam Irwin</td>\n",
       "      <td>1994-04-01</td>\n",
       "      <td>$</td>\n",
       "      <td>15671532.5</td>\n",
       "    </tr>\n",
       "    <tr>\n",
       "      <th>1</th>\n",
       "      <td>Love on a Leash</td>\n",
       "      <td>Documentary</td>\n",
       "      <td>10.0</td>\n",
       "      <td>9.7</td>\n",
       "      <td>25</td>\n",
       "      <td>Stanley Kramer</td>\n",
       "      <td>1965-07-29</td>\n",
       "      <td>$</td>\n",
       "      <td>15671532.5</td>\n",
       "    </tr>\n",
       "    <tr>\n",
       "      <th>2</th>\n",
       "      <td>Love on a Leash</td>\n",
       "      <td>Documentary</td>\n",
       "      <td>10.0</td>\n",
       "      <td>9.7</td>\n",
       "      <td>25</td>\n",
       "      <td>Jeffrey Levy-Hinte</td>\n",
       "      <td>2009-07-10</td>\n",
       "      <td>$</td>\n",
       "      <td>200000.0</td>\n",
       "    </tr>\n",
       "    <tr>\n",
       "      <th>3</th>\n",
       "      <td>Love on a Leash</td>\n",
       "      <td>Documentary</td>\n",
       "      <td>10.0</td>\n",
       "      <td>9.7</td>\n",
       "      <td>25</td>\n",
       "      <td>Dave Grohl</td>\n",
       "      <td>2013-02-01</td>\n",
       "      <td>$</td>\n",
       "      <td>419361.0</td>\n",
       "    </tr>\n",
       "    <tr>\n",
       "      <th>4</th>\n",
       "      <td>Love on a Leash</td>\n",
       "      <td>Documentary</td>\n",
       "      <td>10.0</td>\n",
       "      <td>9.7</td>\n",
       "      <td>25</td>\n",
       "      <td>Leon Gast</td>\n",
       "      <td>2010-07-30</td>\n",
       "      <td>$</td>\n",
       "      <td>2367.0</td>\n",
       "    </tr>\n",
       "  </tbody>\n",
       "</table>\n",
       "</div>"
      ],
      "text/plain": [
       "             Title       genres  runtime  rating  numvotes  \\\n",
       "0  Love on a Leash  Documentary     10.0     9.7        25   \n",
       "1  Love on a Leash  Documentary     10.0     9.7        25   \n",
       "2  Love on a Leash  Documentary     10.0     9.7        25   \n",
       "3  Love on a Leash  Documentary     10.0     9.7        25   \n",
       "4  Love on a Leash  Documentary     10.0     9.7        25   \n",
       "\n",
       "             director release_date currency  box_office  \n",
       "0           Sam Irwin   1994-04-01        $  15671532.5  \n",
       "1      Stanley Kramer   1965-07-29        $  15671532.5  \n",
       "2  Jeffrey Levy-Hinte   2009-07-10        $    200000.0  \n",
       "3          Dave Grohl   2013-02-01        $    419361.0  \n",
       "4           Leon Gast   2010-07-30        $      2367.0  "
      ]
     },
     "execution_count": 61,
     "metadata": {},
     "output_type": "execute_result"
    }
   ],
   "source": [
    "#Drop the missing values using .dropna() method.\n",
    "genre_df = genre_df.dropna()\n",
    "genre_df.head()"
   ]
  },
  {
   "cell_type": "code",
   "execution_count": 62,
   "metadata": {},
   "outputs": [
    {
     "data": {
      "text/plain": [
       "(80387, 9)"
      ]
     },
     "execution_count": 62,
     "metadata": {},
     "output_type": "execute_result"
    }
   ],
   "source": [
    "# obtain the shape of the dataframe\n",
    "genre_df.shape"
   ]
  },
  {
   "cell_type": "markdown",
   "metadata": {
    "scrolled": true
   },
   "source": [
    "#### Movie3 Preprocessing\n"
   ]
  },
  {
   "cell_type": "code",
   "execution_count": 63,
   "metadata": {},
   "outputs": [
    {
     "name": "stdout",
     "output_type": "stream",
     "text": [
      "<class 'pandas.core.frame.DataFrame'>\n",
      "RangeIndex: 3387 entries, 0 to 3386\n",
      "Data columns (total 5 columns):\n",
      " #   Column          Non-Null Count  Dtype  \n",
      "---  ------          --------------  -----  \n",
      " 0   title           3387 non-null   object \n",
      " 1   studio          3382 non-null   object \n",
      " 2   domestic_gross  3359 non-null   float64\n",
      " 3   foreign_gross   2037 non-null   object \n",
      " 4   year            3387 non-null   int64  \n",
      "dtypes: float64(1), int64(1), object(3)\n",
      "memory usage: 132.4+ KB\n"
     ]
    }
   ],
   "source": [
    "# summary of our data frame df using .info() method\n",
    "movie3.info()"
   ]
  },
  {
   "cell_type": "markdown",
   "metadata": {},
   "source": [
    "The data types : The columns containing strings are type object, The columns containing whole number are type int64 whereas, The columns containing decimal numbers are type float64.\n"
   ]
  },
  {
   "cell_type": "markdown",
   "metadata": {
    "scrolled": true
   },
   "source": [
    "#### Checking for Duplicate Values"
   ]
  },
  {
   "cell_type": "code",
   "execution_count": 64,
   "metadata": {},
   "outputs": [
    {
     "data": {
      "text/html": [
       "<div>\n",
       "<style scoped>\n",
       "    .dataframe tbody tr th:only-of-type {\n",
       "        vertical-align: middle;\n",
       "    }\n",
       "\n",
       "    .dataframe tbody tr th {\n",
       "        vertical-align: top;\n",
       "    }\n",
       "\n",
       "    .dataframe thead th {\n",
       "        text-align: right;\n",
       "    }\n",
       "</style>\n",
       "<table border=\"1\" class=\"dataframe\">\n",
       "  <thead>\n",
       "    <tr style=\"text-align: right;\">\n",
       "      <th></th>\n",
       "      <th>title</th>\n",
       "      <th>studio</th>\n",
       "      <th>domestic_gross</th>\n",
       "      <th>foreign_gross</th>\n",
       "      <th>year</th>\n",
       "    </tr>\n",
       "  </thead>\n",
       "  <tbody>\n",
       "  </tbody>\n",
       "</table>\n",
       "</div>"
      ],
      "text/plain": [
       "Empty DataFrame\n",
       "Columns: [title, studio, domestic_gross, foreign_gross, year]\n",
       "Index: []"
      ]
     },
     "execution_count": 64,
     "metadata": {},
     "output_type": "execute_result"
    }
   ],
   "source": [
    "# Checking for duplicate values using .duplicated()\n",
    "duplicate = movie3[movie3.duplicated()]\n",
    "duplicate"
   ]
  },
  {
   "cell_type": "markdown",
   "metadata": {
    "scrolled": true
   },
   "source": [
    "There is no duplicated values"
   ]
  },
  {
   "cell_type": "code",
   "execution_count": 69,
   "metadata": {
    "scrolled": true
   },
   "outputs": [
    {
     "data": {
      "text/plain": [
       "Title                0\n",
       "studio               5\n",
       "domestic_gross      28\n",
       "foreign_gross     1350\n",
       "dtype: int64"
      ]
     },
     "execution_count": 69,
     "metadata": {},
     "output_type": "execute_result"
    }
   ],
   "source": [
    "# Checking for missing values using .isna()\n",
    "movie3.isna().sum()"
   ]
  },
  {
   "cell_type": "markdown",
   "metadata": {},
   "source": [
    "We have some missing values we will deal with it."
   ]
  },
  {
   "cell_type": "code",
   "execution_count": 66,
   "metadata": {
    "scrolled": false
   },
   "outputs": [],
   "source": [
    "#remove a column using .drop() method\n",
    "movie3 = movie3.drop(columns =\"year\",axis=1)"
   ]
  },
  {
   "cell_type": "code",
   "execution_count": 67,
   "metadata": {},
   "outputs": [],
   "source": [
    "# changing the column name by using .rename()\n",
    "movie3 = movie3.rename(columns ={\"title\":\"Title\"})"
   ]
  },
  {
   "cell_type": "code",
   "execution_count": 68,
   "metadata": {},
   "outputs": [
    {
     "data": {
      "text/html": [
       "<div>\n",
       "<style scoped>\n",
       "    .dataframe tbody tr th:only-of-type {\n",
       "        vertical-align: middle;\n",
       "    }\n",
       "\n",
       "    .dataframe tbody tr th {\n",
       "        vertical-align: top;\n",
       "    }\n",
       "\n",
       "    .dataframe thead th {\n",
       "        text-align: right;\n",
       "    }\n",
       "</style>\n",
       "<table border=\"1\" class=\"dataframe\">\n",
       "  <thead>\n",
       "    <tr style=\"text-align: right;\">\n",
       "      <th></th>\n",
       "      <th>Title</th>\n",
       "      <th>studio</th>\n",
       "      <th>domestic_gross</th>\n",
       "      <th>foreign_gross</th>\n",
       "    </tr>\n",
       "  </thead>\n",
       "  <tbody>\n",
       "    <tr>\n",
       "      <th>0</th>\n",
       "      <td>Toy Story 3</td>\n",
       "      <td>BV</td>\n",
       "      <td>415000000.0</td>\n",
       "      <td>652000000</td>\n",
       "    </tr>\n",
       "    <tr>\n",
       "      <th>1</th>\n",
       "      <td>Alice in Wonderland (2010)</td>\n",
       "      <td>BV</td>\n",
       "      <td>334200000.0</td>\n",
       "      <td>691300000</td>\n",
       "    </tr>\n",
       "    <tr>\n",
       "      <th>2</th>\n",
       "      <td>Harry Potter and the Deathly Hallows Part 1</td>\n",
       "      <td>WB</td>\n",
       "      <td>296000000.0</td>\n",
       "      <td>664300000</td>\n",
       "    </tr>\n",
       "    <tr>\n",
       "      <th>3</th>\n",
       "      <td>Inception</td>\n",
       "      <td>WB</td>\n",
       "      <td>292600000.0</td>\n",
       "      <td>535700000</td>\n",
       "    </tr>\n",
       "    <tr>\n",
       "      <th>4</th>\n",
       "      <td>Shrek Forever After</td>\n",
       "      <td>P/DW</td>\n",
       "      <td>238700000.0</td>\n",
       "      <td>513900000</td>\n",
       "    </tr>\n",
       "  </tbody>\n",
       "</table>\n",
       "</div>"
      ],
      "text/plain": [
       "                                         Title studio  domestic_gross  \\\n",
       "0                                  Toy Story 3     BV     415000000.0   \n",
       "1                   Alice in Wonderland (2010)     BV     334200000.0   \n",
       "2  Harry Potter and the Deathly Hallows Part 1     WB     296000000.0   \n",
       "3                                    Inception     WB     292600000.0   \n",
       "4                          Shrek Forever After   P/DW     238700000.0   \n",
       "\n",
       "  foreign_gross  \n",
       "0     652000000  \n",
       "1     691300000  \n",
       "2     664300000  \n",
       "3     535700000  \n",
       "4     513900000  "
      ]
     },
     "execution_count": 68,
     "metadata": {},
     "output_type": "execute_result"
    }
   ],
   "source": [
    "# display the top of the dataframe\n",
    "movie3.head()"
   ]
  },
  {
   "cell_type": "markdown",
   "metadata": {
    "scrolled": false
   },
   "source": [
    "#### Data Imputation\n",
    "For numeric columns domestic_gross and foreign_gross, filling the missing values with the median or mean value of the same column that has missing numerical values using 'fillna()' based on the column distribution."
   ]
  },
  {
   "cell_type": "code",
   "execution_count": 70,
   "metadata": {},
   "outputs": [
    {
     "data": {
      "text/plain": [
       "<Axes: title={'center': 'Domestic Gross Distribution'}, ylabel='Frequency'>"
      ]
     },
     "execution_count": 70,
     "metadata": {},
     "output_type": "execute_result"
    },
    {
     "data": {
      "image/png": "[encoded data removed]",
      "text/plain": [
       "<Figure size 640x480 with 1 Axes>"
      ]
     },
     "metadata": {},
     "output_type": "display_data"
    }
   ],
   "source": [
    "# create a histogram plot to identify data distribution\n",
    "movie3[\"domestic_gross\"].plot(kind =\"hist\",title =\"Domestic Gross Distribution\")"
   ]
  },
  {
   "cell_type": "markdown",
   "metadata": {
    "scrolled": true
   },
   "source": [
    "Based on our plot we can notice that the data is skewed.Median is preferred if data is numeric and skewed."
   ]
  },
  {
   "cell_type": "code",
   "execution_count": 72,
   "metadata": {},
   "outputs": [],
   "source": [
    "#filling the missing values with median by using .fillna() method\n",
    "movie3[\"domestic_gross\"] = movie3[\"domestic_gross\"].fillna(movie3[\"domestic_gross\"].median())"
   ]
  },
  {
   "cell_type": "code",
   "execution_count": 73,
   "metadata": {},
   "outputs": [],
   "source": [
    "# Convert the column type from object to string\n",
    "movie3 [\"foreign_gross\"] = movie3 [\"foreign_gross\"].astype(str)"
   ]
  },
  {
   "cell_type": "code",
   "execution_count": 74,
   "metadata": {},
   "outputs": [],
   "source": [
    "# Apply the clean_box_office function to the foreign_gross column\n",
    "movie3 [\"foreign_gross\"] = movie3[\"foreign_gross\"].apply(clean_box_office)"
   ]
  },
  {
   "cell_type": "code",
   "execution_count": 75,
   "metadata": {},
   "outputs": [
    {
     "data": {
      "text/plain": [
       "<Axes: title={'center': 'Distribution of Forgin Gross'}, ylabel='Frequency'>"
      ]
     },
     "execution_count": 75,
     "metadata": {},
     "output_type": "execute_result"
    },
    {
     "data": {
      "image/png": "[encoded data removed]",
      "text/plain": [
       "<Figure size 640x480 with 1 Axes>"
      ]
     },
     "metadata": {},
     "output_type": "display_data"
    }
   ],
   "source": [
    "# create a histogram plot to identify data distribution\n",
    "movie3[\"foreign_gross\"].plot(kind =\"hist\",title =\"Distribution of Forgin Gross\")"
   ]
  },
  {
   "cell_type": "code",
   "execution_count": 76,
   "metadata": {},
   "outputs": [],
   "source": [
    "#filling the missing values with median by using .fillna() method\n",
    "movie3[\"foreign_gross\"] = movie3[\"foreign_gross\"].fillna(movie3[\"foreign_gross\"].median())"
   ]
  },
  {
   "cell_type": "markdown",
   "metadata": {},
   "source": [
    "#### Movie4 Preprocessing"
   ]
  },
  {
   "cell_type": "code",
   "execution_count": 77,
   "metadata": {},
   "outputs": [
    {
     "name": "stdout",
     "output_type": "stream",
     "text": [
      "<class 'pandas.core.frame.DataFrame'>\n",
      "Int64Index: 5782 entries, 1 to 82\n",
      "Data columns (total 5 columns):\n",
      " #   Column             Non-Null Count  Dtype \n",
      "---  ------             --------------  ----- \n",
      " 0   release_date       5782 non-null   object\n",
      " 1   movie              5782 non-null   object\n",
      " 2   production_budget  5782 non-null   object\n",
      " 3   domestic_gross     5782 non-null   object\n",
      " 4   worldwide_gross    5782 non-null   object\n",
      "dtypes: object(5)\n",
      "memory usage: 271.0+ KB\n"
     ]
    }
   ],
   "source": [
    "# summary of our data frame df using .info() method\n",
    "movie4.info()"
   ]
  },
  {
   "cell_type": "markdown",
   "metadata": {},
   "source": [
    "Based on the summery above all the columns types are object , We have to change some of thier types such as converting the release_date column's type from object to date ,(production,domestic,worldwide)from object to float."
   ]
  },
  {
   "cell_type": "code",
   "execution_count": 78,
   "metadata": {},
   "outputs": [],
   "source": [
    "# create a new column to the dataframe\n",
    "movie4[\"currency\"] = \"$\""
   ]
  },
  {
   "cell_type": "code",
   "execution_count": 79,
   "metadata": {
    "scrolled": false
   },
   "outputs": [],
   "source": [
    "#  Create a function toremove $ char from columns.\n",
    "def remove_dollar(val):\n",
    "    val = val.replace(\"$\",\"\")\n",
    "    val = val.replace(\",\",\"\")\n",
    "    return float(val)"
   ]
  },
  {
   "cell_type": "code",
   "execution_count": 80,
   "metadata": {},
   "outputs": [],
   "source": [
    "# Convert the column type from object to string\n",
    "movie4[\"production_budget\"] = movie4[\"production_budget\"].astype(str)"
   ]
  },
  {
   "cell_type": "code",
   "execution_count": 81,
   "metadata": {},
   "outputs": [],
   "source": [
    "# Apply the remove_dollar function to the production_budget column\n",
    "movie4[\"production_budget\"] = movie4[\"production_budget\"].apply(remove_dollar)"
   ]
  },
  {
   "cell_type": "code",
   "execution_count": 82,
   "metadata": {},
   "outputs": [],
   "source": [
    "# Convert the column type from object to string\n",
    "movie4[\"domestic_gross\"] = movie4[\"domestic_gross\"].astype(str)"
   ]
  },
  {
   "cell_type": "code",
   "execution_count": 83,
   "metadata": {},
   "outputs": [],
   "source": [
    "# Apply the remove_dollar function to the domestic_gross column\n",
    "movie4[\"domestic_gross\"] = movie4[\"domestic_gross\"] .apply(remove_dollar)"
   ]
  },
  {
   "cell_type": "code",
   "execution_count": 84,
   "metadata": {},
   "outputs": [],
   "source": [
    "# Convert the column type from object to string\n",
    "movie4[\"worldwide_gross\"] = movie4[\"worldwide_gross\"].astype(str)"
   ]
  },
  {
   "cell_type": "code",
   "execution_count": 85,
   "metadata": {},
   "outputs": [],
   "source": [
    "# Apply the remove_dollar function to the worldwide_gross column\n",
    "movie4[\"worldwide_gross\"] = movie4[\"worldwide_gross\"].apply(remove_dollar)"
   ]
  },
  {
   "cell_type": "code",
   "execution_count": 86,
   "metadata": {},
   "outputs": [],
   "source": [
    "# changing the column name by using .rename()\n",
    "movie4 = movie4.rename(columns = {\"movie\":\"Title\"})"
   ]
  },
  {
   "cell_type": "code",
   "execution_count": 87,
   "metadata": {},
   "outputs": [],
   "source": [
    "# changing the column name by using .rename()\n",
    "movie4 = movie4.rename(columns = {\"worldwide_gross\":\"foreign_gross\"})"
   ]
  },
  {
   "cell_type": "code",
   "execution_count": 88,
   "metadata": {},
   "outputs": [
    {
     "data": {
      "text/html": [
       "<div>\n",
       "<style scoped>\n",
       "    .dataframe tbody tr th:only-of-type {\n",
       "        vertical-align: middle;\n",
       "    }\n",
       "\n",
       "    .dataframe tbody tr th {\n",
       "        vertical-align: top;\n",
       "    }\n",
       "\n",
       "    .dataframe thead th {\n",
       "        text-align: right;\n",
       "    }\n",
       "</style>\n",
       "<table border=\"1\" class=\"dataframe\">\n",
       "  <thead>\n",
       "    <tr style=\"text-align: right;\">\n",
       "      <th></th>\n",
       "      <th>release_date</th>\n",
       "      <th>Title</th>\n",
       "      <th>production_budget</th>\n",
       "      <th>domestic_gross</th>\n",
       "      <th>foreign_gross</th>\n",
       "      <th>currency</th>\n",
       "    </tr>\n",
       "    <tr>\n",
       "      <th>id</th>\n",
       "      <th></th>\n",
       "      <th></th>\n",
       "      <th></th>\n",
       "      <th></th>\n",
       "      <th></th>\n",
       "      <th></th>\n",
       "    </tr>\n",
       "  </thead>\n",
       "  <tbody>\n",
       "    <tr>\n",
       "      <th>1</th>\n",
       "      <td>Dec 18, 2009</td>\n",
       "      <td>Avatar</td>\n",
       "      <td>425000000.0</td>\n",
       "      <td>760507625.0</td>\n",
       "      <td>2.776345e+09</td>\n",
       "      <td>$</td>\n",
       "    </tr>\n",
       "    <tr>\n",
       "      <th>2</th>\n",
       "      <td>May 20, 2011</td>\n",
       "      <td>Pirates of the Caribbean: On Stranger Tides</td>\n",
       "      <td>410600000.0</td>\n",
       "      <td>241063875.0</td>\n",
       "      <td>1.045664e+09</td>\n",
       "      <td>$</td>\n",
       "    </tr>\n",
       "    <tr>\n",
       "      <th>3</th>\n",
       "      <td>Jun 7, 2019</td>\n",
       "      <td>Dark Phoenix</td>\n",
       "      <td>350000000.0</td>\n",
       "      <td>42762350.0</td>\n",
       "      <td>1.497624e+08</td>\n",
       "      <td>$</td>\n",
       "    </tr>\n",
       "    <tr>\n",
       "      <th>4</th>\n",
       "      <td>May 1, 2015</td>\n",
       "      <td>Avengers: Age of Ultron</td>\n",
       "      <td>330600000.0</td>\n",
       "      <td>459005868.0</td>\n",
       "      <td>1.403014e+09</td>\n",
       "      <td>$</td>\n",
       "    </tr>\n",
       "    <tr>\n",
       "      <th>5</th>\n",
       "      <td>Dec 15, 2017</td>\n",
       "      <td>Star Wars Ep. VIII: The Last Jedi</td>\n",
       "      <td>317000000.0</td>\n",
       "      <td>620181382.0</td>\n",
       "      <td>1.316722e+09</td>\n",
       "      <td>$</td>\n",
       "    </tr>\n",
       "  </tbody>\n",
       "</table>\n",
       "</div>"
      ],
      "text/plain": [
       "    release_date                                        Title  \\\n",
       "id                                                              \n",
       "1   Dec 18, 2009                                       Avatar   \n",
       "2   May 20, 2011  Pirates of the Caribbean: On Stranger Tides   \n",
       "3    Jun 7, 2019                                 Dark Phoenix   \n",
       "4    May 1, 2015                      Avengers: Age of Ultron   \n",
       "5   Dec 15, 2017            Star Wars Ep. VIII: The Last Jedi   \n",
       "\n",
       "    production_budget  domestic_gross  foreign_gross currency  \n",
       "id                                                             \n",
       "1         425000000.0     760507625.0   2.776345e+09        $  \n",
       "2         410600000.0     241063875.0   1.045664e+09        $  \n",
       "3         350000000.0      42762350.0   1.497624e+08        $  \n",
       "4         330600000.0     459005868.0   1.403014e+09        $  \n",
       "5         317000000.0     620181382.0   1.316722e+09        $  "
      ]
     },
     "execution_count": 88,
     "metadata": {},
     "output_type": "execute_result"
    }
   ],
   "source": [
    "# Display the top of the dataframe\n",
    "movie4.head()"
   ]
  },
  {
   "cell_type": "markdown",
   "metadata": {},
   "source": [
    "#### Checking for Duplicate Values\n"
   ]
  },
  {
   "cell_type": "code",
   "execution_count": 89,
   "metadata": {},
   "outputs": [
    {
     "data": {
      "text/html": [
       "<div>\n",
       "<style scoped>\n",
       "    .dataframe tbody tr th:only-of-type {\n",
       "        vertical-align: middle;\n",
       "    }\n",
       "\n",
       "    .dataframe tbody tr th {\n",
       "        vertical-align: top;\n",
       "    }\n",
       "\n",
       "    .dataframe thead th {\n",
       "        text-align: right;\n",
       "    }\n",
       "</style>\n",
       "<table border=\"1\" class=\"dataframe\">\n",
       "  <thead>\n",
       "    <tr style=\"text-align: right;\">\n",
       "      <th></th>\n",
       "      <th>release_date</th>\n",
       "      <th>Title</th>\n",
       "      <th>production_budget</th>\n",
       "      <th>domestic_gross</th>\n",
       "      <th>foreign_gross</th>\n",
       "      <th>currency</th>\n",
       "    </tr>\n",
       "    <tr>\n",
       "      <th>id</th>\n",
       "      <th></th>\n",
       "      <th></th>\n",
       "      <th></th>\n",
       "      <th></th>\n",
       "      <th></th>\n",
       "      <th></th>\n",
       "    </tr>\n",
       "  </thead>\n",
       "  <tbody>\n",
       "  </tbody>\n",
       "</table>\n",
       "</div>"
      ],
      "text/plain": [
       "Empty DataFrame\n",
       "Columns: [release_date, Title, production_budget, domestic_gross, foreign_gross, currency]\n",
       "Index: []"
      ]
     },
     "execution_count": 89,
     "metadata": {},
     "output_type": "execute_result"
    }
   ],
   "source": [
    "# Checking for duplicate values using .duplicated()\n",
    "duplicate = movie4[movie4.duplicated()]\n",
    "duplicate"
   ]
  },
  {
   "cell_type": "markdown",
   "metadata": {},
   "source": [
    "There is no duplicated values"
   ]
  },
  {
   "cell_type": "markdown",
   "metadata": {},
   "source": [
    "#### Identifying Missing Values"
   ]
  },
  {
   "cell_type": "code",
   "execution_count": 90,
   "metadata": {},
   "outputs": [
    {
     "data": {
      "text/plain": [
       "release_date         0\n",
       "Title                0\n",
       "production_budget    0\n",
       "domestic_gross       0\n",
       "foreign_gross        0\n",
       "currency             0\n",
       "dtype: int64"
      ]
     },
     "execution_count": 90,
     "metadata": {},
     "output_type": "execute_result"
    }
   ],
   "source": [
    "# Checking for missing values using .isna()\n",
    "movie4.isna().sum()"
   ]
  },
  {
   "cell_type": "code",
   "execution_count": 91,
   "metadata": {},
   "outputs": [],
   "source": [
    "#convert the type of release_date colunm date\n",
    "\n",
    "movie4[\"release_date\"] = pd.to_datetime( movie4[\"release_date\"])"
   ]
  },
  {
   "cell_type": "markdown",
   "metadata": {},
   "source": [
    "#### Join dataFrames movie3 and movie4\n",
    "Joining the Dataframes Together First, identify the shared key between them. (Shared key meaning, the values we want to join on). The shared keys between these two dataframes are (Title,domestic_gross,foreign_gross) column. We will use merge() method"
   ]
  },
  {
   "cell_type": "code",
   "execution_count": 92,
   "metadata": {},
   "outputs": [
    {
     "data": {
      "text/html": [
       "<div>\n",
       "<style scoped>\n",
       "    .dataframe tbody tr th:only-of-type {\n",
       "        vertical-align: middle;\n",
       "    }\n",
       "\n",
       "    .dataframe tbody tr th {\n",
       "        vertical-align: top;\n",
       "    }\n",
       "\n",
       "    .dataframe thead th {\n",
       "        text-align: right;\n",
       "    }\n",
       "</style>\n",
       "<table border=\"1\" class=\"dataframe\">\n",
       "  <thead>\n",
       "    <tr style=\"text-align: right;\">\n",
       "      <th></th>\n",
       "      <th>release_date</th>\n",
       "      <th>Title</th>\n",
       "      <th>production_budget</th>\n",
       "      <th>domestic_gross</th>\n",
       "      <th>foreign_gross</th>\n",
       "      <th>currency</th>\n",
       "      <th>studio</th>\n",
       "    </tr>\n",
       "  </thead>\n",
       "  <tbody>\n",
       "    <tr>\n",
       "      <th>0</th>\n",
       "      <td>2009-12-18</td>\n",
       "      <td>Avatar</td>\n",
       "      <td>425000000.0</td>\n",
       "      <td>760507625.0</td>\n",
       "      <td>2.776345e+09</td>\n",
       "      <td>$</td>\n",
       "      <td>NaN</td>\n",
       "    </tr>\n",
       "    <tr>\n",
       "      <th>1</th>\n",
       "      <td>2011-05-20</td>\n",
       "      <td>Pirates of the Caribbean: On Stranger Tides</td>\n",
       "      <td>410600000.0</td>\n",
       "      <td>241063875.0</td>\n",
       "      <td>1.045664e+09</td>\n",
       "      <td>$</td>\n",
       "      <td>NaN</td>\n",
       "    </tr>\n",
       "    <tr>\n",
       "      <th>2</th>\n",
       "      <td>2019-06-07</td>\n",
       "      <td>Dark Phoenix</td>\n",
       "      <td>350000000.0</td>\n",
       "      <td>42762350.0</td>\n",
       "      <td>1.497624e+08</td>\n",
       "      <td>$</td>\n",
       "      <td>NaN</td>\n",
       "    </tr>\n",
       "    <tr>\n",
       "      <th>3</th>\n",
       "      <td>2015-05-01</td>\n",
       "      <td>Avengers: Age of Ultron</td>\n",
       "      <td>330600000.0</td>\n",
       "      <td>459005868.0</td>\n",
       "      <td>1.403014e+09</td>\n",
       "      <td>$</td>\n",
       "      <td>NaN</td>\n",
       "    </tr>\n",
       "    <tr>\n",
       "      <th>4</th>\n",
       "      <td>2017-12-15</td>\n",
       "      <td>Star Wars Ep. VIII: The Last Jedi</td>\n",
       "      <td>317000000.0</td>\n",
       "      <td>620181382.0</td>\n",
       "      <td>1.316722e+09</td>\n",
       "      <td>$</td>\n",
       "      <td>NaN</td>\n",
       "    </tr>\n",
       "  </tbody>\n",
       "</table>\n",
       "</div>"
      ],
      "text/plain": [
       "  release_date                                        Title  \\\n",
       "0   2009-12-18                                       Avatar   \n",
       "1   2011-05-20  Pirates of the Caribbean: On Stranger Tides   \n",
       "2   2019-06-07                                 Dark Phoenix   \n",
       "3   2015-05-01                      Avengers: Age of Ultron   \n",
       "4   2017-12-15            Star Wars Ep. VIII: The Last Jedi   \n",
       "\n",
       "   production_budget  domestic_gross  foreign_gross currency studio  \n",
       "0        425000000.0     760507625.0   2.776345e+09        $    NaN  \n",
       "1        410600000.0     241063875.0   1.045664e+09        $    NaN  \n",
       "2        350000000.0      42762350.0   1.497624e+08        $    NaN  \n",
       "3        330600000.0     459005868.0   1.403014e+09        $    NaN  \n",
       "4        317000000.0     620181382.0   1.316722e+09        $    NaN  "
      ]
     },
     "execution_count": 92,
     "metadata": {},
     "output_type": "execute_result"
    }
   ],
   "source": [
    "# Create new data frame by combining movie3 and movie4 using .merge()method\n",
    "# View the top of the data frame.\n",
    "budget_df = pd.merge(movie4,movie3,on=[\"Title\",\"domestic_gross\",\"foreign_gross\"],how = 'left')\n",
    "budget_df.head()"
   ]
  },
  {
   "cell_type": "markdown",
   "metadata": {},
   "source": [
    "The merge between the two dataframes is Left Join returns all the records from the left table, as well as the shared records from the right table ."
   ]
  },
  {
   "cell_type": "code",
   "execution_count": 93,
   "metadata": {},
   "outputs": [],
   "source": [
    "# create new column \n",
    "budget_df[\"box_office\"] = budget_df[\"foreign_gross\"]+budget_df[\"domestic_gross\"]"
   ]
  },
  {
   "cell_type": "code",
   "execution_count": 94,
   "metadata": {},
   "outputs": [
    {
     "data": {
      "text/plain": [
       "(5782, 8)"
      ]
     },
     "execution_count": 94,
     "metadata": {},
     "output_type": "execute_result"
    }
   ],
   "source": [
    "# Check the data frame shape\n",
    "budget_df.shape"
   ]
  },
  {
   "cell_type": "markdown",
   "metadata": {},
   "source": [
    "#### Identifying and Handling Missing Values"
   ]
  },
  {
   "cell_type": "code",
   "execution_count": 95,
   "metadata": {},
   "outputs": [
    {
     "data": {
      "text/plain": [
       "release_date            0\n",
       "Title                   0\n",
       "production_budget       0\n",
       "domestic_gross          0\n",
       "foreign_gross           0\n",
       "currency                0\n",
       "studio               5782\n",
       "box_office              0\n",
       "dtype: int64"
      ]
     },
     "execution_count": 95,
     "metadata": {},
     "output_type": "execute_result"
    }
   ],
   "source": [
    "# Check for missing values\n",
    "budget_df.isna().sum()"
   ]
  },
  {
   "cell_type": "markdown",
   "metadata": {},
   "source": [
    "We have large numbers of missing values on the stiudio column, We will drop this column."
   ]
  },
  {
   "cell_type": "code",
   "execution_count": 96,
   "metadata": {},
   "outputs": [],
   "source": [
    "#Drop columns\n",
    "budget_df = budget_df.drop(columns = [\"studio\",\"foreign_gross\",\"domestic_gross\"],axis=1)\n"
   ]
  },
  {
   "cell_type": "code",
   "execution_count": 97,
   "metadata": {},
   "outputs": [
    {
     "data": {
      "text/html": [
       "<div>\n",
       "<style scoped>\n",
       "    .dataframe tbody tr th:only-of-type {\n",
       "        vertical-align: middle;\n",
       "    }\n",
       "\n",
       "    .dataframe tbody tr th {\n",
       "        vertical-align: top;\n",
       "    }\n",
       "\n",
       "    .dataframe thead th {\n",
       "        text-align: right;\n",
       "    }\n",
       "</style>\n",
       "<table border=\"1\" class=\"dataframe\">\n",
       "  <thead>\n",
       "    <tr style=\"text-align: right;\">\n",
       "      <th></th>\n",
       "      <th>release_date</th>\n",
       "      <th>Title</th>\n",
       "      <th>production_budget</th>\n",
       "      <th>currency</th>\n",
       "      <th>box_office</th>\n",
       "    </tr>\n",
       "  </thead>\n",
       "  <tbody>\n",
       "    <tr>\n",
       "      <th>0</th>\n",
       "      <td>2009-12-18</td>\n",
       "      <td>Avatar</td>\n",
       "      <td>425000000.0</td>\n",
       "      <td>$</td>\n",
       "      <td>3.536853e+09</td>\n",
       "    </tr>\n",
       "    <tr>\n",
       "      <th>1</th>\n",
       "      <td>2011-05-20</td>\n",
       "      <td>Pirates of the Caribbean: On Stranger Tides</td>\n",
       "      <td>410600000.0</td>\n",
       "      <td>$</td>\n",
       "      <td>1.286728e+09</td>\n",
       "    </tr>\n",
       "    <tr>\n",
       "      <th>2</th>\n",
       "      <td>2019-06-07</td>\n",
       "      <td>Dark Phoenix</td>\n",
       "      <td>350000000.0</td>\n",
       "      <td>$</td>\n",
       "      <td>1.925247e+08</td>\n",
       "    </tr>\n",
       "    <tr>\n",
       "      <th>3</th>\n",
       "      <td>2015-05-01</td>\n",
       "      <td>Avengers: Age of Ultron</td>\n",
       "      <td>330600000.0</td>\n",
       "      <td>$</td>\n",
       "      <td>1.862020e+09</td>\n",
       "    </tr>\n",
       "    <tr>\n",
       "      <th>4</th>\n",
       "      <td>2017-12-15</td>\n",
       "      <td>Star Wars Ep. VIII: The Last Jedi</td>\n",
       "      <td>317000000.0</td>\n",
       "      <td>$</td>\n",
       "      <td>1.936903e+09</td>\n",
       "    </tr>\n",
       "  </tbody>\n",
       "</table>\n",
       "</div>"
      ],
      "text/plain": [
       "  release_date                                        Title  \\\n",
       "0   2009-12-18                                       Avatar   \n",
       "1   2011-05-20  Pirates of the Caribbean: On Stranger Tides   \n",
       "2   2019-06-07                                 Dark Phoenix   \n",
       "3   2015-05-01                      Avengers: Age of Ultron   \n",
       "4   2017-12-15            Star Wars Ep. VIII: The Last Jedi   \n",
       "\n",
       "   production_budget currency    box_office  \n",
       "0        425000000.0        $  3.536853e+09  \n",
       "1        410600000.0        $  1.286728e+09  \n",
       "2        350000000.0        $  1.925247e+08  \n",
       "3        330600000.0        $  1.862020e+09  \n",
       "4        317000000.0        $  1.936903e+09  "
      ]
     },
     "execution_count": 97,
     "metadata": {},
     "output_type": "execute_result"
    }
   ],
   "source": [
    "#Display the top of dataframe\n",
    "budget_df.head()"
   ]
  },
  {
   "cell_type": "markdown",
   "metadata": {},
   "source": [
    "#### Movie5 Preprocessing"
   ]
  },
  {
   "cell_type": "code",
   "execution_count": 98,
   "metadata": {},
   "outputs": [
    {
     "name": "stdout",
     "output_type": "stream",
     "text": [
      "<class 'pandas.core.frame.DataFrame'>\n",
      "RangeIndex: 54432 entries, 0 to 54431\n",
      "Data columns (total 8 columns):\n",
      " #   Column      Non-Null Count  Dtype \n",
      "---  ------      --------------  ----- \n",
      " 0   id          54432 non-null  int64 \n",
      " 1   review      48869 non-null  object\n",
      " 2   rating      40915 non-null  object\n",
      " 3   fresh       54432 non-null  object\n",
      " 4   critic      51710 non-null  object\n",
      " 5   top_critic  54432 non-null  int64 \n",
      " 6   publisher   54123 non-null  object\n",
      " 7   date        54432 non-null  object\n",
      "dtypes: int64(2), object(6)\n",
      "memory usage: 3.3+ MB\n"
     ]
    }
   ],
   "source": [
    "# summary of our data frame df using .info() method\n",
    "movie5.info()"
   ]
  },
  {
   "cell_type": "markdown",
   "metadata": {},
   "source": [
    "We notice that the date column type is object and it contains dates , we should change its type to date type"
   ]
  },
  {
   "cell_type": "code",
   "execution_count": 99,
   "metadata": {},
   "outputs": [],
   "source": [
    "# Drop the irreletive columns using .drop() method.\n",
    "movie5 = movie5.drop(columns =[\"id\",\"rating\",\"fresh\",\"top_critic\"],axis =1)"
   ]
  },
  {
   "cell_type": "code",
   "execution_count": 100,
   "metadata": {},
   "outputs": [],
   "source": [
    "# Change the column name using .rename()method.\n",
    "movie5 = movie5.rename(columns = {\"date\":\"release_date\"})"
   ]
  },
  {
   "cell_type": "code",
   "execution_count": 101,
   "metadata": {},
   "outputs": [],
   "source": [
    "#Change the column type to date type\n",
    "movie5[\"release_date\"] = pd.to_datetime(movie5[\"release_date\"])"
   ]
  },
  {
   "cell_type": "code",
   "execution_count": 102,
   "metadata": {},
   "outputs": [
    {
     "data": {
      "text/html": [
       "<div>\n",
       "<style scoped>\n",
       "    .dataframe tbody tr th:only-of-type {\n",
       "        vertical-align: middle;\n",
       "    }\n",
       "\n",
       "    .dataframe tbody tr th {\n",
       "        vertical-align: top;\n",
       "    }\n",
       "\n",
       "    .dataframe thead th {\n",
       "        text-align: right;\n",
       "    }\n",
       "</style>\n",
       "<table border=\"1\" class=\"dataframe\">\n",
       "  <thead>\n",
       "    <tr style=\"text-align: right;\">\n",
       "      <th></th>\n",
       "      <th>review</th>\n",
       "      <th>critic</th>\n",
       "      <th>publisher</th>\n",
       "      <th>release_date</th>\n",
       "    </tr>\n",
       "  </thead>\n",
       "  <tbody>\n",
       "    <tr>\n",
       "      <th>0</th>\n",
       "      <td>A distinctly gallows take on contemporary fina...</td>\n",
       "      <td>PJ Nabarro</td>\n",
       "      <td>Patrick Nabarro</td>\n",
       "      <td>2018-11-10</td>\n",
       "    </tr>\n",
       "    <tr>\n",
       "      <th>1</th>\n",
       "      <td>It's an allegory in search of a meaning that n...</td>\n",
       "      <td>Annalee Newitz</td>\n",
       "      <td>io9.com</td>\n",
       "      <td>2018-05-23</td>\n",
       "    </tr>\n",
       "    <tr>\n",
       "      <th>2</th>\n",
       "      <td>... life lived in a bubble in financial dealin...</td>\n",
       "      <td>Sean Axmaker</td>\n",
       "      <td>Stream on Demand</td>\n",
       "      <td>2018-01-04</td>\n",
       "    </tr>\n",
       "    <tr>\n",
       "      <th>3</th>\n",
       "      <td>Continuing along a line introduced in last yea...</td>\n",
       "      <td>Daniel Kasman</td>\n",
       "      <td>MUBI</td>\n",
       "      <td>2017-11-16</td>\n",
       "    </tr>\n",
       "    <tr>\n",
       "      <th>4</th>\n",
       "      <td>... a perverse twist on neorealism...</td>\n",
       "      <td>NaN</td>\n",
       "      <td>Cinema Scope</td>\n",
       "      <td>2017-10-12</td>\n",
       "    </tr>\n",
       "  </tbody>\n",
       "</table>\n",
       "</div>"
      ],
      "text/plain": [
       "                                              review          critic  \\\n",
       "0  A distinctly gallows take on contemporary fina...      PJ Nabarro   \n",
       "1  It's an allegory in search of a meaning that n...  Annalee Newitz   \n",
       "2  ... life lived in a bubble in financial dealin...    Sean Axmaker   \n",
       "3  Continuing along a line introduced in last yea...   Daniel Kasman   \n",
       "4             ... a perverse twist on neorealism...              NaN   \n",
       "\n",
       "          publisher release_date  \n",
       "0   Patrick Nabarro   2018-11-10  \n",
       "1           io9.com   2018-05-23  \n",
       "2  Stream on Demand   2018-01-04  \n",
       "3              MUBI   2017-11-16  \n",
       "4      Cinema Scope   2017-10-12  "
      ]
     },
     "execution_count": 102,
     "metadata": {},
     "output_type": "execute_result"
    }
   ],
   "source": [
    "# Display the top of the dataframe.\n",
    "movie5.head()"
   ]
  },
  {
   "cell_type": "code",
   "execution_count": 103,
   "metadata": {},
   "outputs": [
    {
     "data": {
      "text/plain": [
       "(54432, 4)"
      ]
     },
     "execution_count": 103,
     "metadata": {},
     "output_type": "execute_result"
    }
   ],
   "source": [
    "# check for the dataframe shape\n",
    "movie5.shape"
   ]
  },
  {
   "cell_type": "markdown",
   "metadata": {},
   "source": [
    "#### Checking for Duplicate Values"
   ]
  },
  {
   "cell_type": "code",
   "execution_count": 104,
   "metadata": {},
   "outputs": [
    {
     "data": {
      "text/html": [
       "<div>\n",
       "<style scoped>\n",
       "    .dataframe tbody tr th:only-of-type {\n",
       "        vertical-align: middle;\n",
       "    }\n",
       "\n",
       "    .dataframe tbody tr th {\n",
       "        vertical-align: top;\n",
       "    }\n",
       "\n",
       "    .dataframe thead th {\n",
       "        text-align: right;\n",
       "    }\n",
       "</style>\n",
       "<table border=\"1\" class=\"dataframe\">\n",
       "  <thead>\n",
       "    <tr style=\"text-align: right;\">\n",
       "      <th></th>\n",
       "      <th>review</th>\n",
       "      <th>critic</th>\n",
       "      <th>publisher</th>\n",
       "      <th>release_date</th>\n",
       "    </tr>\n",
       "  </thead>\n",
       "  <tbody>\n",
       "    <tr>\n",
       "      <th>316</th>\n",
       "      <td>NaN</td>\n",
       "      <td>Steve Rhodes</td>\n",
       "      <td>Internet Reviews</td>\n",
       "      <td>2000-01-01</td>\n",
       "    </tr>\n",
       "    <tr>\n",
       "      <th>722</th>\n",
       "      <td>NaN</td>\n",
       "      <td>James Berardinelli</td>\n",
       "      <td>ReelViews</td>\n",
       "      <td>2000-01-01</td>\n",
       "    </tr>\n",
       "    <tr>\n",
       "      <th>724</th>\n",
       "      <td>NaN</td>\n",
       "      <td>Madeleine Williams</td>\n",
       "      <td>Cinematter</td>\n",
       "      <td>2000-01-01</td>\n",
       "    </tr>\n",
       "    <tr>\n",
       "      <th>725</th>\n",
       "      <td>NaN</td>\n",
       "      <td>Scott Renshaw</td>\n",
       "      <td>rec.arts.movies.reviews</td>\n",
       "      <td>2000-01-01</td>\n",
       "    </tr>\n",
       "    <tr>\n",
       "      <th>965</th>\n",
       "      <td>NaN</td>\n",
       "      <td>Roger Ebert</td>\n",
       "      <td>Chicago Sun-Times</td>\n",
       "      <td>2000-01-01</td>\n",
       "    </tr>\n",
       "    <tr>\n",
       "      <th>...</th>\n",
       "      <td>...</td>\n",
       "      <td>...</td>\n",
       "      <td>...</td>\n",
       "      <td>...</td>\n",
       "    </tr>\n",
       "    <tr>\n",
       "      <th>54392</th>\n",
       "      <td>NaN</td>\n",
       "      <td>Audrey Rock-Richardson</td>\n",
       "      <td>Tooele Transcript-Bulletin (Utah)</td>\n",
       "      <td>2002-08-22</td>\n",
       "    </tr>\n",
       "    <tr>\n",
       "      <th>54393</th>\n",
       "      <td>NaN</td>\n",
       "      <td>Scott Weinberg</td>\n",
       "      <td>eFilmCritic.com</td>\n",
       "      <td>2002-07-25</td>\n",
       "    </tr>\n",
       "    <tr>\n",
       "      <th>54428</th>\n",
       "      <td>NaN</td>\n",
       "      <td>Michael Szymanski</td>\n",
       "      <td>Zap2it.com</td>\n",
       "      <td>2005-09-21</td>\n",
       "    </tr>\n",
       "    <tr>\n",
       "      <th>54429</th>\n",
       "      <td>NaN</td>\n",
       "      <td>Emanuel Levy</td>\n",
       "      <td>EmanuelLevy.Com</td>\n",
       "      <td>2005-07-17</td>\n",
       "    </tr>\n",
       "    <tr>\n",
       "      <th>54431</th>\n",
       "      <td>NaN</td>\n",
       "      <td>Nicolas Lacroix</td>\n",
       "      <td>Showbizz.net</td>\n",
       "      <td>2002-11-12</td>\n",
       "    </tr>\n",
       "  </tbody>\n",
       "</table>\n",
       "<p>3282 rows × 4 columns</p>\n",
       "</div>"
      ],
      "text/plain": [
       "      review                  critic                          publisher  \\\n",
       "316      NaN            Steve Rhodes                   Internet Reviews   \n",
       "722      NaN      James Berardinelli                          ReelViews   \n",
       "724      NaN      Madeleine Williams                         Cinematter   \n",
       "725      NaN           Scott Renshaw            rec.arts.movies.reviews   \n",
       "965      NaN             Roger Ebert                  Chicago Sun-Times   \n",
       "...      ...                     ...                                ...   \n",
       "54392    NaN  Audrey Rock-Richardson  Tooele Transcript-Bulletin (Utah)   \n",
       "54393    NaN          Scott Weinberg                    eFilmCritic.com   \n",
       "54428    NaN       Michael Szymanski                         Zap2it.com   \n",
       "54429    NaN            Emanuel Levy                    EmanuelLevy.Com   \n",
       "54431    NaN         Nicolas Lacroix                       Showbizz.net   \n",
       "\n",
       "      release_date  \n",
       "316     2000-01-01  \n",
       "722     2000-01-01  \n",
       "724     2000-01-01  \n",
       "725     2000-01-01  \n",
       "965     2000-01-01  \n",
       "...            ...  \n",
       "54392   2002-08-22  \n",
       "54393   2002-07-25  \n",
       "54428   2005-09-21  \n",
       "54429   2005-07-17  \n",
       "54431   2002-11-12  \n",
       "\n",
       "[3282 rows x 4 columns]"
      ]
     },
     "execution_count": 104,
     "metadata": {},
     "output_type": "execute_result"
    }
   ],
   "source": [
    "# Checking for duplicate values using .duplicated()\n",
    "duplicates = movie5[movie5.duplicated()]\n",
    "duplicates"
   ]
  },
  {
   "cell_type": "code",
   "execution_count": 105,
   "metadata": {},
   "outputs": [],
   "source": [
    "# drop the duplicated values using .drop_duplicates() method\n",
    "movie5 = movie5.drop_duplicates(keep = \"first\")"
   ]
  },
  {
   "cell_type": "markdown",
   "metadata": {},
   "source": [
    "#### Identifying and Handling Missing Values"
   ]
  },
  {
   "cell_type": "code",
   "execution_count": 106,
   "metadata": {},
   "outputs": [
    {
     "data": {
      "text/plain": [
       "review          2393\n",
       "critic          2296\n",
       "publisher        308\n",
       "release_date       0\n",
       "dtype: int64"
      ]
     },
     "execution_count": 106,
     "metadata": {},
     "output_type": "execute_result"
    }
   ],
   "source": [
    "# Check for missing values\n",
    "movie5.isna().sum()"
   ]
  },
  {
   "cell_type": "code",
   "execution_count": 107,
   "metadata": {},
   "outputs": [
    {
     "data": {
      "text/html": [
       "<div>\n",
       "<style scoped>\n",
       "    .dataframe tbody tr th:only-of-type {\n",
       "        vertical-align: middle;\n",
       "    }\n",
       "\n",
       "    .dataframe tbody tr th {\n",
       "        vertical-align: top;\n",
       "    }\n",
       "\n",
       "    .dataframe thead th {\n",
       "        text-align: right;\n",
       "    }\n",
       "</style>\n",
       "<table border=\"1\" class=\"dataframe\">\n",
       "  <thead>\n",
       "    <tr style=\"text-align: right;\">\n",
       "      <th></th>\n",
       "      <th>review</th>\n",
       "      <th>critic</th>\n",
       "      <th>publisher</th>\n",
       "      <th>release_date</th>\n",
       "    </tr>\n",
       "  </thead>\n",
       "  <tbody>\n",
       "    <tr>\n",
       "      <th>0</th>\n",
       "      <td>A distinctly gallows take on contemporary fina...</td>\n",
       "      <td>PJ Nabarro</td>\n",
       "      <td>Patrick Nabarro</td>\n",
       "      <td>2018-11-10</td>\n",
       "    </tr>\n",
       "    <tr>\n",
       "      <th>1</th>\n",
       "      <td>It's an allegory in search of a meaning that n...</td>\n",
       "      <td>Annalee Newitz</td>\n",
       "      <td>io9.com</td>\n",
       "      <td>2018-05-23</td>\n",
       "    </tr>\n",
       "    <tr>\n",
       "      <th>2</th>\n",
       "      <td>... life lived in a bubble in financial dealin...</td>\n",
       "      <td>Sean Axmaker</td>\n",
       "      <td>Stream on Demand</td>\n",
       "      <td>2018-01-04</td>\n",
       "    </tr>\n",
       "    <tr>\n",
       "      <th>3</th>\n",
       "      <td>Continuing along a line introduced in last yea...</td>\n",
       "      <td>Daniel Kasman</td>\n",
       "      <td>MUBI</td>\n",
       "      <td>2017-11-16</td>\n",
       "    </tr>\n",
       "    <tr>\n",
       "      <th>5</th>\n",
       "      <td>... Cronenberg's Cosmopolis expresses somethin...</td>\n",
       "      <td>Michelle Orange</td>\n",
       "      <td>Capital New York</td>\n",
       "      <td>2017-09-11</td>\n",
       "    </tr>\n",
       "  </tbody>\n",
       "</table>\n",
       "</div>"
      ],
      "text/plain": [
       "                                              review           critic  \\\n",
       "0  A distinctly gallows take on contemporary fina...       PJ Nabarro   \n",
       "1  It's an allegory in search of a meaning that n...   Annalee Newitz   \n",
       "2  ... life lived in a bubble in financial dealin...     Sean Axmaker   \n",
       "3  Continuing along a line introduced in last yea...    Daniel Kasman   \n",
       "5  ... Cronenberg's Cosmopolis expresses somethin...  Michelle Orange   \n",
       "\n",
       "          publisher release_date  \n",
       "0   Patrick Nabarro   2018-11-10  \n",
       "1           io9.com   2018-05-23  \n",
       "2  Stream on Demand   2018-01-04  \n",
       "3              MUBI   2017-11-16  \n",
       "5  Capital New York   2017-09-11  "
      ]
     },
     "execution_count": 107,
     "metadata": {},
     "output_type": "execute_result"
    }
   ],
   "source": [
    "# Drop the missing values\n",
    "# Display the top of the data frame\n",
    "movie5 = movie5.dropna()\n",
    "movie5.head()"
   ]
  },
  {
   "cell_type": "markdown",
   "metadata": {},
   "source": [
    "#### Movie6 Preprocessing"
   ]
  },
  {
   "cell_type": "code",
   "execution_count": 108,
   "metadata": {},
   "outputs": [
    {
     "name": "stdout",
     "output_type": "stream",
     "text": [
      "<class 'pandas.core.frame.DataFrame'>\n",
      "RangeIndex: 26517 entries, 0 to 26516\n",
      "Data columns (total 10 columns):\n",
      " #   Column             Non-Null Count  Dtype  \n",
      "---  ------             --------------  -----  \n",
      " 0   Unnamed: 0         26517 non-null  int64  \n",
      " 1   genre_ids          26517 non-null  object \n",
      " 2   id                 26517 non-null  int64  \n",
      " 3   original_language  26517 non-null  object \n",
      " 4   original_title     26517 non-null  object \n",
      " 5   popularity         26517 non-null  float64\n",
      " 6   release_date       26517 non-null  object \n",
      " 7   title              26517 non-null  object \n",
      " 8   vote_average       26517 non-null  float64\n",
      " 9   vote_count         26517 non-null  int64  \n",
      "dtypes: float64(2), int64(3), object(5)\n",
      "memory usage: 2.0+ MB\n"
     ]
    }
   ],
   "source": [
    "# summary of our data frame df using .info() method\n",
    "movie6.info()\n"
   ]
  },
  {
   "cell_type": "code",
   "execution_count": 109,
   "metadata": {},
   "outputs": [
    {
     "data": {
      "text/html": [
       "<div>\n",
       "<style scoped>\n",
       "    .dataframe tbody tr th:only-of-type {\n",
       "        vertical-align: middle;\n",
       "    }\n",
       "\n",
       "    .dataframe tbody tr th {\n",
       "        vertical-align: top;\n",
       "    }\n",
       "\n",
       "    .dataframe thead th {\n",
       "        text-align: right;\n",
       "    }\n",
       "</style>\n",
       "<table border=\"1\" class=\"dataframe\">\n",
       "  <thead>\n",
       "    <tr style=\"text-align: right;\">\n",
       "      <th></th>\n",
       "      <th>original_language</th>\n",
       "      <th>release_date</th>\n",
       "      <th>title</th>\n",
       "      <th>vote_average</th>\n",
       "      <th>vote_count</th>\n",
       "    </tr>\n",
       "  </thead>\n",
       "  <tbody>\n",
       "    <tr>\n",
       "      <th>0</th>\n",
       "      <td>en</td>\n",
       "      <td>2010-11-19</td>\n",
       "      <td>Harry Potter and the Deathly Hallows: Part 1</td>\n",
       "      <td>7.7</td>\n",
       "      <td>10788</td>\n",
       "    </tr>\n",
       "    <tr>\n",
       "      <th>1</th>\n",
       "      <td>en</td>\n",
       "      <td>2010-03-26</td>\n",
       "      <td>How to Train Your Dragon</td>\n",
       "      <td>7.7</td>\n",
       "      <td>7610</td>\n",
       "    </tr>\n",
       "    <tr>\n",
       "      <th>2</th>\n",
       "      <td>en</td>\n",
       "      <td>2010-05-07</td>\n",
       "      <td>Iron Man 2</td>\n",
       "      <td>6.8</td>\n",
       "      <td>12368</td>\n",
       "    </tr>\n",
       "    <tr>\n",
       "      <th>3</th>\n",
       "      <td>en</td>\n",
       "      <td>1995-11-22</td>\n",
       "      <td>Toy Story</td>\n",
       "      <td>7.9</td>\n",
       "      <td>10174</td>\n",
       "    </tr>\n",
       "    <tr>\n",
       "      <th>4</th>\n",
       "      <td>en</td>\n",
       "      <td>2010-07-16</td>\n",
       "      <td>Inception</td>\n",
       "      <td>8.3</td>\n",
       "      <td>22186</td>\n",
       "    </tr>\n",
       "  </tbody>\n",
       "</table>\n",
       "</div>"
      ],
      "text/plain": [
       "  original_language release_date  \\\n",
       "0                en   2010-11-19   \n",
       "1                en   2010-03-26   \n",
       "2                en   2010-05-07   \n",
       "3                en   1995-11-22   \n",
       "4                en   2010-07-16   \n",
       "\n",
       "                                          title  vote_average  vote_count  \n",
       "0  Harry Potter and the Deathly Hallows: Part 1           7.7       10788  \n",
       "1                      How to Train Your Dragon           7.7        7610  \n",
       "2                                    Iron Man 2           6.8       12368  \n",
       "3                                     Toy Story           7.9       10174  \n",
       "4                                     Inception           8.3       22186  "
      ]
     },
     "execution_count": 109,
     "metadata": {},
     "output_type": "execute_result"
    }
   ],
   "source": [
    "# Drop the irreletive columns using .drop() method.\n",
    "# Display the top of the dataframe\n",
    "movie6 = movie6.drop(columns =[\"id\",\"Unnamed: 0\",\"genre_ids\",\"popularity\",\"original_title\"],axis =1)\n",
    "movie6.head()"
   ]
  },
  {
   "cell_type": "code",
   "execution_count": 110,
   "metadata": {},
   "outputs": [],
   "source": [
    "# Change columns names\n",
    "movie6 = movie6.rename(columns={\"title\":\"Title\",\"vote_average\":\"rating\",\"vote_count\":\"numvotes\"})"
   ]
  },
  {
   "cell_type": "code",
   "execution_count": 111,
   "metadata": {},
   "outputs": [],
   "source": [
    "#Change the column type to date type\n",
    "movie6[\"release_date\"] = pd.to_datetime(movie6[\"release_date\"])"
   ]
  },
  {
   "cell_type": "markdown",
   "metadata": {},
   "source": [
    "#### Checking for Duplicate Values"
   ]
  },
  {
   "cell_type": "code",
   "execution_count": 112,
   "metadata": {},
   "outputs": [
    {
     "data": {
      "text/html": [
       "<div>\n",
       "<style scoped>\n",
       "    .dataframe tbody tr th:only-of-type {\n",
       "        vertical-align: middle;\n",
       "    }\n",
       "\n",
       "    .dataframe tbody tr th {\n",
       "        vertical-align: top;\n",
       "    }\n",
       "\n",
       "    .dataframe thead th {\n",
       "        text-align: right;\n",
       "    }\n",
       "</style>\n",
       "<table border=\"1\" class=\"dataframe\">\n",
       "  <thead>\n",
       "    <tr style=\"text-align: right;\">\n",
       "      <th></th>\n",
       "      <th>original_language</th>\n",
       "      <th>release_date</th>\n",
       "      <th>Title</th>\n",
       "      <th>rating</th>\n",
       "      <th>numvotes</th>\n",
       "    </tr>\n",
       "  </thead>\n",
       "  <tbody>\n",
       "    <tr>\n",
       "      <th>2473</th>\n",
       "      <td>en</td>\n",
       "      <td>1995-11-22</td>\n",
       "      <td>Toy Story</td>\n",
       "      <td>7.9</td>\n",
       "      <td>10174</td>\n",
       "    </tr>\n",
       "    <tr>\n",
       "      <th>2477</th>\n",
       "      <td>en</td>\n",
       "      <td>1999-11-24</td>\n",
       "      <td>Toy Story 2</td>\n",
       "      <td>7.5</td>\n",
       "      <td>7553</td>\n",
       "    </tr>\n",
       "    <tr>\n",
       "      <th>2536</th>\n",
       "      <td>en</td>\n",
       "      <td>2010-12-10</td>\n",
       "      <td>TRON: Legacy</td>\n",
       "      <td>6.3</td>\n",
       "      <td>4387</td>\n",
       "    </tr>\n",
       "    <tr>\n",
       "      <th>2673</th>\n",
       "      <td>en</td>\n",
       "      <td>2010-12-29</td>\n",
       "      <td>Blue Valentine</td>\n",
       "      <td>6.9</td>\n",
       "      <td>1677</td>\n",
       "    </tr>\n",
       "    <tr>\n",
       "      <th>2717</th>\n",
       "      <td>en</td>\n",
       "      <td>2010-09-01</td>\n",
       "      <td>Rubber</td>\n",
       "      <td>5.9</td>\n",
       "      <td>417</td>\n",
       "    </tr>\n",
       "    <tr>\n",
       "      <th>...</th>\n",
       "      <td>...</td>\n",
       "      <td>...</td>\n",
       "      <td>...</td>\n",
       "      <td>...</td>\n",
       "      <td>...</td>\n",
       "    </tr>\n",
       "    <tr>\n",
       "      <th>26481</th>\n",
       "      <td>en</td>\n",
       "      <td>2013-03-18</td>\n",
       "      <td>Summer League</td>\n",
       "      <td>4.0</td>\n",
       "      <td>3</td>\n",
       "    </tr>\n",
       "    <tr>\n",
       "      <th>26485</th>\n",
       "      <td>en</td>\n",
       "      <td>2013-05-15</td>\n",
       "      <td>Devils in the Darkness</td>\n",
       "      <td>3.5</td>\n",
       "      <td>1</td>\n",
       "    </tr>\n",
       "    <tr>\n",
       "      <th>26504</th>\n",
       "      <td>en</td>\n",
       "      <td>2015-03-28</td>\n",
       "      <td>Head</td>\n",
       "      <td>1.0</td>\n",
       "      <td>1</td>\n",
       "    </tr>\n",
       "    <tr>\n",
       "      <th>26510</th>\n",
       "      <td>en</td>\n",
       "      <td>2018-10-19</td>\n",
       "      <td>Fail State</td>\n",
       "      <td>0.0</td>\n",
       "      <td>1</td>\n",
       "    </tr>\n",
       "    <tr>\n",
       "      <th>26511</th>\n",
       "      <td>en</td>\n",
       "      <td>2018-04-07</td>\n",
       "      <td>Making Filmmakers</td>\n",
       "      <td>0.0</td>\n",
       "      <td>1</td>\n",
       "    </tr>\n",
       "  </tbody>\n",
       "</table>\n",
       "<p>1021 rows × 5 columns</p>\n",
       "</div>"
      ],
      "text/plain": [
       "      original_language release_date                   Title  rating  numvotes\n",
       "2473                 en   1995-11-22               Toy Story     7.9     10174\n",
       "2477                 en   1999-11-24             Toy Story 2     7.5      7553\n",
       "2536                 en   2010-12-10            TRON: Legacy     6.3      4387\n",
       "2673                 en   2010-12-29          Blue Valentine     6.9      1677\n",
       "2717                 en   2010-09-01                  Rubber     5.9       417\n",
       "...                 ...          ...                     ...     ...       ...\n",
       "26481                en   2013-03-18           Summer League     4.0         3\n",
       "26485                en   2013-05-15  Devils in the Darkness     3.5         1\n",
       "26504                en   2015-03-28                    Head     1.0         1\n",
       "26510                en   2018-10-19              Fail State     0.0         1\n",
       "26511                en   2018-04-07       Making Filmmakers     0.0         1\n",
       "\n",
       "[1021 rows x 5 columns]"
      ]
     },
     "execution_count": 112,
     "metadata": {},
     "output_type": "execute_result"
    }
   ],
   "source": [
    "# Checking for duplicate values using .duplicated()\n",
    "duplicates = movie6[movie6.duplicated()]\n",
    "duplicates"
   ]
  },
  {
   "cell_type": "code",
   "execution_count": 113,
   "metadata": {},
   "outputs": [],
   "source": [
    "# Remove the duplicated values\n",
    "movie6 = movie6.drop_duplicates(keep = \"first\")"
   ]
  },
  {
   "cell_type": "code",
   "execution_count": 114,
   "metadata": {},
   "outputs": [
    {
     "data": {
      "text/plain": [
       "(25496, 5)"
      ]
     },
     "execution_count": 114,
     "metadata": {},
     "output_type": "execute_result"
    }
   ],
   "source": [
    "#check the data frame shape\n",
    "movie6.shape"
   ]
  },
  {
   "cell_type": "markdown",
   "metadata": {},
   "source": [
    "#### Identifying the Missing Values"
   ]
  },
  {
   "cell_type": "code",
   "execution_count": 115,
   "metadata": {},
   "outputs": [
    {
     "data": {
      "text/plain": [
       "original_language    0\n",
       "release_date         0\n",
       "Title                0\n",
       "rating               0\n",
       "numvotes             0\n",
       "dtype: int64"
      ]
     },
     "execution_count": 115,
     "metadata": {},
     "output_type": "execute_result"
    }
   ],
   "source": [
    "# checking for missing values\n",
    "movie6.isna().sum()"
   ]
  },
  {
   "cell_type": "code",
   "execution_count": 116,
   "metadata": {},
   "outputs": [
    {
     "data": {
      "text/html": [
       "<div>\n",
       "<style scoped>\n",
       "    .dataframe tbody tr th:only-of-type {\n",
       "        vertical-align: middle;\n",
       "    }\n",
       "\n",
       "    .dataframe tbody tr th {\n",
       "        vertical-align: top;\n",
       "    }\n",
       "\n",
       "    .dataframe thead th {\n",
       "        text-align: right;\n",
       "    }\n",
       "</style>\n",
       "<table border=\"1\" class=\"dataframe\">\n",
       "  <thead>\n",
       "    <tr style=\"text-align: right;\">\n",
       "      <th></th>\n",
       "      <th>original_language</th>\n",
       "      <th>release_date</th>\n",
       "      <th>Title</th>\n",
       "      <th>rating</th>\n",
       "      <th>numvotes</th>\n",
       "    </tr>\n",
       "  </thead>\n",
       "  <tbody>\n",
       "    <tr>\n",
       "      <th>0</th>\n",
       "      <td>en</td>\n",
       "      <td>2010-11-19</td>\n",
       "      <td>Harry Potter and the Deathly Hallows: Part 1</td>\n",
       "      <td>7.7</td>\n",
       "      <td>10788</td>\n",
       "    </tr>\n",
       "    <tr>\n",
       "      <th>1</th>\n",
       "      <td>en</td>\n",
       "      <td>2010-03-26</td>\n",
       "      <td>How to Train Your Dragon</td>\n",
       "      <td>7.7</td>\n",
       "      <td>7610</td>\n",
       "    </tr>\n",
       "    <tr>\n",
       "      <th>2</th>\n",
       "      <td>en</td>\n",
       "      <td>2010-05-07</td>\n",
       "      <td>Iron Man 2</td>\n",
       "      <td>6.8</td>\n",
       "      <td>12368</td>\n",
       "    </tr>\n",
       "    <tr>\n",
       "      <th>3</th>\n",
       "      <td>en</td>\n",
       "      <td>1995-11-22</td>\n",
       "      <td>Toy Story</td>\n",
       "      <td>7.9</td>\n",
       "      <td>10174</td>\n",
       "    </tr>\n",
       "    <tr>\n",
       "      <th>4</th>\n",
       "      <td>en</td>\n",
       "      <td>2010-07-16</td>\n",
       "      <td>Inception</td>\n",
       "      <td>8.3</td>\n",
       "      <td>22186</td>\n",
       "    </tr>\n",
       "  </tbody>\n",
       "</table>\n",
       "</div>"
      ],
      "text/plain": [
       "  original_language release_date  \\\n",
       "0                en   2010-11-19   \n",
       "1                en   2010-03-26   \n",
       "2                en   2010-05-07   \n",
       "3                en   1995-11-22   \n",
       "4                en   2010-07-16   \n",
       "\n",
       "                                          Title  rating  numvotes  \n",
       "0  Harry Potter and the Deathly Hallows: Part 1     7.7     10788  \n",
       "1                      How to Train Your Dragon     7.7      7610  \n",
       "2                                    Iron Man 2     6.8     12368  \n",
       "3                                     Toy Story     7.9     10174  \n",
       "4                                     Inception     8.3     22186  "
      ]
     },
     "execution_count": 116,
     "metadata": {},
     "output_type": "execute_result"
    }
   ],
   "source": [
    "# Display the top of data frame\n",
    "movie6.head()"
   ]
  },
  {
   "cell_type": "code",
   "execution_count": 117,
   "metadata": {},
   "outputs": [
    {
     "data": {
      "text/plain": [
       "(25496, 5)"
      ]
     },
     "execution_count": 117,
     "metadata": {},
     "output_type": "execute_result"
    }
   ],
   "source": [
    "# check for the data frame shape\n",
    "movie6.shape"
   ]
  },
  {
   "cell_type": "markdown",
   "metadata": {},
   "source": [
    "#### Joining the DataFrames\n",
    "Joining the Dataframes(genre,budget) Together , We will use merge() method"
   ]
  },
  {
   "cell_type": "code",
   "execution_count": 118,
   "metadata": {},
   "outputs": [
    {
     "data": {
      "text/html": [
       "<div>\n",
       "<style scoped>\n",
       "    .dataframe tbody tr th:only-of-type {\n",
       "        vertical-align: middle;\n",
       "    }\n",
       "\n",
       "    .dataframe tbody tr th {\n",
       "        vertical-align: top;\n",
       "    }\n",
       "\n",
       "    .dataframe thead th {\n",
       "        text-align: right;\n",
       "    }\n",
       "</style>\n",
       "<table border=\"1\" class=\"dataframe\">\n",
       "  <thead>\n",
       "    <tr style=\"text-align: right;\">\n",
       "      <th></th>\n",
       "      <th>Title</th>\n",
       "      <th>genres</th>\n",
       "      <th>runtime</th>\n",
       "      <th>rating</th>\n",
       "      <th>numvotes</th>\n",
       "      <th>director</th>\n",
       "      <th>release_date</th>\n",
       "      <th>currency</th>\n",
       "      <th>box_office</th>\n",
       "      <th>production_budget</th>\n",
       "    </tr>\n",
       "  </thead>\n",
       "  <tbody>\n",
       "    <tr>\n",
       "      <th>0</th>\n",
       "      <td>Love on a Leash</td>\n",
       "      <td>Documentary</td>\n",
       "      <td>10.0</td>\n",
       "      <td>9.7</td>\n",
       "      <td>25</td>\n",
       "      <td>Sam Irwin</td>\n",
       "      <td>1994-04-01</td>\n",
       "      <td>$</td>\n",
       "      <td>15671532.5</td>\n",
       "      <td>NaN</td>\n",
       "    </tr>\n",
       "    <tr>\n",
       "      <th>1</th>\n",
       "      <td>Love on a Leash</td>\n",
       "      <td>Documentary</td>\n",
       "      <td>10.0</td>\n",
       "      <td>9.7</td>\n",
       "      <td>25</td>\n",
       "      <td>Stanley Kramer</td>\n",
       "      <td>1965-07-29</td>\n",
       "      <td>$</td>\n",
       "      <td>15671532.5</td>\n",
       "      <td>NaN</td>\n",
       "    </tr>\n",
       "    <tr>\n",
       "      <th>2</th>\n",
       "      <td>Love on a Leash</td>\n",
       "      <td>Documentary</td>\n",
       "      <td>10.0</td>\n",
       "      <td>9.7</td>\n",
       "      <td>25</td>\n",
       "      <td>Jeffrey Levy-Hinte</td>\n",
       "      <td>2009-07-10</td>\n",
       "      <td>$</td>\n",
       "      <td>200000.0</td>\n",
       "      <td>NaN</td>\n",
       "    </tr>\n",
       "    <tr>\n",
       "      <th>3</th>\n",
       "      <td>Love on a Leash</td>\n",
       "      <td>Documentary</td>\n",
       "      <td>10.0</td>\n",
       "      <td>9.7</td>\n",
       "      <td>25</td>\n",
       "      <td>Dave Grohl</td>\n",
       "      <td>2013-02-01</td>\n",
       "      <td>$</td>\n",
       "      <td>419361.0</td>\n",
       "      <td>NaN</td>\n",
       "    </tr>\n",
       "    <tr>\n",
       "      <th>4</th>\n",
       "      <td>Love on a Leash</td>\n",
       "      <td>Documentary</td>\n",
       "      <td>10.0</td>\n",
       "      <td>9.7</td>\n",
       "      <td>25</td>\n",
       "      <td>Leon Gast</td>\n",
       "      <td>2010-07-30</td>\n",
       "      <td>$</td>\n",
       "      <td>2367.0</td>\n",
       "      <td>NaN</td>\n",
       "    </tr>\n",
       "  </tbody>\n",
       "</table>\n",
       "</div>"
      ],
      "text/plain": [
       "             Title       genres  runtime  rating  numvotes  \\\n",
       "0  Love on a Leash  Documentary     10.0     9.7        25   \n",
       "1  Love on a Leash  Documentary     10.0     9.7        25   \n",
       "2  Love on a Leash  Documentary     10.0     9.7        25   \n",
       "3  Love on a Leash  Documentary     10.0     9.7        25   \n",
       "4  Love on a Leash  Documentary     10.0     9.7        25   \n",
       "\n",
       "             director release_date currency  box_office  production_budget  \n",
       "0           Sam Irwin   1994-04-01        $  15671532.5                NaN  \n",
       "1      Stanley Kramer   1965-07-29        $  15671532.5                NaN  \n",
       "2  Jeffrey Levy-Hinte   2009-07-10        $    200000.0                NaN  \n",
       "3          Dave Grohl   2013-02-01        $    419361.0                NaN  \n",
       "4           Leon Gast   2010-07-30        $      2367.0                NaN  "
      ]
     },
     "execution_count": 118,
     "metadata": {},
     "output_type": "execute_result"
    }
   ],
   "source": [
    "# Create new data frame by combining genre_df and budget_df using .merge()method\n",
    "# View the top of the data frame.\n",
    "genre_budget_df = pd.merge(genre_df,budget_df,how =\"left\")\n",
    "genre_budget_df.head()"
   ]
  },
  {
   "cell_type": "code",
   "execution_count": 119,
   "metadata": {},
   "outputs": [
    {
     "data": {
      "text/plain": [
       "(80387, 10)"
      ]
     },
     "execution_count": 119,
     "metadata": {},
     "output_type": "execute_result"
    }
   ],
   "source": [
    "# check for the dataframe shape\n",
    "genre_budget_df.shape"
   ]
  },
  {
   "cell_type": "markdown",
   "metadata": {},
   "source": [
    "#### Identifying the Missing Values"
   ]
  },
  {
   "cell_type": "code",
   "execution_count": 120,
   "metadata": {},
   "outputs": [
    {
     "data": {
      "text/plain": [
       "Title                    0\n",
       "genres                   0\n",
       "runtime                  0\n",
       "rating                   0\n",
       "numvotes                 0\n",
       "director                 0\n",
       "release_date             0\n",
       "currency                 0\n",
       "box_office               0\n",
       "production_budget    80387\n",
       "dtype: int64"
      ]
     },
     "execution_count": 120,
     "metadata": {},
     "output_type": "execute_result"
    }
   ],
   "source": [
    "# check for missing values\n",
    "genre_budget_df.isna().sum()"
   ]
  },
  {
   "cell_type": "markdown",
   "metadata": {},
   "source": [
    "We have a huge number of misssing values on the production budget column .It is better to drop the whole column from our dataset."
   ]
  },
  {
   "cell_type": "code",
   "execution_count": 121,
   "metadata": {},
   "outputs": [],
   "source": [
    "# drop some columns \n",
    "genre_budget_df = genre_budget_df.drop(columns=[\"production_budget\"],axis =1)\n"
   ]
  },
  {
   "cell_type": "code",
   "execution_count": 122,
   "metadata": {},
   "outputs": [
    {
     "data": {
      "text/plain": [
       "Title           0\n",
       "genres          0\n",
       "runtime         0\n",
       "rating          0\n",
       "numvotes        0\n",
       "director        0\n",
       "release_date    0\n",
       "currency        0\n",
       "box_office      0\n",
       "dtype: int64"
      ]
     },
     "execution_count": 122,
     "metadata": {},
     "output_type": "execute_result"
    }
   ],
   "source": [
    "#Check for missing values after update\n",
    "genre_budget_df.isna().sum()\n"
   ]
  },
  {
   "cell_type": "code",
   "execution_count": 123,
   "metadata": {},
   "outputs": [
    {
     "data": {
      "text/plain": [
       "(80387, 9)"
      ]
     },
     "execution_count": 123,
     "metadata": {},
     "output_type": "execute_result"
    }
   ],
   "source": [
    "# check for the data frame shape\n",
    "genre_budget_df.shape"
   ]
  },
  {
   "cell_type": "code",
   "execution_count": 124,
   "metadata": {},
   "outputs": [
    {
     "data": {
      "text/html": [
       "<div>\n",
       "<style scoped>\n",
       "    .dataframe tbody tr th:only-of-type {\n",
       "        vertical-align: middle;\n",
       "    }\n",
       "\n",
       "    .dataframe tbody tr th {\n",
       "        vertical-align: top;\n",
       "    }\n",
       "\n",
       "    .dataframe thead th {\n",
       "        text-align: right;\n",
       "    }\n",
       "</style>\n",
       "<table border=\"1\" class=\"dataframe\">\n",
       "  <thead>\n",
       "    <tr style=\"text-align: right;\">\n",
       "      <th></th>\n",
       "      <th>Title</th>\n",
       "      <th>genres</th>\n",
       "      <th>runtime</th>\n",
       "      <th>rating</th>\n",
       "      <th>numvotes</th>\n",
       "      <th>director</th>\n",
       "      <th>release_date</th>\n",
       "      <th>currency</th>\n",
       "      <th>box_office</th>\n",
       "    </tr>\n",
       "  </thead>\n",
       "  <tbody>\n",
       "    <tr>\n",
       "      <th>0</th>\n",
       "      <td>Love on a Leash</td>\n",
       "      <td>Documentary</td>\n",
       "      <td>10.0</td>\n",
       "      <td>9.7</td>\n",
       "      <td>25</td>\n",
       "      <td>Sam Irwin</td>\n",
       "      <td>1994-04-01</td>\n",
       "      <td>$</td>\n",
       "      <td>15671532.5</td>\n",
       "    </tr>\n",
       "    <tr>\n",
       "      <th>1</th>\n",
       "      <td>Love on a Leash</td>\n",
       "      <td>Documentary</td>\n",
       "      <td>10.0</td>\n",
       "      <td>9.7</td>\n",
       "      <td>25</td>\n",
       "      <td>Stanley Kramer</td>\n",
       "      <td>1965-07-29</td>\n",
       "      <td>$</td>\n",
       "      <td>15671532.5</td>\n",
       "    </tr>\n",
       "    <tr>\n",
       "      <th>2</th>\n",
       "      <td>Love on a Leash</td>\n",
       "      <td>Documentary</td>\n",
       "      <td>10.0</td>\n",
       "      <td>9.7</td>\n",
       "      <td>25</td>\n",
       "      <td>Jeffrey Levy-Hinte</td>\n",
       "      <td>2009-07-10</td>\n",
       "      <td>$</td>\n",
       "      <td>200000.0</td>\n",
       "    </tr>\n",
       "    <tr>\n",
       "      <th>3</th>\n",
       "      <td>Love on a Leash</td>\n",
       "      <td>Documentary</td>\n",
       "      <td>10.0</td>\n",
       "      <td>9.7</td>\n",
       "      <td>25</td>\n",
       "      <td>Dave Grohl</td>\n",
       "      <td>2013-02-01</td>\n",
       "      <td>$</td>\n",
       "      <td>419361.0</td>\n",
       "    </tr>\n",
       "    <tr>\n",
       "      <th>4</th>\n",
       "      <td>Love on a Leash</td>\n",
       "      <td>Documentary</td>\n",
       "      <td>10.0</td>\n",
       "      <td>9.7</td>\n",
       "      <td>25</td>\n",
       "      <td>Leon Gast</td>\n",
       "      <td>2010-07-30</td>\n",
       "      <td>$</td>\n",
       "      <td>2367.0</td>\n",
       "    </tr>\n",
       "  </tbody>\n",
       "</table>\n",
       "</div>"
      ],
      "text/plain": [
       "             Title       genres  runtime  rating  numvotes  \\\n",
       "0  Love on a Leash  Documentary     10.0     9.7        25   \n",
       "1  Love on a Leash  Documentary     10.0     9.7        25   \n",
       "2  Love on a Leash  Documentary     10.0     9.7        25   \n",
       "3  Love on a Leash  Documentary     10.0     9.7        25   \n",
       "4  Love on a Leash  Documentary     10.0     9.7        25   \n",
       "\n",
       "             director release_date currency  box_office  \n",
       "0           Sam Irwin   1994-04-01        $  15671532.5  \n",
       "1      Stanley Kramer   1965-07-29        $  15671532.5  \n",
       "2  Jeffrey Levy-Hinte   2009-07-10        $    200000.0  \n",
       "3          Dave Grohl   2013-02-01        $    419361.0  \n",
       "4           Leon Gast   2010-07-30        $      2367.0  "
      ]
     },
     "execution_count": 124,
     "metadata": {},
     "output_type": "execute_result"
    }
   ],
   "source": [
    "# display the top of  the data frame \n",
    "genre_budget_df.head()"
   ]
  },
  {
   "cell_type": "code",
   "execution_count": 125,
   "metadata": {},
   "outputs": [
    {
     "name": "stdout",
     "output_type": "stream",
     "text": [
      "<class 'pandas.core.frame.DataFrame'>\n",
      "Int64Index: 80387 entries, 0 to 80386\n",
      "Data columns (total 9 columns):\n",
      " #   Column        Non-Null Count  Dtype         \n",
      "---  ------        --------------  -----         \n",
      " 0   Title         80387 non-null  object        \n",
      " 1   genres        80387 non-null  object        \n",
      " 2   runtime       80387 non-null  float64       \n",
      " 3   rating        80387 non-null  float64       \n",
      " 4   numvotes      80387 non-null  int64         \n",
      " 5   director      80387 non-null  object        \n",
      " 6   release_date  80387 non-null  datetime64[ns]\n",
      " 7   currency      80387 non-null  object        \n",
      " 8   box_office    80387 non-null  float64       \n",
      "dtypes: datetime64[ns](1), float64(3), int64(1), object(4)\n",
      "memory usage: 6.1+ MB\n"
     ]
    }
   ],
   "source": [
    "# summary of our data frame df using .info() method\n",
    "genre_budget_df.info()"
   ]
  },
  {
   "cell_type": "code",
   "execution_count": 126,
   "metadata": {},
   "outputs": [
    {
     "data": {
      "text/plain": [
       "Western          496\n",
       "Animation       1312\n",
       "Horror          1485\n",
       "Documentary     4879\n",
       "Romance         5016\n",
       "Comedy         19968\n",
       "Drama          47231\n",
       "Name: genres, dtype: int64"
      ]
     },
     "execution_count": 126,
     "metadata": {},
     "output_type": "execute_result"
    }
   ],
   "source": [
    "# check the count of each genre\n",
    "genre_budget_df[\"genres\"].value_counts().sort_values()"
   ]
  },
  {
   "cell_type": "markdown",
   "metadata": {},
   "source": [
    "#### Joining the DataFrames\n",
    "Joining the Dataframes(genre_budget and movie5) Together First, identify the shared key between them. (Shared key meaning, the values we want to join on). The shared keys between these two dataframes are (release_date) column. We will use merge() method"
   ]
  },
  {
   "cell_type": "code",
   "execution_count": 127,
   "metadata": {},
   "outputs": [
    {
     "data": {
      "text/html": [
       "<div>\n",
       "<style scoped>\n",
       "    .dataframe tbody tr th:only-of-type {\n",
       "        vertical-align: middle;\n",
       "    }\n",
       "\n",
       "    .dataframe tbody tr th {\n",
       "        vertical-align: top;\n",
       "    }\n",
       "\n",
       "    .dataframe thead th {\n",
       "        text-align: right;\n",
       "    }\n",
       "</style>\n",
       "<table border=\"1\" class=\"dataframe\">\n",
       "  <thead>\n",
       "    <tr style=\"text-align: right;\">\n",
       "      <th></th>\n",
       "      <th>Title</th>\n",
       "      <th>genres</th>\n",
       "      <th>runtime</th>\n",
       "      <th>rating</th>\n",
       "      <th>numvotes</th>\n",
       "      <th>director</th>\n",
       "      <th>release_date</th>\n",
       "      <th>currency</th>\n",
       "      <th>box_office</th>\n",
       "      <th>review</th>\n",
       "      <th>critic</th>\n",
       "      <th>publisher</th>\n",
       "    </tr>\n",
       "  </thead>\n",
       "  <tbody>\n",
       "    <tr>\n",
       "      <th>0</th>\n",
       "      <td>Love on a Leash</td>\n",
       "      <td>Documentary</td>\n",
       "      <td>10.0</td>\n",
       "      <td>9.7</td>\n",
       "      <td>25</td>\n",
       "      <td>Sam Irwin</td>\n",
       "      <td>1994-04-01</td>\n",
       "      <td>$</td>\n",
       "      <td>15671532.5</td>\n",
       "      <td>NaN</td>\n",
       "      <td>NaN</td>\n",
       "      <td>NaN</td>\n",
       "    </tr>\n",
       "    <tr>\n",
       "      <th>1</th>\n",
       "      <td>Love on a Leash</td>\n",
       "      <td>Documentary</td>\n",
       "      <td>10.0</td>\n",
       "      <td>9.7</td>\n",
       "      <td>25</td>\n",
       "      <td>Stanley Kramer</td>\n",
       "      <td>1965-07-29</td>\n",
       "      <td>$</td>\n",
       "      <td>15671532.5</td>\n",
       "      <td>NaN</td>\n",
       "      <td>NaN</td>\n",
       "      <td>NaN</td>\n",
       "    </tr>\n",
       "    <tr>\n",
       "      <th>2</th>\n",
       "      <td>Love on a Leash</td>\n",
       "      <td>Documentary</td>\n",
       "      <td>10.0</td>\n",
       "      <td>9.7</td>\n",
       "      <td>25</td>\n",
       "      <td>Jeffrey Levy-Hinte</td>\n",
       "      <td>2009-07-10</td>\n",
       "      <td>$</td>\n",
       "      <td>200000.0</td>\n",
       "      <td>James Brown and B.B. King anchor this footnote...</td>\n",
       "      <td>Robert Davis</td>\n",
       "      <td>Paste Magazine</td>\n",
       "    </tr>\n",
       "    <tr>\n",
       "      <th>3</th>\n",
       "      <td>Love on a Leash</td>\n",
       "      <td>Documentary</td>\n",
       "      <td>10.0</td>\n",
       "      <td>9.7</td>\n",
       "      <td>25</td>\n",
       "      <td>Jeffrey Levy-Hinte</td>\n",
       "      <td>2009-07-10</td>\n",
       "      <td>$</td>\n",
       "      <td>200000.0</td>\n",
       "      <td>Director Jeffrey Levy-Hinte pads out the conce...</td>\n",
       "      <td>Peter Rainer</td>\n",
       "      <td>Christian Science Monitor</td>\n",
       "    </tr>\n",
       "    <tr>\n",
       "      <th>4</th>\n",
       "      <td>Love on a Leash</td>\n",
       "      <td>Documentary</td>\n",
       "      <td>10.0</td>\n",
       "      <td>9.7</td>\n",
       "      <td>25</td>\n",
       "      <td>Jeffrey Levy-Hinte</td>\n",
       "      <td>2009-07-10</td>\n",
       "      <td>$</td>\n",
       "      <td>200000.0</td>\n",
       "      <td>A vibrant and joyous new documentary.</td>\n",
       "      <td>Kenneth Turan</td>\n",
       "      <td>Los Angeles Times</td>\n",
       "    </tr>\n",
       "  </tbody>\n",
       "</table>\n",
       "</div>"
      ],
      "text/plain": [
       "             Title       genres  runtime  rating  numvotes  \\\n",
       "0  Love on a Leash  Documentary     10.0     9.7        25   \n",
       "1  Love on a Leash  Documentary     10.0     9.7        25   \n",
       "2  Love on a Leash  Documentary     10.0     9.7        25   \n",
       "3  Love on a Leash  Documentary     10.0     9.7        25   \n",
       "4  Love on a Leash  Documentary     10.0     9.7        25   \n",
       "\n",
       "             director release_date currency  box_office  \\\n",
       "0           Sam Irwin   1994-04-01        $  15671532.5   \n",
       "1      Stanley Kramer   1965-07-29        $  15671532.5   \n",
       "2  Jeffrey Levy-Hinte   2009-07-10        $    200000.0   \n",
       "3  Jeffrey Levy-Hinte   2009-07-10        $    200000.0   \n",
       "4  Jeffrey Levy-Hinte   2009-07-10        $    200000.0   \n",
       "\n",
       "                                              review         critic  \\\n",
       "0                                                NaN            NaN   \n",
       "1                                                NaN            NaN   \n",
       "2  James Brown and B.B. King anchor this footnote...   Robert Davis   \n",
       "3  Director Jeffrey Levy-Hinte pads out the conce...   Peter Rainer   \n",
       "4              A vibrant and joyous new documentary.  Kenneth Turan   \n",
       "\n",
       "                   publisher  \n",
       "0                        NaN  \n",
       "1                        NaN  \n",
       "2             Paste Magazine  \n",
       "3  Christian Science Monitor  \n",
       "4          Los Angeles Times  "
      ]
     },
     "execution_count": 127,
     "metadata": {},
     "output_type": "execute_result"
    }
   ],
   "source": [
    "# Create new data frame by combining genre_budget_df and movie5 using .merge()method\n",
    "# View the top of the data frame.\n",
    "df= pd.merge(genre_budget_df,movie5,on =[\"release_date\"],how =\"left\")\n",
    "df.head()"
   ]
  },
  {
   "cell_type": "code",
   "execution_count": 128,
   "metadata": {},
   "outputs": [
    {
     "data": {
      "text/plain": [
       "(1283846, 12)"
      ]
     },
     "execution_count": 128,
     "metadata": {},
     "output_type": "execute_result"
    }
   ],
   "source": [
    "#check for the data frame shape\n",
    "df.shape"
   ]
  },
  {
   "cell_type": "markdown",
   "metadata": {},
   "source": [
    "#### Identifying and Handiling the Missing Values"
   ]
  },
  {
   "cell_type": "code",
   "execution_count": 129,
   "metadata": {},
   "outputs": [
    {
     "data": {
      "text/plain": [
       "Title               0\n",
       "genres              0\n",
       "runtime             0\n",
       "rating              0\n",
       "numvotes            0\n",
       "director            0\n",
       "release_date        0\n",
       "currency            0\n",
       "box_office          0\n",
       "review          47817\n",
       "critic          47817\n",
       "publisher       47817\n",
       "dtype: int64"
      ]
     },
     "execution_count": 129,
     "metadata": {},
     "output_type": "execute_result"
    }
   ],
   "source": [
    "# checking for missing values using .isna() function.\n",
    "df.isna().sum()"
   ]
  },
  {
   "cell_type": "code",
   "execution_count": 130,
   "metadata": {},
   "outputs": [
    {
     "data": {
      "text/html": [
       "<div>\n",
       "<style scoped>\n",
       "    .dataframe tbody tr th:only-of-type {\n",
       "        vertical-align: middle;\n",
       "    }\n",
       "\n",
       "    .dataframe tbody tr th {\n",
       "        vertical-align: top;\n",
       "    }\n",
       "\n",
       "    .dataframe thead th {\n",
       "        text-align: right;\n",
       "    }\n",
       "</style>\n",
       "<table border=\"1\" class=\"dataframe\">\n",
       "  <thead>\n",
       "    <tr style=\"text-align: right;\">\n",
       "      <th></th>\n",
       "      <th>Title</th>\n",
       "      <th>genres</th>\n",
       "      <th>runtime</th>\n",
       "      <th>rating</th>\n",
       "      <th>numvotes</th>\n",
       "      <th>director</th>\n",
       "      <th>release_date</th>\n",
       "      <th>currency</th>\n",
       "      <th>box_office</th>\n",
       "      <th>review</th>\n",
       "      <th>critic</th>\n",
       "      <th>publisher</th>\n",
       "    </tr>\n",
       "  </thead>\n",
       "  <tbody>\n",
       "    <tr>\n",
       "      <th>2</th>\n",
       "      <td>Love on a Leash</td>\n",
       "      <td>Documentary</td>\n",
       "      <td>10.0</td>\n",
       "      <td>9.7</td>\n",
       "      <td>25</td>\n",
       "      <td>Jeffrey Levy-Hinte</td>\n",
       "      <td>2009-07-10</td>\n",
       "      <td>$</td>\n",
       "      <td>200000.0</td>\n",
       "      <td>James Brown and B.B. King anchor this footnote...</td>\n",
       "      <td>Robert Davis</td>\n",
       "      <td>Paste Magazine</td>\n",
       "    </tr>\n",
       "    <tr>\n",
       "      <th>3</th>\n",
       "      <td>Love on a Leash</td>\n",
       "      <td>Documentary</td>\n",
       "      <td>10.0</td>\n",
       "      <td>9.7</td>\n",
       "      <td>25</td>\n",
       "      <td>Jeffrey Levy-Hinte</td>\n",
       "      <td>2009-07-10</td>\n",
       "      <td>$</td>\n",
       "      <td>200000.0</td>\n",
       "      <td>Director Jeffrey Levy-Hinte pads out the conce...</td>\n",
       "      <td>Peter Rainer</td>\n",
       "      <td>Christian Science Monitor</td>\n",
       "    </tr>\n",
       "    <tr>\n",
       "      <th>4</th>\n",
       "      <td>Love on a Leash</td>\n",
       "      <td>Documentary</td>\n",
       "      <td>10.0</td>\n",
       "      <td>9.7</td>\n",
       "      <td>25</td>\n",
       "      <td>Jeffrey Levy-Hinte</td>\n",
       "      <td>2009-07-10</td>\n",
       "      <td>$</td>\n",
       "      <td>200000.0</td>\n",
       "      <td>A vibrant and joyous new documentary.</td>\n",
       "      <td>Kenneth Turan</td>\n",
       "      <td>Los Angeles Times</td>\n",
       "    </tr>\n",
       "    <tr>\n",
       "      <th>5</th>\n",
       "      <td>Love on a Leash</td>\n",
       "      <td>Documentary</td>\n",
       "      <td>10.0</td>\n",
       "      <td>9.7</td>\n",
       "      <td>25</td>\n",
       "      <td>Jeffrey Levy-Hinte</td>\n",
       "      <td>2009-07-10</td>\n",
       "      <td>$</td>\n",
       "      <td>200000.0</td>\n",
       "      <td>Director Jeffrey Levy-Hinte does a terrific jo...</td>\n",
       "      <td>Elizabeth Weitzman</td>\n",
       "      <td>New York Daily News</td>\n",
       "    </tr>\n",
       "    <tr>\n",
       "      <th>6</th>\n",
       "      <td>Love on a Leash</td>\n",
       "      <td>Documentary</td>\n",
       "      <td>10.0</td>\n",
       "      <td>9.7</td>\n",
       "      <td>25</td>\n",
       "      <td>Jeffrey Levy-Hinte</td>\n",
       "      <td>2009-07-10</td>\n",
       "      <td>$</td>\n",
       "      <td>200000.0</td>\n",
       "      <td>The behind the scenes record of the event is f...</td>\n",
       "      <td>Pam Grady</td>\n",
       "      <td>Boxoffice Magazine</td>\n",
       "    </tr>\n",
       "  </tbody>\n",
       "</table>\n",
       "</div>"
      ],
      "text/plain": [
       "             Title       genres  runtime  rating  numvotes  \\\n",
       "2  Love on a Leash  Documentary     10.0     9.7        25   \n",
       "3  Love on a Leash  Documentary     10.0     9.7        25   \n",
       "4  Love on a Leash  Documentary     10.0     9.7        25   \n",
       "5  Love on a Leash  Documentary     10.0     9.7        25   \n",
       "6  Love on a Leash  Documentary     10.0     9.7        25   \n",
       "\n",
       "             director release_date currency  box_office  \\\n",
       "2  Jeffrey Levy-Hinte   2009-07-10        $    200000.0   \n",
       "3  Jeffrey Levy-Hinte   2009-07-10        $    200000.0   \n",
       "4  Jeffrey Levy-Hinte   2009-07-10        $    200000.0   \n",
       "5  Jeffrey Levy-Hinte   2009-07-10        $    200000.0   \n",
       "6  Jeffrey Levy-Hinte   2009-07-10        $    200000.0   \n",
       "\n",
       "                                              review              critic  \\\n",
       "2  James Brown and B.B. King anchor this footnote...        Robert Davis   \n",
       "3  Director Jeffrey Levy-Hinte pads out the conce...        Peter Rainer   \n",
       "4              A vibrant and joyous new documentary.       Kenneth Turan   \n",
       "5  Director Jeffrey Levy-Hinte does a terrific jo...  Elizabeth Weitzman   \n",
       "6  The behind the scenes record of the event is f...           Pam Grady   \n",
       "\n",
       "                   publisher  \n",
       "2             Paste Magazine  \n",
       "3  Christian Science Monitor  \n",
       "4          Los Angeles Times  \n",
       "5        New York Daily News  \n",
       "6         Boxoffice Magazine  "
      ]
     },
     "execution_count": 130,
     "metadata": {},
     "output_type": "execute_result"
    }
   ],
   "source": [
    "# drop missing values\n",
    "df= df.dropna()\n",
    "df.head()"
   ]
  },
  {
   "cell_type": "markdown",
   "metadata": {},
   "source": [
    "#### Joining the DataFrames\n",
    "Joining the Dataframes(df and movie6) Together First, identify the shared key between them. (Shared key meaning, the values we want to join on). The shared keys between these two dataframes are (Title,release_date,rating,numvotes) column. We will use merge() method"
   ]
  },
  {
   "cell_type": "code",
   "execution_count": 131,
   "metadata": {},
   "outputs": [
    {
     "data": {
      "text/html": [
       "<div>\n",
       "<style scoped>\n",
       "    .dataframe tbody tr th:only-of-type {\n",
       "        vertical-align: middle;\n",
       "    }\n",
       "\n",
       "    .dataframe tbody tr th {\n",
       "        vertical-align: top;\n",
       "    }\n",
       "\n",
       "    .dataframe thead th {\n",
       "        text-align: right;\n",
       "    }\n",
       "</style>\n",
       "<table border=\"1\" class=\"dataframe\">\n",
       "  <thead>\n",
       "    <tr style=\"text-align: right;\">\n",
       "      <th></th>\n",
       "      <th>Title</th>\n",
       "      <th>genres</th>\n",
       "      <th>runtime</th>\n",
       "      <th>rating</th>\n",
       "      <th>numvotes</th>\n",
       "      <th>director</th>\n",
       "      <th>release_date</th>\n",
       "      <th>currency</th>\n",
       "      <th>box_office</th>\n",
       "      <th>review</th>\n",
       "      <th>critic</th>\n",
       "      <th>publisher</th>\n",
       "      <th>original_language</th>\n",
       "    </tr>\n",
       "  </thead>\n",
       "  <tbody>\n",
       "    <tr>\n",
       "      <th>0</th>\n",
       "      <td>Love on a Leash</td>\n",
       "      <td>Documentary</td>\n",
       "      <td>10.0</td>\n",
       "      <td>9.7</td>\n",
       "      <td>25</td>\n",
       "      <td>Jeffrey Levy-Hinte</td>\n",
       "      <td>2009-07-10</td>\n",
       "      <td>$</td>\n",
       "      <td>200000.0</td>\n",
       "      <td>James Brown and B.B. King anchor this footnote...</td>\n",
       "      <td>Robert Davis</td>\n",
       "      <td>Paste Magazine</td>\n",
       "      <td>NaN</td>\n",
       "    </tr>\n",
       "    <tr>\n",
       "      <th>1</th>\n",
       "      <td>Love on a Leash</td>\n",
       "      <td>Documentary</td>\n",
       "      <td>10.0</td>\n",
       "      <td>9.7</td>\n",
       "      <td>25</td>\n",
       "      <td>Jeffrey Levy-Hinte</td>\n",
       "      <td>2009-07-10</td>\n",
       "      <td>$</td>\n",
       "      <td>200000.0</td>\n",
       "      <td>Director Jeffrey Levy-Hinte pads out the conce...</td>\n",
       "      <td>Peter Rainer</td>\n",
       "      <td>Christian Science Monitor</td>\n",
       "      <td>NaN</td>\n",
       "    </tr>\n",
       "    <tr>\n",
       "      <th>2</th>\n",
       "      <td>Love on a Leash</td>\n",
       "      <td>Documentary</td>\n",
       "      <td>10.0</td>\n",
       "      <td>9.7</td>\n",
       "      <td>25</td>\n",
       "      <td>Jeffrey Levy-Hinte</td>\n",
       "      <td>2009-07-10</td>\n",
       "      <td>$</td>\n",
       "      <td>200000.0</td>\n",
       "      <td>A vibrant and joyous new documentary.</td>\n",
       "      <td>Kenneth Turan</td>\n",
       "      <td>Los Angeles Times</td>\n",
       "      <td>NaN</td>\n",
       "    </tr>\n",
       "    <tr>\n",
       "      <th>3</th>\n",
       "      <td>Love on a Leash</td>\n",
       "      <td>Documentary</td>\n",
       "      <td>10.0</td>\n",
       "      <td>9.7</td>\n",
       "      <td>25</td>\n",
       "      <td>Jeffrey Levy-Hinte</td>\n",
       "      <td>2009-07-10</td>\n",
       "      <td>$</td>\n",
       "      <td>200000.0</td>\n",
       "      <td>Director Jeffrey Levy-Hinte does a terrific jo...</td>\n",
       "      <td>Elizabeth Weitzman</td>\n",
       "      <td>New York Daily News</td>\n",
       "      <td>NaN</td>\n",
       "    </tr>\n",
       "    <tr>\n",
       "      <th>4</th>\n",
       "      <td>Love on a Leash</td>\n",
       "      <td>Documentary</td>\n",
       "      <td>10.0</td>\n",
       "      <td>9.7</td>\n",
       "      <td>25</td>\n",
       "      <td>Jeffrey Levy-Hinte</td>\n",
       "      <td>2009-07-10</td>\n",
       "      <td>$</td>\n",
       "      <td>200000.0</td>\n",
       "      <td>The behind the scenes record of the event is f...</td>\n",
       "      <td>Pam Grady</td>\n",
       "      <td>Boxoffice Magazine</td>\n",
       "      <td>NaN</td>\n",
       "    </tr>\n",
       "  </tbody>\n",
       "</table>\n",
       "</div>"
      ],
      "text/plain": [
       "             Title       genres  runtime  rating  numvotes  \\\n",
       "0  Love on a Leash  Documentary     10.0     9.7        25   \n",
       "1  Love on a Leash  Documentary     10.0     9.7        25   \n",
       "2  Love on a Leash  Documentary     10.0     9.7        25   \n",
       "3  Love on a Leash  Documentary     10.0     9.7        25   \n",
       "4  Love on a Leash  Documentary     10.0     9.7        25   \n",
       "\n",
       "             director release_date currency  box_office  \\\n",
       "0  Jeffrey Levy-Hinte   2009-07-10        $    200000.0   \n",
       "1  Jeffrey Levy-Hinte   2009-07-10        $    200000.0   \n",
       "2  Jeffrey Levy-Hinte   2009-07-10        $    200000.0   \n",
       "3  Jeffrey Levy-Hinte   2009-07-10        $    200000.0   \n",
       "4  Jeffrey Levy-Hinte   2009-07-10        $    200000.0   \n",
       "\n",
       "                                              review              critic  \\\n",
       "0  James Brown and B.B. King anchor this footnote...        Robert Davis   \n",
       "1  Director Jeffrey Levy-Hinte pads out the conce...        Peter Rainer   \n",
       "2              A vibrant and joyous new documentary.       Kenneth Turan   \n",
       "3  Director Jeffrey Levy-Hinte does a terrific jo...  Elizabeth Weitzman   \n",
       "4  The behind the scenes record of the event is f...           Pam Grady   \n",
       "\n",
       "                   publisher original_language  \n",
       "0             Paste Magazine               NaN  \n",
       "1  Christian Science Monitor               NaN  \n",
       "2          Los Angeles Times               NaN  \n",
       "3        New York Daily News               NaN  \n",
       "4         Boxoffice Magazine               NaN  "
      ]
     },
     "execution_count": 131,
     "metadata": {},
     "output_type": "execute_result"
    }
   ],
   "source": [
    "# create the final data frame\n",
    "final=pd.merge(df,movie6,on =[\"Title\",\"release_date\",\"rating\",\"numvotes\"],how =\"left\")\n",
    "final.head()"
   ]
  },
  {
   "cell_type": "code",
   "execution_count": 132,
   "metadata": {},
   "outputs": [
    {
     "data": {
      "text/plain": [
       "(1236029, 13)"
      ]
     },
     "execution_count": 132,
     "metadata": {},
     "output_type": "execute_result"
    }
   ],
   "source": [
    "# check dataframe shape\n",
    "final.shape"
   ]
  },
  {
   "cell_type": "code",
   "execution_count": 90,
   "metadata": {},
   "outputs": [
    {
     "data": {
      "text/html": [
       "<div>\n",
       "<style scoped>\n",
       "    .dataframe tbody tr th:only-of-type {\n",
       "        vertical-align: middle;\n",
       "    }\n",
       "\n",
       "    .dataframe tbody tr th {\n",
       "        vertical-align: top;\n",
       "    }\n",
       "\n",
       "    .dataframe thead th {\n",
       "        text-align: right;\n",
       "    }\n",
       "</style>\n",
       "<table border=\"1\" class=\"dataframe\">\n",
       "  <thead>\n",
       "    <tr style=\"text-align: right;\">\n",
       "      <th></th>\n",
       "      <th>production_budget</th>\n",
       "      <th>domestic_gross</th>\n",
       "      <th>foreign_gross</th>\n",
       "      <th>total_gross</th>\n",
       "    </tr>\n",
       "  </thead>\n",
       "  <tbody>\n",
       "    <tr>\n",
       "      <th>count</th>\n",
       "      <td>5.782000e+03</td>\n",
       "      <td>5.782000e+03</td>\n",
       "      <td>5.782000e+03</td>\n",
       "      <td>5.782000e+03</td>\n",
       "    </tr>\n",
       "    <tr>\n",
       "      <th>mean</th>\n",
       "      <td>3.158776e+07</td>\n",
       "      <td>4.187333e+07</td>\n",
       "      <td>9.148746e+07</td>\n",
       "      <td>1.333608e+08</td>\n",
       "    </tr>\n",
       "    <tr>\n",
       "      <th>std</th>\n",
       "      <td>4.181208e+07</td>\n",
       "      <td>6.824060e+07</td>\n",
       "      <td>1.747200e+08</td>\n",
       "      <td>2.399411e+08</td>\n",
       "    </tr>\n",
       "    <tr>\n",
       "      <th>min</th>\n",
       "      <td>1.100000e+03</td>\n",
       "      <td>0.000000e+00</td>\n",
       "      <td>0.000000e+00</td>\n",
       "      <td>0.000000e+00</td>\n",
       "    </tr>\n",
       "    <tr>\n",
       "      <th>25%</th>\n",
       "      <td>5.000000e+06</td>\n",
       "      <td>1.429534e+06</td>\n",
       "      <td>4.125415e+06</td>\n",
       "      <td>6.448924e+06</td>\n",
       "    </tr>\n",
       "    <tr>\n",
       "      <th>50%</th>\n",
       "      <td>1.700000e+07</td>\n",
       "      <td>1.722594e+07</td>\n",
       "      <td>2.798445e+07</td>\n",
       "      <td>4.605855e+07</td>\n",
       "    </tr>\n",
       "    <tr>\n",
       "      <th>75%</th>\n",
       "      <td>4.000000e+07</td>\n",
       "      <td>5.234866e+07</td>\n",
       "      <td>9.764584e+07</td>\n",
       "      <td>1.506937e+08</td>\n",
       "    </tr>\n",
       "    <tr>\n",
       "      <th>max</th>\n",
       "      <td>4.250000e+08</td>\n",
       "      <td>9.366622e+08</td>\n",
       "      <td>2.776345e+09</td>\n",
       "      <td>3.536853e+09</td>\n",
       "    </tr>\n",
       "  </tbody>\n",
       "</table>\n",
       "</div>"
      ],
      "text/plain": [
       "       production_budget  domestic_gross  foreign_gross   total_gross\n",
       "count       5.782000e+03    5.782000e+03   5.782000e+03  5.782000e+03\n",
       "mean        3.158776e+07    4.187333e+07   9.148746e+07  1.333608e+08\n",
       "std         4.181208e+07    6.824060e+07   1.747200e+08  2.399411e+08\n",
       "min         1.100000e+03    0.000000e+00   0.000000e+00  0.000000e+00\n",
       "25%         5.000000e+06    1.429534e+06   4.125415e+06  6.448924e+06\n",
       "50%         1.700000e+07    1.722594e+07   2.798445e+07  4.605855e+07\n",
       "75%         4.000000e+07    5.234866e+07   9.764584e+07  1.506937e+08\n",
       "max         4.250000e+08    9.366622e+08   2.776345e+09  3.536853e+09"
      ]
     },
     "execution_count": 90,
     "metadata": {},
     "output_type": "execute_result"
    }
   ],
   "source": [
    "# calculate some basic statistical \n",
    "budget_df.describe()"
   ]
  },
  {
   "cell_type": "markdown",
   "metadata": {},
   "source": [
    "#### Identifying and Handiling the Missing Values"
   ]
  },
  {
   "cell_type": "code",
   "execution_count": 133,
   "metadata": {},
   "outputs": [
    {
     "data": {
      "text/plain": [
       "Title                      0\n",
       "genres                     0\n",
       "runtime                    0\n",
       "rating                     0\n",
       "numvotes                   0\n",
       "director                   0\n",
       "release_date               0\n",
       "currency                   0\n",
       "box_office                 0\n",
       "review                     0\n",
       "critic                     0\n",
       "publisher                  0\n",
       "original_language    1236029\n",
       "dtype: int64"
      ]
     },
     "execution_count": 133,
     "metadata": {},
     "output_type": "execute_result"
    }
   ],
   "source": [
    "# check for missing values\n",
    "final.isna().sum()"
   ]
  },
  {
   "cell_type": "markdown",
   "metadata": {},
   "source": [
    "The column of original_language has 1236029 we will drop the whole column."
   ]
  },
  {
   "cell_type": "code",
   "execution_count": 134,
   "metadata": {},
   "outputs": [],
   "source": [
    "# drop column\n",
    "final = final.drop(columns=\"original_language\",axis=1)\n"
   ]
  },
  {
   "cell_type": "code",
   "execution_count": 135,
   "metadata": {},
   "outputs": [
    {
     "data": {
      "text/html": [
       "<div>\n",
       "<style scoped>\n",
       "    .dataframe tbody tr th:only-of-type {\n",
       "        vertical-align: middle;\n",
       "    }\n",
       "\n",
       "    .dataframe tbody tr th {\n",
       "        vertical-align: top;\n",
       "    }\n",
       "\n",
       "    .dataframe thead th {\n",
       "        text-align: right;\n",
       "    }\n",
       "</style>\n",
       "<table border=\"1\" class=\"dataframe\">\n",
       "  <thead>\n",
       "    <tr style=\"text-align: right;\">\n",
       "      <th></th>\n",
       "      <th>Title</th>\n",
       "      <th>genres</th>\n",
       "      <th>runtime</th>\n",
       "      <th>rating</th>\n",
       "      <th>numvotes</th>\n",
       "      <th>director</th>\n",
       "      <th>release_date</th>\n",
       "      <th>currency</th>\n",
       "      <th>box_office</th>\n",
       "      <th>review</th>\n",
       "      <th>critic</th>\n",
       "      <th>publisher</th>\n",
       "    </tr>\n",
       "  </thead>\n",
       "  <tbody>\n",
       "    <tr>\n",
       "      <th>0</th>\n",
       "      <td>Love on a Leash</td>\n",
       "      <td>Documentary</td>\n",
       "      <td>10.0</td>\n",
       "      <td>9.7</td>\n",
       "      <td>25</td>\n",
       "      <td>Jeffrey Levy-Hinte</td>\n",
       "      <td>2009-07-10</td>\n",
       "      <td>$</td>\n",
       "      <td>200000.0</td>\n",
       "      <td>James Brown and B.B. King anchor this footnote...</td>\n",
       "      <td>Robert Davis</td>\n",
       "      <td>Paste Magazine</td>\n",
       "    </tr>\n",
       "    <tr>\n",
       "      <th>1</th>\n",
       "      <td>Love on a Leash</td>\n",
       "      <td>Documentary</td>\n",
       "      <td>10.0</td>\n",
       "      <td>9.7</td>\n",
       "      <td>25</td>\n",
       "      <td>Jeffrey Levy-Hinte</td>\n",
       "      <td>2009-07-10</td>\n",
       "      <td>$</td>\n",
       "      <td>200000.0</td>\n",
       "      <td>Director Jeffrey Levy-Hinte pads out the conce...</td>\n",
       "      <td>Peter Rainer</td>\n",
       "      <td>Christian Science Monitor</td>\n",
       "    </tr>\n",
       "    <tr>\n",
       "      <th>2</th>\n",
       "      <td>Love on a Leash</td>\n",
       "      <td>Documentary</td>\n",
       "      <td>10.0</td>\n",
       "      <td>9.7</td>\n",
       "      <td>25</td>\n",
       "      <td>Jeffrey Levy-Hinte</td>\n",
       "      <td>2009-07-10</td>\n",
       "      <td>$</td>\n",
       "      <td>200000.0</td>\n",
       "      <td>A vibrant and joyous new documentary.</td>\n",
       "      <td>Kenneth Turan</td>\n",
       "      <td>Los Angeles Times</td>\n",
       "    </tr>\n",
       "    <tr>\n",
       "      <th>3</th>\n",
       "      <td>Love on a Leash</td>\n",
       "      <td>Documentary</td>\n",
       "      <td>10.0</td>\n",
       "      <td>9.7</td>\n",
       "      <td>25</td>\n",
       "      <td>Jeffrey Levy-Hinte</td>\n",
       "      <td>2009-07-10</td>\n",
       "      <td>$</td>\n",
       "      <td>200000.0</td>\n",
       "      <td>Director Jeffrey Levy-Hinte does a terrific jo...</td>\n",
       "      <td>Elizabeth Weitzman</td>\n",
       "      <td>New York Daily News</td>\n",
       "    </tr>\n",
       "    <tr>\n",
       "      <th>4</th>\n",
       "      <td>Love on a Leash</td>\n",
       "      <td>Documentary</td>\n",
       "      <td>10.0</td>\n",
       "      <td>9.7</td>\n",
       "      <td>25</td>\n",
       "      <td>Jeffrey Levy-Hinte</td>\n",
       "      <td>2009-07-10</td>\n",
       "      <td>$</td>\n",
       "      <td>200000.0</td>\n",
       "      <td>The behind the scenes record of the event is f...</td>\n",
       "      <td>Pam Grady</td>\n",
       "      <td>Boxoffice Magazine</td>\n",
       "    </tr>\n",
       "  </tbody>\n",
       "</table>\n",
       "</div>"
      ],
      "text/plain": [
       "             Title       genres  runtime  rating  numvotes  \\\n",
       "0  Love on a Leash  Documentary     10.0     9.7        25   \n",
       "1  Love on a Leash  Documentary     10.0     9.7        25   \n",
       "2  Love on a Leash  Documentary     10.0     9.7        25   \n",
       "3  Love on a Leash  Documentary     10.0     9.7        25   \n",
       "4  Love on a Leash  Documentary     10.0     9.7        25   \n",
       "\n",
       "             director release_date currency  box_office  \\\n",
       "0  Jeffrey Levy-Hinte   2009-07-10        $    200000.0   \n",
       "1  Jeffrey Levy-Hinte   2009-07-10        $    200000.0   \n",
       "2  Jeffrey Levy-Hinte   2009-07-10        $    200000.0   \n",
       "3  Jeffrey Levy-Hinte   2009-07-10        $    200000.0   \n",
       "4  Jeffrey Levy-Hinte   2009-07-10        $    200000.0   \n",
       "\n",
       "                                              review              critic  \\\n",
       "0  James Brown and B.B. King anchor this footnote...        Robert Davis   \n",
       "1  Director Jeffrey Levy-Hinte pads out the conce...        Peter Rainer   \n",
       "2              A vibrant and joyous new documentary.       Kenneth Turan   \n",
       "3  Director Jeffrey Levy-Hinte does a terrific jo...  Elizabeth Weitzman   \n",
       "4  The behind the scenes record of the event is f...           Pam Grady   \n",
       "\n",
       "                   publisher  \n",
       "0             Paste Magazine  \n",
       "1  Christian Science Monitor  \n",
       "2          Los Angeles Times  \n",
       "3        New York Daily News  \n",
       "4         Boxoffice Magazine  "
      ]
     },
     "execution_count": 135,
     "metadata": {},
     "output_type": "execute_result"
    }
   ],
   "source": [
    "# display the top of the final dataframe\n",
    "final.head()"
   ]
  },
  {
   "cell_type": "code",
   "execution_count": 136,
   "metadata": {},
   "outputs": [
    {
     "data": {
      "text/plain": [
       "(1236029, 12)"
      ]
     },
     "execution_count": 136,
     "metadata": {},
     "output_type": "execute_result"
    }
   ],
   "source": [
    "# check the final data frame shape\n",
    "final.shape"
   ]
  },
  {
   "cell_type": "markdown",
   "metadata": {},
   "source": [
    "After preprocessing and joining our dataframe,I think the final data frame is ready now to answer our questions that we set before."
   ]
  },
  {
   "cell_type": "markdown",
   "metadata": {},
   "source": [
    "To clarify the relationship between the movie genre and the boxoffice revenue .we will create a new data frame grouped by the (genres) colunm and calculate its mean"
   ]
  },
  {
   "cell_type": "code",
   "execution_count": 137,
   "metadata": {},
   "outputs": [
    {
     "name": "stderr",
     "output_type": "stream",
     "text": [
      "C:\\Users\\mays8\\AppData\\Local\\Temp\\ipykernel_4104\\4234391521.py:2: FutureWarning: The default value of numeric_only in DataFrameGroupBy.mean is deprecated. In a future version, numeric_only will default to False. Either specify numeric_only or select only columns which should be valid for the function.\n",
      "  genre_box_office = final.groupby(\"genres\").mean()\n"
     ]
    },
    {
     "data": {
      "text/html": [
       "<div>\n",
       "<style scoped>\n",
       "    .dataframe tbody tr th:only-of-type {\n",
       "        vertical-align: middle;\n",
       "    }\n",
       "\n",
       "    .dataframe tbody tr th {\n",
       "        vertical-align: top;\n",
       "    }\n",
       "\n",
       "    .dataframe thead th {\n",
       "        text-align: right;\n",
       "    }\n",
       "</style>\n",
       "<table border=\"1\" class=\"dataframe\">\n",
       "  <thead>\n",
       "    <tr style=\"text-align: right;\">\n",
       "      <th></th>\n",
       "      <th>runtime</th>\n",
       "      <th>rating</th>\n",
       "      <th>numvotes</th>\n",
       "      <th>box_office</th>\n",
       "    </tr>\n",
       "    <tr>\n",
       "      <th>genres</th>\n",
       "      <th></th>\n",
       "      <th></th>\n",
       "      <th></th>\n",
       "      <th></th>\n",
       "    </tr>\n",
       "  </thead>\n",
       "  <tbody>\n",
       "    <tr>\n",
       "      <th>Romance</th>\n",
       "      <td>100.515152</td>\n",
       "      <td>7.712121</td>\n",
       "      <td>7489.393939</td>\n",
       "      <td>5.410997e+07</td>\n",
       "    </tr>\n",
       "    <tr>\n",
       "      <th>Comedy</th>\n",
       "      <td>87.895833</td>\n",
       "      <td>7.822917</td>\n",
       "      <td>22097.083333</td>\n",
       "      <td>4.247797e+07</td>\n",
       "    </tr>\n",
       "    <tr>\n",
       "      <th>Animation</th>\n",
       "      <td>85.585366</td>\n",
       "      <td>7.539024</td>\n",
       "      <td>6633.804878</td>\n",
       "      <td>3.740536e+07</td>\n",
       "    </tr>\n",
       "    <tr>\n",
       "      <th>Horror</th>\n",
       "      <td>91.200000</td>\n",
       "      <td>7.520000</td>\n",
       "      <td>102.333333</td>\n",
       "      <td>3.054741e+07</td>\n",
       "    </tr>\n",
       "    <tr>\n",
       "      <th>Drama</th>\n",
       "      <td>101.260274</td>\n",
       "      <td>7.569863</td>\n",
       "      <td>59109.369863</td>\n",
       "      <td>2.426281e+07</td>\n",
       "    </tr>\n",
       "    <tr>\n",
       "      <th>Western</th>\n",
       "      <td>91.312500</td>\n",
       "      <td>7.637500</td>\n",
       "      <td>18660.875000</td>\n",
       "      <td>1.960255e+07</td>\n",
       "    </tr>\n",
       "    <tr>\n",
       "      <th>Documentary</th>\n",
       "      <td>80.890756</td>\n",
       "      <td>7.861345</td>\n",
       "      <td>2056.613445</td>\n",
       "      <td>1.492925e+07</td>\n",
       "    </tr>\n",
       "  </tbody>\n",
       "</table>\n",
       "</div>"
      ],
      "text/plain": [
       "                runtime    rating      numvotes    box_office\n",
       "genres                                                       \n",
       "Romance      100.515152  7.712121   7489.393939  5.410997e+07\n",
       "Comedy        87.895833  7.822917  22097.083333  4.247797e+07\n",
       "Animation     85.585366  7.539024   6633.804878  3.740536e+07\n",
       "Horror        91.200000  7.520000    102.333333  3.054741e+07\n",
       "Drama        101.260274  7.569863  59109.369863  2.426281e+07\n",
       "Western       91.312500  7.637500  18660.875000  1.960255e+07\n",
       "Documentary   80.890756  7.861345   2056.613445  1.492925e+07"
      ]
     },
     "execution_count": 137,
     "metadata": {},
     "output_type": "execute_result"
    }
   ],
   "source": [
    "# create a new data frame grouped by the (genres) colunm and calculate its mean\n",
    "genre_box_office = final.groupby(\"genres\").mean()\n",
    "genre_box_office = genre_box_office.sort_values(by = \"box_office\",ascending = [False])\n",
    "genre_box_office"
   ]
  },
  {
   "cell_type": "markdown",
   "metadata": {},
   "source": [
    "We found that Romance genre gains highest profits ,on the other hand , Documentary genre gets the lowest profits."
   ]
  },
  {
   "cell_type": "markdown",
   "metadata": {},
   "source": [
    "### Data visualization"
   ]
  },
  {
   "cell_type": "markdown",
   "metadata": {},
   "source": [
    "A quick introduction to Matplotlib and seaborn libraries.\n",
    "\n",
    "Matpalotlib is a comprehensive library for creating static, animated, and interactive visualizations in Python. Most of the Matplotlib utilities lies under the pyplot submodule usually imported under the plt alias.\n",
    "\n",
    "Seaborn is a Python data visualization library based on matplotlib. It provides a high-level interface for drawing attractive and informative statistical graphics.Seaborn has many of its own high-level plotting routines, but it can also overwrite Matplotlib's default parameters and in turn get even simple Matplotlib scripts to produce vastly superior output."
   ]
  },
  {
   "cell_type": "markdown",
   "metadata": {},
   "source": [
    "#### Plotting with categorical data\n",
    "In seaborn, there are several different ways to visualize a relationship involving categorical data.We would use Bar plot."
   ]
  },
  {
   "cell_type": "markdown",
   "metadata": {},
   "source": [
    "#### Bar plots\n",
    "In seaborn, the barplot() function operates on a full dataset and applies a function to obtain the estimate (taking the mean by default). When there are multiple observations in each category.(https://seaborn.pydata.org/tutorial/categorical.html)"
   ]
  },
  {
   "cell_type": "code",
   "execution_count": 138,
   "metadata": {},
   "outputs": [
    {
     "data": {
      "text/plain": [
       "(array([ 0., 10., 20., 30., 40., 50., 60.]),\n",
       " [Text(0.0, 0, '0'),\n",
       "  Text(10.0, 0, '10'),\n",
       "  Text(20.0, 0, '20'),\n",
       "  Text(30.0, 0, '30'),\n",
       "  Text(40.0, 0, '40'),\n",
       "  Text(50.0, 0, '50'),\n",
       "  Text(60.0, 0, '60')])"
      ]
     },
     "execution_count": 138,
     "metadata": {},
     "output_type": "execute_result"
    },
    {
     "data": {
      "image/png": "[encoded data removed]",
      "text/plain": [
       "<Figure size 640x480 with 1 Axes>"
      ]
     },
     "metadata": {},
     "output_type": "display_data"
    }
   ],
   "source": [
    "# set plot style: grey grid in the background:\n",
    "sns.set(style=\"darkgrid\")\n",
    "\n",
    "# create a Categorical Plot (bar) kind.\n",
    "# Passing data and assigning x and y \n",
    "\n",
    "sns.barplot(y = genre_box_office.index, \n",
    "                x = genre_box_office ['box_office']/1000000, \n",
    "                data= genre_box_office ,\n",
    "                palette=\"ch:.25\",\n",
    "                edgecolor=\".8\"); \n",
    "\n",
    "\n",
    "\n",
    "# Set title with matplotlib\n",
    "plt.title(\"Box Office Profits \\nAveraged by Movie's Genre\" ,color='m',pad =20,fontweight='bold',fontsize=20)\n",
    "# Add x-axis label \n",
    "plt.xlabel(\"Box Office Profits(Millions $)\",color='m',labelpad=30,fontweight='bold',fontsize=20)\n",
    "# Add y-axis label\n",
    "plt.ylabel(\"Movie Genre\",color='m',labelpad=30,fontweight='bold',fontsize=20)\n",
    "# customize labelsi\n",
    "plt.xticks(fontweight='bold',fontsize=10)\n"
   ]
  },
  {
   "cell_type": "markdown",
   "metadata": {},
   "source": [
    "Based on the information we got from grouping the final data frame, the highest box office profits we got for the Romance genre.However, the lowest box office profits went to the Documentary genre."
   ]
  },
  {
   "cell_type": "markdown",
   "metadata": {},
   "source": [
    "To clarify the relationship between the boxoffice revenue and the movie's director name we will group our dataframe by directors, and display the top five rows of the dataframe."
   ]
  },
  {
   "cell_type": "code",
   "execution_count": 139,
   "metadata": {},
   "outputs": [
    {
     "name": "stderr",
     "output_type": "stream",
     "text": [
      "C:\\Users\\mays8\\AppData\\Local\\Temp\\ipykernel_4104\\3478080487.py:2: FutureWarning: The default value of numeric_only in DataFrameGroupBy.mean is deprecated. In a future version, numeric_only will default to False. Either specify numeric_only or select only columns which should be valid for the function.\n",
      "  director_box_office = final.groupby(\"director\").mean()\n"
     ]
    },
    {
     "data": {
      "text/html": [
       "<div>\n",
       "<style scoped>\n",
       "    .dataframe tbody tr th:only-of-type {\n",
       "        vertical-align: middle;\n",
       "    }\n",
       "\n",
       "    .dataframe tbody tr th {\n",
       "        vertical-align: top;\n",
       "    }\n",
       "\n",
       "    .dataframe thead th {\n",
       "        text-align: right;\n",
       "    }\n",
       "</style>\n",
       "<table border=\"1\" class=\"dataframe\">\n",
       "  <thead>\n",
       "    <tr style=\"text-align: right;\">\n",
       "      <th></th>\n",
       "      <th>runtime</th>\n",
       "      <th>rating</th>\n",
       "      <th>numvotes</th>\n",
       "      <th>box_office</th>\n",
       "    </tr>\n",
       "    <tr>\n",
       "      <th>director</th>\n",
       "      <th></th>\n",
       "      <th></th>\n",
       "      <th></th>\n",
       "      <th></th>\n",
       "    </tr>\n",
       "  </thead>\n",
       "  <tbody>\n",
       "    <tr>\n",
       "      <th>Mel Gibson</th>\n",
       "      <td>101.260274</td>\n",
       "      <td>7.569863</td>\n",
       "      <td>59109.369863</td>\n",
       "      <td>368000000.0</td>\n",
       "    </tr>\n",
       "    <tr>\n",
       "      <th>Jay Roach</th>\n",
       "      <td>87.895833</td>\n",
       "      <td>7.822917</td>\n",
       "      <td>22097.083333</td>\n",
       "      <td>279167575.0</td>\n",
       "    </tr>\n",
       "    <tr>\n",
       "      <th>Joel Zwick</th>\n",
       "      <td>93.037037</td>\n",
       "      <td>7.777778</td>\n",
       "      <td>16145.802469</td>\n",
       "      <td>241250669.0</td>\n",
       "    </tr>\n",
       "    <tr>\n",
       "      <th>Peter Berg</th>\n",
       "      <td>95.958678</td>\n",
       "      <td>7.670248</td>\n",
       "      <td>44426.809917</td>\n",
       "      <td>227946274.0</td>\n",
       "    </tr>\n",
       "    <tr>\n",
       "      <th>Justin Lin</th>\n",
       "      <td>101.260274</td>\n",
       "      <td>7.569863</td>\n",
       "      <td>59109.369863</td>\n",
       "      <td>209805005.0</td>\n",
       "    </tr>\n",
       "  </tbody>\n",
       "</table>\n",
       "</div>"
      ],
      "text/plain": [
       "               runtime    rating      numvotes   box_office\n",
       "director                                                   \n",
       "Mel Gibson  101.260274  7.569863  59109.369863  368000000.0\n",
       "Jay Roach    87.895833  7.822917  22097.083333  279167575.0\n",
       "Joel Zwick   93.037037  7.777778  16145.802469  241250669.0\n",
       "Peter Berg   95.958678  7.670248  44426.809917  227946274.0\n",
       "Justin Lin  101.260274  7.569863  59109.369863  209805005.0"
      ]
     },
     "execution_count": 139,
     "metadata": {},
     "output_type": "execute_result"
    }
   ],
   "source": [
    "#### calculate some basic statistical \n",
    "director_box_office = final.groupby(\"director\").mean()\n",
    "director_box_office = director_box_office.sort_values(by = \"box_office\",ascending = [False]).head()\n",
    "director_box_office"
   ]
  },
  {
   "cell_type": "markdown",
   "metadata": {},
   "source": [
    "We can notice here that movies signed by Mel Gibson's name gain the highest profits at the box office."
   ]
  },
  {
   "cell_type": "markdown",
   "metadata": {},
   "source": [
    "#### Data visualization\n",
    "\n",
    "Let's also plot out our data to clarify the avarage of box office profits based on the director's name using \"bar\" kind from Categorical plot.\n",
    "\n",
    "Plotting with categorical data In seaborn, there are several different ways to visualize a relationship involving categorical data.We would use Bar plot.\n",
    "\n",
    "Bar plots In seaborn, the barplot() function operates on a full dataset and applies a function to obtain the estimate (taking the mean by default). When there are multiple observations in each category.(https://seaborn.pydata.org/tutorial/categorical.html)"
   ]
  },
  {
   "cell_type": "code",
   "execution_count": 140,
   "metadata": {},
   "outputs": [
    {
     "data": {
      "text/plain": [
       "(array([0, 1, 2, 3, 4]),\n",
       " [Text(0, 0, 'Mel Gibson'),\n",
       "  Text(1, 0, 'Jay Roach'),\n",
       "  Text(2, 0, 'Joel Zwick'),\n",
       "  Text(3, 0, 'Peter Berg'),\n",
       "  Text(4, 0, 'Justin Lin')])"
      ]
     },
     "execution_count": 140,
     "metadata": {},
     "output_type": "execute_result"
    },
    {
     "data": {
      "image/png": "[encoded data removed]",
      "text/plain": [
       "<Figure size 640x480 with 1 Axes>"
      ]
     },
     "metadata": {},
     "output_type": "display_data"
    }
   ],
   "source": [
    "# set plot style: grey grid in the background:\n",
    "sns.set(style=\"darkgrid\")\n",
    "\n",
    "# create a Categorical Plot (bar) kind.\n",
    "# Passing data and assigning x and y \n",
    "\n",
    "sns.barplot(data = director_box_office, x = director_box_office.index, y = director_box_office[\"box_office\"]/1000000,\n",
    "             palette=\"Greens_d\")\n",
    "\n",
    "\n",
    "# Set title with matplotlib\n",
    "plt.title(\"Box Office Profits Averaged by Director's Name\" ,color='y',pad =20,fontweight='bold',fontsize=15)\n",
    "# Add x-axis label \n",
    "plt.xlabel(\"Director's Name\",color='y',labelpad=30,fontweight='bold',fontsize=15)\n",
    "# Add y-axis label\n",
    "plt.ylabel(\"Box Office Profits(Millions $)\",color='y',labelpad=30,fontweight='bold',fontsize=15)\n",
    "# customize labelsi\n",
    "plt.xticks(fontweight='bold',fontsize=10,rotation=45)\n"
   ]
  },
  {
   "cell_type": "markdown",
   "metadata": {},
   "source": [
    "Notice that Mel Gibson's name gained the highest box office profits."
   ]
  },
  {
   "cell_type": "markdown",
   "metadata": {},
   "source": [
    "To clarify the relationship between the movie's released month and the boxoffice revenue, we will extract the released month, then group the dataframe by the \"month\" column by using the.groupby() method. We have to add an aggregation function (likemean) to the group. This allows us to compute summary statistics! We would use.sort_values to view the data frame organized based on box_office profits."
   ]
  },
  {
   "cell_type": "code",
   "execution_count": 141,
   "metadata": {},
   "outputs": [
    {
     "data": {
      "text/html": [
       "<div>\n",
       "<style scoped>\n",
       "    .dataframe tbody tr th:only-of-type {\n",
       "        vertical-align: middle;\n",
       "    }\n",
       "\n",
       "    .dataframe tbody tr th {\n",
       "        vertical-align: top;\n",
       "    }\n",
       "\n",
       "    .dataframe thead th {\n",
       "        text-align: right;\n",
       "    }\n",
       "</style>\n",
       "<table border=\"1\" class=\"dataframe\">\n",
       "  <thead>\n",
       "    <tr style=\"text-align: right;\">\n",
       "      <th></th>\n",
       "      <th>Title</th>\n",
       "      <th>genres</th>\n",
       "      <th>runtime</th>\n",
       "      <th>rating</th>\n",
       "      <th>numvotes</th>\n",
       "      <th>director</th>\n",
       "      <th>release_date</th>\n",
       "      <th>currency</th>\n",
       "      <th>box_office</th>\n",
       "      <th>review</th>\n",
       "      <th>critic</th>\n",
       "      <th>publisher</th>\n",
       "      <th>month</th>\n",
       "    </tr>\n",
       "  </thead>\n",
       "  <tbody>\n",
       "    <tr>\n",
       "      <th>0</th>\n",
       "      <td>Love on a Leash</td>\n",
       "      <td>Documentary</td>\n",
       "      <td>10.0</td>\n",
       "      <td>9.7</td>\n",
       "      <td>25</td>\n",
       "      <td>Jeffrey Levy-Hinte</td>\n",
       "      <td>2009-07-10</td>\n",
       "      <td>$</td>\n",
       "      <td>200000.0</td>\n",
       "      <td>James Brown and B.B. King anchor this footnote...</td>\n",
       "      <td>Robert Davis</td>\n",
       "      <td>Paste Magazine</td>\n",
       "      <td>July</td>\n",
       "    </tr>\n",
       "    <tr>\n",
       "      <th>1</th>\n",
       "      <td>Love on a Leash</td>\n",
       "      <td>Documentary</td>\n",
       "      <td>10.0</td>\n",
       "      <td>9.7</td>\n",
       "      <td>25</td>\n",
       "      <td>Jeffrey Levy-Hinte</td>\n",
       "      <td>2009-07-10</td>\n",
       "      <td>$</td>\n",
       "      <td>200000.0</td>\n",
       "      <td>Director Jeffrey Levy-Hinte pads out the conce...</td>\n",
       "      <td>Peter Rainer</td>\n",
       "      <td>Christian Science Monitor</td>\n",
       "      <td>July</td>\n",
       "    </tr>\n",
       "    <tr>\n",
       "      <th>2</th>\n",
       "      <td>Love on a Leash</td>\n",
       "      <td>Documentary</td>\n",
       "      <td>10.0</td>\n",
       "      <td>9.7</td>\n",
       "      <td>25</td>\n",
       "      <td>Jeffrey Levy-Hinte</td>\n",
       "      <td>2009-07-10</td>\n",
       "      <td>$</td>\n",
       "      <td>200000.0</td>\n",
       "      <td>A vibrant and joyous new documentary.</td>\n",
       "      <td>Kenneth Turan</td>\n",
       "      <td>Los Angeles Times</td>\n",
       "      <td>July</td>\n",
       "    </tr>\n",
       "    <tr>\n",
       "      <th>3</th>\n",
       "      <td>Love on a Leash</td>\n",
       "      <td>Documentary</td>\n",
       "      <td>10.0</td>\n",
       "      <td>9.7</td>\n",
       "      <td>25</td>\n",
       "      <td>Jeffrey Levy-Hinte</td>\n",
       "      <td>2009-07-10</td>\n",
       "      <td>$</td>\n",
       "      <td>200000.0</td>\n",
       "      <td>Director Jeffrey Levy-Hinte does a terrific jo...</td>\n",
       "      <td>Elizabeth Weitzman</td>\n",
       "      <td>New York Daily News</td>\n",
       "      <td>July</td>\n",
       "    </tr>\n",
       "    <tr>\n",
       "      <th>4</th>\n",
       "      <td>Love on a Leash</td>\n",
       "      <td>Documentary</td>\n",
       "      <td>10.0</td>\n",
       "      <td>9.7</td>\n",
       "      <td>25</td>\n",
       "      <td>Jeffrey Levy-Hinte</td>\n",
       "      <td>2009-07-10</td>\n",
       "      <td>$</td>\n",
       "      <td>200000.0</td>\n",
       "      <td>The behind the scenes record of the event is f...</td>\n",
       "      <td>Pam Grady</td>\n",
       "      <td>Boxoffice Magazine</td>\n",
       "      <td>July</td>\n",
       "    </tr>\n",
       "  </tbody>\n",
       "</table>\n",
       "</div>"
      ],
      "text/plain": [
       "             Title       genres  runtime  rating  numvotes  \\\n",
       "0  Love on a Leash  Documentary     10.0     9.7        25   \n",
       "1  Love on a Leash  Documentary     10.0     9.7        25   \n",
       "2  Love on a Leash  Documentary     10.0     9.7        25   \n",
       "3  Love on a Leash  Documentary     10.0     9.7        25   \n",
       "4  Love on a Leash  Documentary     10.0     9.7        25   \n",
       "\n",
       "             director release_date currency  box_office  \\\n",
       "0  Jeffrey Levy-Hinte   2009-07-10        $    200000.0   \n",
       "1  Jeffrey Levy-Hinte   2009-07-10        $    200000.0   \n",
       "2  Jeffrey Levy-Hinte   2009-07-10        $    200000.0   \n",
       "3  Jeffrey Levy-Hinte   2009-07-10        $    200000.0   \n",
       "4  Jeffrey Levy-Hinte   2009-07-10        $    200000.0   \n",
       "\n",
       "                                              review              critic  \\\n",
       "0  James Brown and B.B. King anchor this footnote...        Robert Davis   \n",
       "1  Director Jeffrey Levy-Hinte pads out the conce...        Peter Rainer   \n",
       "2              A vibrant and joyous new documentary.       Kenneth Turan   \n",
       "3  Director Jeffrey Levy-Hinte does a terrific jo...  Elizabeth Weitzman   \n",
       "4  The behind the scenes record of the event is f...           Pam Grady   \n",
       "\n",
       "                   publisher month  \n",
       "0             Paste Magazine  July  \n",
       "1  Christian Science Monitor  July  \n",
       "2          Los Angeles Times  July  \n",
       "3        New York Daily News  July  \n",
       "4         Boxoffice Magazine  July  "
      ]
     },
     "execution_count": 141,
     "metadata": {},
     "output_type": "execute_result"
    }
   ],
   "source": [
    "# Extract Month from \"release_date\" column\n",
    "# convert the month formate from number to name \n",
    "\n",
    "final['month'] = pd.to_datetime(final['release_date']).dt.month_name()\n",
    "\n",
    "final.head()"
   ]
  },
  {
   "cell_type": "code",
   "execution_count": 142,
   "metadata": {},
   "outputs": [
    {
     "name": "stderr",
     "output_type": "stream",
     "text": [
      "C:\\Users\\mays8\\AppData\\Local\\Temp\\ipykernel_4104\\483498838.py:4: FutureWarning: The default value of numeric_only in DataFrameGroupBy.mean is deprecated. In a future version, numeric_only will default to False. Either specify numeric_only or select only columns which should be valid for the function.\n",
      "  month_df = final.groupby(\"month\").mean()\n"
     ]
    },
    {
     "data": {
      "text/html": [
       "<div>\n",
       "<style scoped>\n",
       "    .dataframe tbody tr th:only-of-type {\n",
       "        vertical-align: middle;\n",
       "    }\n",
       "\n",
       "    .dataframe tbody tr th {\n",
       "        vertical-align: top;\n",
       "    }\n",
       "\n",
       "    .dataframe thead th {\n",
       "        text-align: right;\n",
       "    }\n",
       "</style>\n",
       "<table border=\"1\" class=\"dataframe\">\n",
       "  <thead>\n",
       "    <tr style=\"text-align: right;\">\n",
       "      <th></th>\n",
       "      <th>runtime</th>\n",
       "      <th>rating</th>\n",
       "      <th>numvotes</th>\n",
       "      <th>box_office</th>\n",
       "    </tr>\n",
       "    <tr>\n",
       "      <th>month</th>\n",
       "      <th></th>\n",
       "      <th></th>\n",
       "      <th></th>\n",
       "      <th></th>\n",
       "    </tr>\n",
       "  </thead>\n",
       "  <tbody>\n",
       "    <tr>\n",
       "      <th>February</th>\n",
       "      <td>95.456696</td>\n",
       "      <td>7.660764</td>\n",
       "      <td>35000.165891</td>\n",
       "      <td>6.550281e+07</td>\n",
       "    </tr>\n",
       "    <tr>\n",
       "      <th>June</th>\n",
       "      <td>96.943664</td>\n",
       "      <td>7.657047</td>\n",
       "      <td>38162.537250</td>\n",
       "      <td>4.826348e+07</td>\n",
       "    </tr>\n",
       "    <tr>\n",
       "      <th>July</th>\n",
       "      <td>93.882406</td>\n",
       "      <td>7.692994</td>\n",
       "      <td>36007.990965</td>\n",
       "      <td>4.560308e+07</td>\n",
       "    </tr>\n",
       "    <tr>\n",
       "      <th>December</th>\n",
       "      <td>97.491558</td>\n",
       "      <td>7.644625</td>\n",
       "      <td>45978.128733</td>\n",
       "      <td>4.549007e+07</td>\n",
       "    </tr>\n",
       "    <tr>\n",
       "      <th>October</th>\n",
       "      <td>95.068660</td>\n",
       "      <td>7.655686</td>\n",
       "      <td>39227.184936</td>\n",
       "      <td>3.666594e+07</td>\n",
       "    </tr>\n",
       "    <tr>\n",
       "      <th>April</th>\n",
       "      <td>94.067104</td>\n",
       "      <td>7.689839</td>\n",
       "      <td>34785.196178</td>\n",
       "      <td>3.098256e+07</td>\n",
       "    </tr>\n",
       "    <tr>\n",
       "      <th>September</th>\n",
       "      <td>97.214245</td>\n",
       "      <td>7.646267</td>\n",
       "      <td>46022.839663</td>\n",
       "      <td>3.015639e+07</td>\n",
       "    </tr>\n",
       "    <tr>\n",
       "      <th>March</th>\n",
       "      <td>96.248117</td>\n",
       "      <td>7.651940</td>\n",
       "      <td>41813.349240</td>\n",
       "      <td>2.974523e+07</td>\n",
       "    </tr>\n",
       "    <tr>\n",
       "      <th>November</th>\n",
       "      <td>95.746254</td>\n",
       "      <td>7.651290</td>\n",
       "      <td>38491.910297</td>\n",
       "      <td>2.512629e+07</td>\n",
       "    </tr>\n",
       "    <tr>\n",
       "      <th>August</th>\n",
       "      <td>94.943517</td>\n",
       "      <td>7.677344</td>\n",
       "      <td>38412.007387</td>\n",
       "      <td>2.056217e+07</td>\n",
       "    </tr>\n",
       "    <tr>\n",
       "      <th>May</th>\n",
       "      <td>94.289892</td>\n",
       "      <td>7.695362</td>\n",
       "      <td>34152.609056</td>\n",
       "      <td>2.045612e+07</td>\n",
       "    </tr>\n",
       "    <tr>\n",
       "      <th>January</th>\n",
       "      <td>100.784581</td>\n",
       "      <td>7.577869</td>\n",
       "      <td>57569.685372</td>\n",
       "      <td>1.787030e+07</td>\n",
       "    </tr>\n",
       "  </tbody>\n",
       "</table>\n",
       "</div>"
      ],
      "text/plain": [
       "              runtime    rating      numvotes    box_office\n",
       "month                                                      \n",
       "February    95.456696  7.660764  35000.165891  6.550281e+07\n",
       "June        96.943664  7.657047  38162.537250  4.826348e+07\n",
       "July        93.882406  7.692994  36007.990965  4.560308e+07\n",
       "December    97.491558  7.644625  45978.128733  4.549007e+07\n",
       "October     95.068660  7.655686  39227.184936  3.666594e+07\n",
       "April       94.067104  7.689839  34785.196178  3.098256e+07\n",
       "September   97.214245  7.646267  46022.839663  3.015639e+07\n",
       "March       96.248117  7.651940  41813.349240  2.974523e+07\n",
       "November    95.746254  7.651290  38491.910297  2.512629e+07\n",
       "August      94.943517  7.677344  38412.007387  2.056217e+07\n",
       "May         94.289892  7.695362  34152.609056  2.045612e+07\n",
       "January    100.784581  7.577869  57569.685372  1.787030e+07"
      ]
     },
     "execution_count": 142,
     "metadata": {},
     "output_type": "execute_result"
    }
   ],
   "source": [
    "# create a new data frame grouped by months names and calculate the mean values \n",
    "# display the new dataframe \n",
    "\n",
    "month_df = final.groupby(\"month\").mean()\n",
    "month_df = month_df.sort_values(by = \"box_office\",ascending = [False])\n",
    "month_df\n"
   ]
  },
  {
   "cell_type": "markdown",
   "metadata": {},
   "source": [
    "We noticed that the highest box office profits were recorded in February,during Valantine  season.\n",
    "\n"
   ]
  },
  {
   "cell_type": "markdown",
   "metadata": {},
   "source": [
    "#### Data visualization\n",
    "Let's also plot out our data to clarify the avarage of box office profits per every month using \"bar\" kind from Categorical plot.\n",
    "\n",
    "Plotting with categorical data\n",
    "In seaborn, there are several different ways to visualize a relationship involving categorical data.We would use Bar plot.\n",
    "\n",
    "Bar plots In seaborn, the barplot() function operates on a full dataset and applies a function to obtain the estimate (taking the mean by default). When there are multiple observations in each category.(https://seaborn.pydata.org/tutorial/categorical.html)"
   ]
  },
  {
   "cell_type": "code",
   "execution_count": 143,
   "metadata": {
    "scrolled": true
   },
   "outputs": [
    {
     "data": {
      "text/plain": [
       "(array([ 0,  1,  2,  3,  4,  5,  6,  7,  8,  9, 10, 11]),\n",
       " [Text(0, 0, 'February'),\n",
       "  Text(0, 1, 'June'),\n",
       "  Text(0, 2, 'July'),\n",
       "  Text(0, 3, 'December'),\n",
       "  Text(0, 4, 'October'),\n",
       "  Text(0, 5, 'April'),\n",
       "  Text(0, 6, 'September'),\n",
       "  Text(0, 7, 'March'),\n",
       "  Text(0, 8, 'November'),\n",
       "  Text(0, 9, 'August'),\n",
       "  Text(0, 10, 'May'),\n",
       "  Text(0, 11, 'January')])"
      ]
     },
     "execution_count": 143,
     "metadata": {},
     "output_type": "execute_result"
    },
    {
     "data": {
      "image/png": "[encoded data removed]",
      "text/plain": [
       "<Figure size 640x480 with 1 Axes>"
      ]
     },
     "metadata": {},
     "output_type": "display_data"
    }
   ],
   "source": [
    "# set plot style: grey grid in the background:\n",
    "sns.set(style=\"darkgrid\")\n",
    "\n",
    "# create a Categorical Plot \n",
    "# Passing data and assigning x and y \n",
    "\n",
    "sns.barplot(x = month_df['box_office']/1000000, \n",
    "                y = month_df.index, \n",
    "                data= month_df ,\n",
    "                palette=\"Set2\" ,\n",
    "                edgecolor=\".8\"); \n",
    "\n",
    "# Set title with matplotlib\n",
    "plt.title(\"Box Office Profits Averaged by Movie's release Month\",color='g',pad=20,fontweight='bold',fontsize=20)\n",
    "# Add x-axis label\n",
    "plt.xlabel(\"Box Office Profits (Millions USD)\",color='g',labelpad=10,fontweight='bold',fontsize=20)\n",
    "# Add y-axis label\n",
    "plt.ylabel(\"Release Month\",color='g',labelpad=10,fontweight='bold',fontsize=20)\n",
    "# customize labels\n",
    "plt.xticks([1,5,10,15,20,25,30,35,40,45,50,55,60],fontweight='bold',fontsize=10)\n",
    "plt.yticks(fontweight='bold',fontsize=10)\n"
   ]
  },
  {
   "cell_type": "markdown",
   "metadata": {},
   "source": [
    "We notice that,The highest value of box office profits had achieved in February during Winter seasons"
   ]
  },
  {
   "cell_type": "markdown",
   "metadata": {},
   "source": [
    "## Results"
   ]
  },
  {
   "cell_type": "markdown",
   "metadata": {},
   "source": [
    "According to the data that we analized above, We found some factors directly affect movie's profits on Box Office:\n",
    "\n"
   ]
  },
  {
   "cell_type": "markdown",
   "metadata": {},
   "source": [
    "#### First : Movies Genre \n",
    "As we can show from the figure below , box office profits increase in some movie genres.\n",
    "\n",
    "The box office profits were recorded (Romance,Comedy,Animation,Horror,Drama).However, the highest number of produced movies falls under Drama Genre."
   ]
  },
  {
   "cell_type": "markdown",
   "metadata": {
    "scrolled": true
   },
   "source": [
    "![genre.png](images/genre.png)"
   ]
  },
  {
   "cell_type": "markdown",
   "metadata": {},
   "source": [
    "#### Second : Director's Name\n",
    "When we take a look at the figure below , we can notify the postive corelation between the movie's Directos name and the movie's boxoffice profits."
   ]
  },
  {
   "cell_type": "markdown",
   "metadata": {},
   "source": [
    "![director.png](images/director.png)"
   ]
  },
  {
   "cell_type": "markdown",
   "metadata": {},
   "source": [
    "#### Third : Released date\n",
    "When we take a look at the figure below , we can show the clear relationship between the box office profits based on the month that the movie was released in.The highest profits were reported in February during Valentin's season"
   ]
  },
  {
   "cell_type": "markdown",
   "metadata": {
    "scrolled": false
   },
   "source": [
    "![month.png](images/month.png)"
   ]
  },
  {
   "cell_type": "markdown",
   "metadata": {},
   "source": [
    "## Conclusion\n",
    "This analysis leads to three recommendations for helping Microsoft to understand the factors that are affecting their profits.\n",
    "\n",
    "1.More accurate forecasting of the movie genres most likely to bring in more money Which movie genre receives the highest box office profits\n",
    "\n",
    "2.Director is an especially important role in the success of a film. director’s reputation can often influence whether the audience go and see a film, or even buy it because they have trust in the director’s style and reputation.\n",
    "\n",
    "3.More accurate estimation of the film's cinema release time. This model might make use of information that is currently accessible, such as monthly averages for box office revenues."
   ]
  },
  {
   "cell_type": "markdown",
   "metadata": {},
   "source": [
    "## Recommendations\n",
    "Based on the results , our recommendations would be in three areas:\n",
    "\n",
    "1.Movie's Genre: Microsoft should pay more attention to the movie genre, which gains more profits at the box office? As we found the movies in the Romance genre achieved the highest box office revenues.\n",
    "\n",
    "2.Director's Name: Microsoft should deal with a famous director who has developed a brilliant reputation over the years and has a broad audience trust, As we found, Mel Gibson gained the highest box office revenues.\n",
    "\n",
    "3.Movie's released month: Microsoft should release their movie in February during valantine season,when the box office gains highest profits at that time.\n",
    "\n"
   ]
  },
  {
   "cell_type": "code",
   "execution_count": null,
   "metadata": {},
   "outputs": [],
   "source": []
  }
 ],
 "metadata": {
  "kernelspec": {
   "display_name": "Python 3 (ipykernel)",
   "language": "python",
   "name": "python3"
  },
  "language_info": {
   "codemirror_mode": {
    "name": "ipython",
    "version": 3
   },
   "file_extension": ".py",
   "mimetype": "text/x-python",
   "name": "python",
   "nbconvert_exporter": "python",
   "pygments_lexer": "ipython3",
   "version": "3.11.3"
  }
 },
 "nbformat": 4,
 "nbformat_minor": 2
}
